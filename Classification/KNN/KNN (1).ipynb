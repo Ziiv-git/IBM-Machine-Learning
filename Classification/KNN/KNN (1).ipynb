{
  "nbformat": 4,
  "nbformat_minor": 0,
  "metadata": {
    "kernelspec": {
      "display_name": "Python 3",
      "language": "python",
      "name": "python3"
    },
    "language_info": {
      "codemirror_mode": {
        "name": "ipython",
        "version": 3
      },
      "file_extension": ".py",
      "mimetype": "text/x-python",
      "name": "python",
      "nbconvert_exporter": "python",
      "pygments_lexer": "ipython3",
      "version": "3.7.4"
    },
    "colab": {
      "name": "KNN.ipynb",
      "provenance": []
    }
  },
  "cells": [
    {
      "cell_type": "markdown",
      "metadata": {
        "id": "3aY60iehPTwG"
      },
      "source": [
        "# Machine Learning Foundation\n",
        "\n",
        "## Course 3, Part b: K-Nearest Neighbor LAB"
      ]
    },
    {
      "cell_type": "markdown",
      "metadata": {
        "id": "2wZTHf8LPTwL"
      },
      "source": [
        "## Introduction and Learning Goals\n",
        "\n",
        "In this lab, we explore classification using the K-Nearest Neighbors approach. We use a customer churn dataset from the telecom industry which includes customer data, usage of long-distance, data usage, monthly revenue, type of offerings, and other services purchased by customers. The data, based on a fictional telecom firm, include several Excel files which have been combined and are available in the course materials. We are using the subset of customers who have phone accounts. Since the data include a mix of numeric, categorical, and ordinal variables, we will load this data and do some preprocessing, then use K-nearest neighbors to predict customer churn rates.\n",
        "\n",
        "After completing this lab, you should have a working understanding of how to preprocess a variety of variables in order to apply the K-Nearest Neighbors algorithm, understand how to choose K, and understand how to evaluate model performance."
      ]
    },
    {
      "cell_type": "code",
      "metadata": {
        "id": "JgoQOEHyPTwL"
      },
      "source": [
        "import pandas as pd, numpy as np, matplotlib.pyplot as plt, os, sys, seaborn as sns\n",
        "# os.chdir('data')\n",
        "from datasetup import churndata, colors, palette\n",
        "sns.set_palette(palette)"
      ],
      "execution_count": null,
      "outputs": []
    },
    {
      "cell_type": "markdown",
      "metadata": {
        "id": "iiJvFMWbPTwM"
      },
      "source": [
        "## Question 1\n",
        "\n",
        "* We begin by importing the data. Examine the columns and data.\n",
        "* Notice that the data contains a unique ID, an indicator for phone customer status, total lifetime value, total revenue, and a bank-estimated churn score. We will not be using these features, so they can be dropped from the data.\n",
        "* Begin by taking an initial look at the data, including both numeric and non-numeric features."
      ]
    },
    {
      "cell_type": "code",
      "metadata": {
        "id": "1oKH_77SP4Qt"
      },
      "source": [
        "import pandas as pd\n",
        "churndata = pd.read_pickle(\"/content/sample_data/churndata.pkl\")"
      ],
      "execution_count": 4,
      "outputs": []
    },
    {
      "cell_type": "code",
      "metadata": {
        "id": "4xQDymY5PTwM"
      },
      "source": [
        "### BEGIN SOLUTION\n",
        "df = churndata.drop(columns=['id', 'phone', 'total_revenue', 'cltv', 'churn_score'])"
      ],
      "execution_count": 5,
      "outputs": []
    },
    {
      "cell_type": "code",
      "metadata": {
        "colab": {
          "base_uri": "https://localhost:8080/",
          "height": 286
        },
        "id": "sfNbJ4YLPTwM",
        "outputId": "1de41a1b-4192-4e21-c8fa-d80d764a9d16"
      },
      "source": [
        "round(df.describe(),2)"
      ],
      "execution_count": 6,
      "outputs": [
        {
          "output_type": "execute_result",
          "data": {
            "text/html": [
              "<div>\n",
              "<style scoped>\n",
              "    .dataframe tbody tr th:only-of-type {\n",
              "        vertical-align: middle;\n",
              "    }\n",
              "\n",
              "    .dataframe tbody tr th {\n",
              "        vertical-align: top;\n",
              "    }\n",
              "\n",
              "    .dataframe thead th {\n",
              "        text-align: right;\n",
              "    }\n",
              "</style>\n",
              "<table border=\"1\" class=\"dataframe\">\n",
              "  <thead>\n",
              "    <tr style=\"text-align: right;\">\n",
              "      <th></th>\n",
              "      <th>months</th>\n",
              "      <th>gb_mon</th>\n",
              "      <th>monthly</th>\n",
              "      <th>satisfaction</th>\n",
              "      <th>churn_value</th>\n",
              "    </tr>\n",
              "  </thead>\n",
              "  <tbody>\n",
              "    <tr>\n",
              "      <th>count</th>\n",
              "      <td>7043.00</td>\n",
              "      <td>7043.00</td>\n",
              "      <td>7043.00</td>\n",
              "      <td>7043.00</td>\n",
              "      <td>7043.00</td>\n",
              "    </tr>\n",
              "    <tr>\n",
              "      <th>mean</th>\n",
              "      <td>32.39</td>\n",
              "      <td>20.52</td>\n",
              "      <td>64.76</td>\n",
              "      <td>3.24</td>\n",
              "      <td>0.27</td>\n",
              "    </tr>\n",
              "    <tr>\n",
              "      <th>std</th>\n",
              "      <td>24.54</td>\n",
              "      <td>20.42</td>\n",
              "      <td>30.09</td>\n",
              "      <td>1.20</td>\n",
              "      <td>0.44</td>\n",
              "    </tr>\n",
              "    <tr>\n",
              "      <th>min</th>\n",
              "      <td>1.00</td>\n",
              "      <td>0.00</td>\n",
              "      <td>18.25</td>\n",
              "      <td>1.00</td>\n",
              "      <td>0.00</td>\n",
              "    </tr>\n",
              "    <tr>\n",
              "      <th>25%</th>\n",
              "      <td>9.00</td>\n",
              "      <td>3.00</td>\n",
              "      <td>35.50</td>\n",
              "      <td>3.00</td>\n",
              "      <td>0.00</td>\n",
              "    </tr>\n",
              "    <tr>\n",
              "      <th>50%</th>\n",
              "      <td>29.00</td>\n",
              "      <td>17.00</td>\n",
              "      <td>70.35</td>\n",
              "      <td>3.00</td>\n",
              "      <td>0.00</td>\n",
              "    </tr>\n",
              "    <tr>\n",
              "      <th>75%</th>\n",
              "      <td>55.00</td>\n",
              "      <td>27.00</td>\n",
              "      <td>89.85</td>\n",
              "      <td>4.00</td>\n",
              "      <td>1.00</td>\n",
              "    </tr>\n",
              "    <tr>\n",
              "      <th>max</th>\n",
              "      <td>72.00</td>\n",
              "      <td>85.00</td>\n",
              "      <td>118.75</td>\n",
              "      <td>5.00</td>\n",
              "      <td>1.00</td>\n",
              "    </tr>\n",
              "  </tbody>\n",
              "</table>\n",
              "</div>"
            ],
            "text/plain": [
              "        months   gb_mon  monthly  satisfaction  churn_value\n",
              "count  7043.00  7043.00  7043.00       7043.00      7043.00\n",
              "mean     32.39    20.52    64.76          3.24         0.27\n",
              "std      24.54    20.42    30.09          1.20         0.44\n",
              "min       1.00     0.00    18.25          1.00         0.00\n",
              "25%       9.00     3.00    35.50          3.00         0.00\n",
              "50%      29.00    17.00    70.35          3.00         0.00\n",
              "75%      55.00    27.00    89.85          4.00         1.00\n",
              "max      72.00    85.00   118.75          5.00         1.00"
            ]
          },
          "metadata": {
            "tags": []
          },
          "execution_count": 6
        }
      ]
    },
    {
      "cell_type": "code",
      "metadata": {
        "colab": {
          "base_uri": "https://localhost:8080/",
          "height": 204
        },
        "id": "JYyqPuMMPTwN",
        "outputId": "b14ce1de-ef31-4397-9665-c1c9d4e4c958"
      },
      "source": [
        "df.describe(include='object')\n",
        "### END SOLUTION"
      ],
      "execution_count": 7,
      "outputs": [
        {
          "output_type": "execute_result",
          "data": {
            "text/html": [
              "<div>\n",
              "<style scoped>\n",
              "    .dataframe tbody tr th:only-of-type {\n",
              "        vertical-align: middle;\n",
              "    }\n",
              "\n",
              "    .dataframe tbody tr th {\n",
              "        vertical-align: top;\n",
              "    }\n",
              "\n",
              "    .dataframe thead th {\n",
              "        text-align: right;\n",
              "    }\n",
              "</style>\n",
              "<table border=\"1\" class=\"dataframe\">\n",
              "  <thead>\n",
              "    <tr style=\"text-align: right;\">\n",
              "      <th></th>\n",
              "      <th>offer</th>\n",
              "      <th>multiple</th>\n",
              "      <th>internet_type</th>\n",
              "      <th>security</th>\n",
              "      <th>backup</th>\n",
              "      <th>protection</th>\n",
              "      <th>support</th>\n",
              "      <th>unlimited</th>\n",
              "      <th>contract</th>\n",
              "      <th>paperless</th>\n",
              "      <th>payment</th>\n",
              "    </tr>\n",
              "  </thead>\n",
              "  <tbody>\n",
              "    <tr>\n",
              "      <th>count</th>\n",
              "      <td>7043</td>\n",
              "      <td>7043</td>\n",
              "      <td>7043</td>\n",
              "      <td>7043</td>\n",
              "      <td>7043</td>\n",
              "      <td>7043</td>\n",
              "      <td>7043</td>\n",
              "      <td>7043</td>\n",
              "      <td>7043</td>\n",
              "      <td>7043</td>\n",
              "      <td>7043</td>\n",
              "    </tr>\n",
              "    <tr>\n",
              "      <th>unique</th>\n",
              "      <td>6</td>\n",
              "      <td>2</td>\n",
              "      <td>4</td>\n",
              "      <td>2</td>\n",
              "      <td>2</td>\n",
              "      <td>2</td>\n",
              "      <td>2</td>\n",
              "      <td>2</td>\n",
              "      <td>3</td>\n",
              "      <td>2</td>\n",
              "      <td>3</td>\n",
              "    </tr>\n",
              "    <tr>\n",
              "      <th>top</th>\n",
              "      <td>None</td>\n",
              "      <td>No</td>\n",
              "      <td>Fiber Optic</td>\n",
              "      <td>No</td>\n",
              "      <td>No</td>\n",
              "      <td>No</td>\n",
              "      <td>No</td>\n",
              "      <td>Yes</td>\n",
              "      <td>Month-to-Month</td>\n",
              "      <td>Yes</td>\n",
              "      <td>Bank Withdrawal</td>\n",
              "    </tr>\n",
              "    <tr>\n",
              "      <th>freq</th>\n",
              "      <td>3877</td>\n",
              "      <td>4072</td>\n",
              "      <td>3035</td>\n",
              "      <td>5024</td>\n",
              "      <td>4614</td>\n",
              "      <td>4621</td>\n",
              "      <td>4999</td>\n",
              "      <td>4745</td>\n",
              "      <td>3610</td>\n",
              "      <td>4171</td>\n",
              "      <td>3909</td>\n",
              "    </tr>\n",
              "  </tbody>\n",
              "</table>\n",
              "</div>"
            ],
            "text/plain": [
              "       offer multiple internet_type  ...        contract paperless          payment\n",
              "count   7043     7043          7043  ...            7043      7043             7043\n",
              "unique     6        2             4  ...               3         2                3\n",
              "top     None       No   Fiber Optic  ...  Month-to-Month       Yes  Bank Withdrawal\n",
              "freq    3877     4072          3035  ...            3610      4171             3909\n",
              "\n",
              "[4 rows x 11 columns]"
            ]
          },
          "metadata": {
            "tags": []
          },
          "execution_count": 7
        }
      ]
    },
    {
      "cell_type": "markdown",
      "metadata": {
        "id": "hBRTxbOyPTwN"
      },
      "source": [
        "## Question 2\n",
        "\n",
        "* Identify which variables are binary, categorical and not ordinal, categorical and ordinal, and numeric.  The non-numeric features will need to be encoded using methods we have discussed in the course.\n",
        "* Start by identifying the number of unique values each variable takes, then create list variables for categorical, numeric, binary, and ordinal variables. \n",
        "* Note that the variable 'months' can be treated as numeric, but it may be more convenient to transform it to an ordinal variable.\n",
        "* For the other categorical variables, examine their values to determine which may be encoded ordinally."
      ]
    },
    {
      "cell_type": "code",
      "metadata": {
        "colab": {
          "base_uri": "https://localhost:8080/",
          "height": 555
        },
        "id": "TYdwjo66PTwO",
        "outputId": "24bf5d84-44d0-4f08-ca5b-11bbd217f918"
      },
      "source": [
        "### BEGIN SOLUTION\n",
        "df_uniques = pd.DataFrame([[i, len(df[i].unique())] for i in df.columns], columns=\n",
        "                          ['Variable', 'Unique Values']).set_index('Variable')\n",
        "df_uniques"
      ],
      "execution_count": 10,
      "outputs": [
        {
          "output_type": "execute_result",
          "data": {
            "text/html": [
              "<div>\n",
              "<style scoped>\n",
              "    .dataframe tbody tr th:only-of-type {\n",
              "        vertical-align: middle;\n",
              "    }\n",
              "\n",
              "    .dataframe tbody tr th {\n",
              "        vertical-align: top;\n",
              "    }\n",
              "\n",
              "    .dataframe thead th {\n",
              "        text-align: right;\n",
              "    }\n",
              "</style>\n",
              "<table border=\"1\" class=\"dataframe\">\n",
              "  <thead>\n",
              "    <tr style=\"text-align: right;\">\n",
              "      <th></th>\n",
              "      <th>Unique Values</th>\n",
              "    </tr>\n",
              "    <tr>\n",
              "      <th>Variable</th>\n",
              "      <th></th>\n",
              "    </tr>\n",
              "  </thead>\n",
              "  <tbody>\n",
              "    <tr>\n",
              "      <th>months</th>\n",
              "      <td>72</td>\n",
              "    </tr>\n",
              "    <tr>\n",
              "      <th>offer</th>\n",
              "      <td>6</td>\n",
              "    </tr>\n",
              "    <tr>\n",
              "      <th>multiple</th>\n",
              "      <td>2</td>\n",
              "    </tr>\n",
              "    <tr>\n",
              "      <th>internet_type</th>\n",
              "      <td>4</td>\n",
              "    </tr>\n",
              "    <tr>\n",
              "      <th>gb_mon</th>\n",
              "      <td>50</td>\n",
              "    </tr>\n",
              "    <tr>\n",
              "      <th>security</th>\n",
              "      <td>2</td>\n",
              "    </tr>\n",
              "    <tr>\n",
              "      <th>backup</th>\n",
              "      <td>2</td>\n",
              "    </tr>\n",
              "    <tr>\n",
              "      <th>protection</th>\n",
              "      <td>2</td>\n",
              "    </tr>\n",
              "    <tr>\n",
              "      <th>support</th>\n",
              "      <td>2</td>\n",
              "    </tr>\n",
              "    <tr>\n",
              "      <th>unlimited</th>\n",
              "      <td>2</td>\n",
              "    </tr>\n",
              "    <tr>\n",
              "      <th>contract</th>\n",
              "      <td>3</td>\n",
              "    </tr>\n",
              "    <tr>\n",
              "      <th>paperless</th>\n",
              "      <td>2</td>\n",
              "    </tr>\n",
              "    <tr>\n",
              "      <th>payment</th>\n",
              "      <td>3</td>\n",
              "    </tr>\n",
              "    <tr>\n",
              "      <th>monthly</th>\n",
              "      <td>1585</td>\n",
              "    </tr>\n",
              "    <tr>\n",
              "      <th>satisfaction</th>\n",
              "      <td>5</td>\n",
              "    </tr>\n",
              "    <tr>\n",
              "      <th>churn_value</th>\n",
              "      <td>2</td>\n",
              "    </tr>\n",
              "  </tbody>\n",
              "</table>\n",
              "</div>"
            ],
            "text/plain": [
              "               Unique Values\n",
              "Variable                    \n",
              "months                    72\n",
              "offer                      6\n",
              "multiple                   2\n",
              "internet_type              4\n",
              "gb_mon                    50\n",
              "security                   2\n",
              "backup                     2\n",
              "protection                 2\n",
              "support                    2\n",
              "unlimited                  2\n",
              "contract                   3\n",
              "paperless                  2\n",
              "payment                    3\n",
              "monthly                 1585\n",
              "satisfaction               5\n",
              "churn_value                2"
            ]
          },
          "metadata": {
            "tags": []
          },
          "execution_count": 10
        }
      ]
    },
    {
      "cell_type": "code",
      "metadata": {
        "colab": {
          "base_uri": "https://localhost:8080/"
        },
        "id": "mRnZ3oZCQ5vC",
        "outputId": "2db8d9d8-04c9-44f1-d328-f5944bc389e9"
      },
      "source": [
        "df.nunique()"
      ],
      "execution_count": 8,
      "outputs": [
        {
          "output_type": "execute_result",
          "data": {
            "text/plain": [
              "months             72\n",
              "offer               6\n",
              "multiple            2\n",
              "internet_type       4\n",
              "gb_mon             50\n",
              "security            2\n",
              "backup              2\n",
              "protection          2\n",
              "support             2\n",
              "unlimited           2\n",
              "contract            3\n",
              "paperless           2\n",
              "payment             3\n",
              "monthly          1585\n",
              "satisfaction        5\n",
              "churn_value         2\n",
              "dtype: int64"
            ]
          },
          "metadata": {
            "tags": []
          },
          "execution_count": 8
        }
      ]
    },
    {
      "cell_type": "code",
      "metadata": {
        "colab": {
          "base_uri": "https://localhost:8080/"
        },
        "id": "2v9kXxUxPTwO",
        "outputId": "42b682d0-e2b0-490d-d164-57aa6426e8f8"
      },
      "source": [
        "binary_variables = list(df_uniques[df_uniques['Unique Values'] == 2].index)\n",
        "binary_variables"
      ],
      "execution_count": 11,
      "outputs": [
        {
          "output_type": "execute_result",
          "data": {
            "text/plain": [
              "['multiple',\n",
              " 'security',\n",
              " 'backup',\n",
              " 'protection',\n",
              " 'support',\n",
              " 'unlimited',\n",
              " 'paperless',\n",
              " 'churn_value']"
            ]
          },
          "metadata": {
            "tags": []
          },
          "execution_count": 11
        }
      ]
    },
    {
      "cell_type": "code",
      "metadata": {
        "colab": {
          "base_uri": "https://localhost:8080/"
        },
        "id": "t7G4YeWQPTwO",
        "outputId": "01336da8-67b6-48d9-8e5f-e5bf1e6e37bb"
      },
      "source": [
        "categorical_variables = list(df_uniques[(6 >= df_uniques['Unique Values']) & (df_uniques['Unique Values'] > 2)].index)\n",
        "categorical_variables"
      ],
      "execution_count": 12,
      "outputs": [
        {
          "output_type": "execute_result",
          "data": {
            "text/plain": [
              "['offer', 'internet_type', 'contract', 'payment', 'satisfaction']"
            ]
          },
          "metadata": {
            "tags": []
          },
          "execution_count": 12
        }
      ]
    },
    {
      "cell_type": "code",
      "metadata": {
        "colab": {
          "base_uri": "https://localhost:8080/"
        },
        "id": "CcEY7AAPPTwP",
        "outputId": "db13efa6-97b2-4844-d217-7461822c27c9"
      },
      "source": [
        "[[i, list(df[i].unique())] for i in categorical_variables]"
      ],
      "execution_count": 13,
      "outputs": [
        {
          "output_type": "execute_result",
          "data": {
            "text/plain": [
              "[['offer', ['None', 'Offer E', 'Offer D', 'Offer C', 'Offer B', 'Offer A']],\n",
              " ['internet_type', ['DSL', 'Fiber Optic', 'Cable', 'None']],\n",
              " ['contract', ['Month-to-Month', 'One Year', 'Two Year']],\n",
              " ['payment', ['Bank Withdrawal', 'Credit Card', 'Mailed Check']],\n",
              " ['satisfaction', [3, 2, 1, 4, 5]]]"
            ]
          },
          "metadata": {
            "tags": []
          },
          "execution_count": 13
        }
      ]
    },
    {
      "cell_type": "code",
      "metadata": {
        "id": "08FIxzt7PTwP"
      },
      "source": [
        "ordinal_variables = ['contract', 'satisfaction']"
      ],
      "execution_count": 14,
      "outputs": []
    },
    {
      "cell_type": "code",
      "metadata": {
        "colab": {
          "base_uri": "https://localhost:8080/"
        },
        "id": "-7lXmhUhPTwP",
        "outputId": "fc29fac0-1d90-478d-9ee8-fe2485a69828"
      },
      "source": [
        "df['months'].unique()"
      ],
      "execution_count": 15,
      "outputs": [
        {
          "output_type": "execute_result",
          "data": {
            "text/plain": [
              "array([ 1,  8, 18, 25, 37, 27, 58, 15,  7, 11,  3, 13, 16, 24,  4, 32, 54,\n",
              "        2, 21, 55,  5, 20, 65, 49, 43, 56, 52, 33, 30, 46,  9, 10, 35, 44,\n",
              "       62, 14, 12, 17, 39, 68, 34, 22, 19, 23, 42, 41, 57, 38, 29, 66, 69,\n",
              "       40, 31, 59, 36, 45, 53, 70, 47, 50, 51, 72, 26,  6, 28, 48, 61, 71,\n",
              "       60, 64, 67, 63])"
            ]
          },
          "metadata": {
            "tags": []
          },
          "execution_count": 15
        }
      ]
    },
    {
      "cell_type": "code",
      "metadata": {
        "id": "2U8JTUrZPTwP"
      },
      "source": [
        "ordinal_variables.append('months')"
      ],
      "execution_count": 16,
      "outputs": []
    },
    {
      "cell_type": "code",
      "metadata": {
        "id": "5PqHiEnFPTwP"
      },
      "source": [
        "numeric_variables = list(set(df.columns) - set(ordinal_variables) - set(categorical_variables) - set(binary_variables))"
      ],
      "execution_count": 17,
      "outputs": []
    },
    {
      "cell_type": "code",
      "metadata": {
        "colab": {
          "base_uri": "https://localhost:8080/",
          "height": 441
        },
        "id": "BGel1ULYPTwQ",
        "outputId": "0a98de74-2f9d-471f-8ca8-ac9963c2778f"
      },
      "source": [
        "df[numeric_variables].hist(figsize=(12, 6))"
      ],
      "execution_count": 19,
      "outputs": [
        {
          "output_type": "execute_result",
          "data": {
            "text/plain": [
              "array([[<matplotlib.axes._subplots.AxesSubplot object at 0x7f50c5901f50>,\n",
              "        <matplotlib.axes._subplots.AxesSubplot object at 0x7f50c57d4d90>]],\n",
              "      dtype=object)"
            ]
          },
          "metadata": {
            "tags": []
          },
          "execution_count": 19
        },
        {
          "output_type": "display_data",
          "data": {
            "image/png": "[encoded data removed]",
            "text/plain": [
              "<Figure size 864x432 with 2 Axes>"
            ]
          },
          "metadata": {
            "tags": [],
            "needs_background": "light"
          }
        }
      ]
    },
    {
      "cell_type": "code",
      "metadata": {
        "id": "ZIfqbVEXPTwQ"
      },
      "source": [
        "df['months'] = pd.cut(df['months'], bins=5)\n",
        "### END SOLUTION"
      ],
      "execution_count": 20,
      "outputs": []
    },
    {
      "cell_type": "markdown",
      "metadata": {
        "id": "txklnznpPTwQ"
      },
      "source": [
        "## Question 3\n",
        "* Having set up the variables, remember that the K-nearest neighbors algorithm uses distance and hence requires scaled data. \n",
        "* Scale the data using one of the scaling methods discussed in the course.\n",
        "* Save the processed dataframe as a comma-separated file: 'churndata_processed.csv'"
      ]
    },
    {
      "cell_type": "code",
      "metadata": {
        "id": "o88oYJ29PTwQ"
      },
      "source": [
        "### BEGIN SOLUTION\n",
        "from sklearn.preprocessing import LabelBinarizer, LabelEncoder, OrdinalEncoder"
      ],
      "execution_count": 21,
      "outputs": []
    },
    {
      "cell_type": "code",
      "metadata": {
        "id": "ebEGnzakPTwQ"
      },
      "source": [
        "lb, le = LabelBinarizer(), LabelEncoder()"
      ],
      "execution_count": 22,
      "outputs": []
    },
    {
      "cell_type": "code",
      "metadata": {
        "id": "MSlDYkdrPTwQ"
      },
      "source": [
        "for column in ordinal_variables:\n",
        "    df[column] = le.fit_transform(df[column])"
      ],
      "execution_count": 23,
      "outputs": []
    },
    {
      "cell_type": "code",
      "metadata": {
        "colab": {
          "base_uri": "https://localhost:8080/",
          "height": 167
        },
        "id": "9kOdU8cHPTwR",
        "outputId": "75a81af3-4116-46c4-fd27-97299f131a56"
      },
      "source": [
        "df[ordinal_variables].astype('category').describe()"
      ],
      "execution_count": 24,
      "outputs": [
        {
          "output_type": "execute_result",
          "data": {
            "text/html": [
              "<div>\n",
              "<style scoped>\n",
              "    .dataframe tbody tr th:only-of-type {\n",
              "        vertical-align: middle;\n",
              "    }\n",
              "\n",
              "    .dataframe tbody tr th {\n",
              "        vertical-align: top;\n",
              "    }\n",
              "\n",
              "    .dataframe thead th {\n",
              "        text-align: right;\n",
              "    }\n",
              "</style>\n",
              "<table border=\"1\" class=\"dataframe\">\n",
              "  <thead>\n",
              "    <tr style=\"text-align: right;\">\n",
              "      <th></th>\n",
              "      <th>contract</th>\n",
              "      <th>satisfaction</th>\n",
              "      <th>months</th>\n",
              "    </tr>\n",
              "  </thead>\n",
              "  <tbody>\n",
              "    <tr>\n",
              "      <th>count</th>\n",
              "      <td>7043</td>\n",
              "      <td>7043</td>\n",
              "      <td>7043</td>\n",
              "    </tr>\n",
              "    <tr>\n",
              "      <th>unique</th>\n",
              "      <td>3</td>\n",
              "      <td>5</td>\n",
              "      <td>5</td>\n",
              "    </tr>\n",
              "    <tr>\n",
              "      <th>top</th>\n",
              "      <td>0</td>\n",
              "      <td>2</td>\n",
              "      <td>0</td>\n",
              "    </tr>\n",
              "    <tr>\n",
              "      <th>freq</th>\n",
              "      <td>3610</td>\n",
              "      <td>2665</td>\n",
              "      <td>2470</td>\n",
              "    </tr>\n",
              "  </tbody>\n",
              "</table>\n",
              "</div>"
            ],
            "text/plain": [
              "        contract  satisfaction  months\n",
              "count       7043          7043    7043\n",
              "unique         3             5       5\n",
              "top            0             2       0\n",
              "freq        3610          2665    2470"
            ]
          },
          "metadata": {
            "tags": []
          },
          "execution_count": 24
        }
      ]
    },
    {
      "cell_type": "code",
      "metadata": {
        "id": "JOdnUehIPTwR"
      },
      "source": [
        "for column in binary_variables:\n",
        "    df[column] = lb.fit_transform(df[column])"
      ],
      "execution_count": 25,
      "outputs": []
    },
    {
      "cell_type": "code",
      "metadata": {
        "id": "KXeF8nHyPTwR"
      },
      "source": [
        "categorical_variables = list(set(categorical_variables) - set(ordinal_variables))"
      ],
      "execution_count": 26,
      "outputs": []
    },
    {
      "cell_type": "code",
      "metadata": {
        "id": "AhylK4RUPTwR"
      },
      "source": [
        "df = pd.get_dummies(df, columns = categorical_variables, drop_first=True)"
      ],
      "execution_count": 27,
      "outputs": []
    },
    {
      "cell_type": "code",
      "metadata": {
        "colab": {
          "base_uri": "https://localhost:8080/",
          "height": 734
        },
        "id": "lB7faAIrPTwR",
        "outputId": "a9bf5534-ab1a-48be-e02c-4736dd84b49a"
      },
      "source": [
        "df.describe().T"
      ],
      "execution_count": 28,
      "outputs": [
        {
          "output_type": "execute_result",
          "data": {
            "text/html": [
              "<div>\n",
              "<style scoped>\n",
              "    .dataframe tbody tr th:only-of-type {\n",
              "        vertical-align: middle;\n",
              "    }\n",
              "\n",
              "    .dataframe tbody tr th {\n",
              "        vertical-align: top;\n",
              "    }\n",
              "\n",
              "    .dataframe thead th {\n",
              "        text-align: right;\n",
              "    }\n",
              "</style>\n",
              "<table border=\"1\" class=\"dataframe\">\n",
              "  <thead>\n",
              "    <tr style=\"text-align: right;\">\n",
              "      <th></th>\n",
              "      <th>count</th>\n",
              "      <th>mean</th>\n",
              "      <th>std</th>\n",
              "      <th>min</th>\n",
              "      <th>25%</th>\n",
              "      <th>50%</th>\n",
              "      <th>75%</th>\n",
              "      <th>max</th>\n",
              "    </tr>\n",
              "  </thead>\n",
              "  <tbody>\n",
              "    <tr>\n",
              "      <th>months</th>\n",
              "      <td>7043.0</td>\n",
              "      <td>1.734204</td>\n",
              "      <td>1.592924</td>\n",
              "      <td>0.00</td>\n",
              "      <td>0.0</td>\n",
              "      <td>1.00</td>\n",
              "      <td>3.00</td>\n",
              "      <td>4.00</td>\n",
              "    </tr>\n",
              "    <tr>\n",
              "      <th>multiple</th>\n",
              "      <td>7043.0</td>\n",
              "      <td>0.421837</td>\n",
              "      <td>0.493888</td>\n",
              "      <td>0.00</td>\n",
              "      <td>0.0</td>\n",
              "      <td>0.00</td>\n",
              "      <td>1.00</td>\n",
              "      <td>1.00</td>\n",
              "    </tr>\n",
              "    <tr>\n",
              "      <th>gb_mon</th>\n",
              "      <td>7043.0</td>\n",
              "      <td>20.515405</td>\n",
              "      <td>20.418940</td>\n",
              "      <td>0.00</td>\n",
              "      <td>3.0</td>\n",
              "      <td>17.00</td>\n",
              "      <td>27.00</td>\n",
              "      <td>85.00</td>\n",
              "    </tr>\n",
              "    <tr>\n",
              "      <th>security</th>\n",
              "      <td>7043.0</td>\n",
              "      <td>0.286668</td>\n",
              "      <td>0.452237</td>\n",
              "      <td>0.00</td>\n",
              "      <td>0.0</td>\n",
              "      <td>0.00</td>\n",
              "      <td>1.00</td>\n",
              "      <td>1.00</td>\n",
              "    </tr>\n",
              "    <tr>\n",
              "      <th>backup</th>\n",
              "      <td>7043.0</td>\n",
              "      <td>0.344881</td>\n",
              "      <td>0.475363</td>\n",
              "      <td>0.00</td>\n",
              "      <td>0.0</td>\n",
              "      <td>0.00</td>\n",
              "      <td>1.00</td>\n",
              "      <td>1.00</td>\n",
              "    </tr>\n",
              "    <tr>\n",
              "      <th>protection</th>\n",
              "      <td>7043.0</td>\n",
              "      <td>0.343888</td>\n",
              "      <td>0.475038</td>\n",
              "      <td>0.00</td>\n",
              "      <td>0.0</td>\n",
              "      <td>0.00</td>\n",
              "      <td>1.00</td>\n",
              "      <td>1.00</td>\n",
              "    </tr>\n",
              "    <tr>\n",
              "      <th>support</th>\n",
              "      <td>7043.0</td>\n",
              "      <td>0.290217</td>\n",
              "      <td>0.453895</td>\n",
              "      <td>0.00</td>\n",
              "      <td>0.0</td>\n",
              "      <td>0.00</td>\n",
              "      <td>1.00</td>\n",
              "      <td>1.00</td>\n",
              "    </tr>\n",
              "    <tr>\n",
              "      <th>unlimited</th>\n",
              "      <td>7043.0</td>\n",
              "      <td>0.673719</td>\n",
              "      <td>0.468885</td>\n",
              "      <td>0.00</td>\n",
              "      <td>0.0</td>\n",
              "      <td>1.00</td>\n",
              "      <td>1.00</td>\n",
              "      <td>1.00</td>\n",
              "    </tr>\n",
              "    <tr>\n",
              "      <th>contract</th>\n",
              "      <td>7043.0</td>\n",
              "      <td>0.754792</td>\n",
              "      <td>0.848468</td>\n",
              "      <td>0.00</td>\n",
              "      <td>0.0</td>\n",
              "      <td>0.00</td>\n",
              "      <td>2.00</td>\n",
              "      <td>2.00</td>\n",
              "    </tr>\n",
              "    <tr>\n",
              "      <th>paperless</th>\n",
              "      <td>7043.0</td>\n",
              "      <td>0.592219</td>\n",
              "      <td>0.491457</td>\n",
              "      <td>0.00</td>\n",
              "      <td>0.0</td>\n",
              "      <td>1.00</td>\n",
              "      <td>1.00</td>\n",
              "      <td>1.00</td>\n",
              "    </tr>\n",
              "    <tr>\n",
              "      <th>monthly</th>\n",
              "      <td>7043.0</td>\n",
              "      <td>64.761692</td>\n",
              "      <td>30.090047</td>\n",
              "      <td>18.25</td>\n",
              "      <td>35.5</td>\n",
              "      <td>70.35</td>\n",
              "      <td>89.85</td>\n",
              "      <td>118.75</td>\n",
              "    </tr>\n",
              "    <tr>\n",
              "      <th>satisfaction</th>\n",
              "      <td>7043.0</td>\n",
              "      <td>2.244924</td>\n",
              "      <td>1.201657</td>\n",
              "      <td>0.00</td>\n",
              "      <td>2.0</td>\n",
              "      <td>2.00</td>\n",
              "      <td>3.00</td>\n",
              "      <td>4.00</td>\n",
              "    </tr>\n",
              "    <tr>\n",
              "      <th>churn_value</th>\n",
              "      <td>7043.0</td>\n",
              "      <td>0.265370</td>\n",
              "      <td>0.441561</td>\n",
              "      <td>0.00</td>\n",
              "      <td>0.0</td>\n",
              "      <td>0.00</td>\n",
              "      <td>1.00</td>\n",
              "      <td>1.00</td>\n",
              "    </tr>\n",
              "    <tr>\n",
              "      <th>internet_type_DSL</th>\n",
              "      <td>7043.0</td>\n",
              "      <td>0.234559</td>\n",
              "      <td>0.423753</td>\n",
              "      <td>0.00</td>\n",
              "      <td>0.0</td>\n",
              "      <td>0.00</td>\n",
              "      <td>0.00</td>\n",
              "      <td>1.00</td>\n",
              "    </tr>\n",
              "    <tr>\n",
              "      <th>internet_type_Fiber Optic</th>\n",
              "      <td>7043.0</td>\n",
              "      <td>0.430924</td>\n",
              "      <td>0.495241</td>\n",
              "      <td>0.00</td>\n",
              "      <td>0.0</td>\n",
              "      <td>0.00</td>\n",
              "      <td>1.00</td>\n",
              "      <td>1.00</td>\n",
              "    </tr>\n",
              "    <tr>\n",
              "      <th>internet_type_None</th>\n",
              "      <td>7043.0</td>\n",
              "      <td>0.216669</td>\n",
              "      <td>0.412004</td>\n",
              "      <td>0.00</td>\n",
              "      <td>0.0</td>\n",
              "      <td>0.00</td>\n",
              "      <td>0.00</td>\n",
              "      <td>1.00</td>\n",
              "    </tr>\n",
              "    <tr>\n",
              "      <th>payment_Credit Card</th>\n",
              "      <td>7043.0</td>\n",
              "      <td>0.390317</td>\n",
              "      <td>0.487856</td>\n",
              "      <td>0.00</td>\n",
              "      <td>0.0</td>\n",
              "      <td>0.00</td>\n",
              "      <td>1.00</td>\n",
              "      <td>1.00</td>\n",
              "    </tr>\n",
              "    <tr>\n",
              "      <th>payment_Mailed Check</th>\n",
              "      <td>7043.0</td>\n",
              "      <td>0.054664</td>\n",
              "      <td>0.227340</td>\n",
              "      <td>0.00</td>\n",
              "      <td>0.0</td>\n",
              "      <td>0.00</td>\n",
              "      <td>0.00</td>\n",
              "      <td>1.00</td>\n",
              "    </tr>\n",
              "    <tr>\n",
              "      <th>offer_Offer A</th>\n",
              "      <td>7043.0</td>\n",
              "      <td>0.073832</td>\n",
              "      <td>0.261516</td>\n",
              "      <td>0.00</td>\n",
              "      <td>0.0</td>\n",
              "      <td>0.00</td>\n",
              "      <td>0.00</td>\n",
              "      <td>1.00</td>\n",
              "    </tr>\n",
              "    <tr>\n",
              "      <th>offer_Offer B</th>\n",
              "      <td>7043.0</td>\n",
              "      <td>0.116996</td>\n",
              "      <td>0.321438</td>\n",
              "      <td>0.00</td>\n",
              "      <td>0.0</td>\n",
              "      <td>0.00</td>\n",
              "      <td>0.00</td>\n",
              "      <td>1.00</td>\n",
              "    </tr>\n",
              "    <tr>\n",
              "      <th>offer_Offer C</th>\n",
              "      <td>7043.0</td>\n",
              "      <td>0.058924</td>\n",
              "      <td>0.235499</td>\n",
              "      <td>0.00</td>\n",
              "      <td>0.0</td>\n",
              "      <td>0.00</td>\n",
              "      <td>0.00</td>\n",
              "      <td>1.00</td>\n",
              "    </tr>\n",
              "    <tr>\n",
              "      <th>offer_Offer D</th>\n",
              "      <td>7043.0</td>\n",
              "      <td>0.085475</td>\n",
              "      <td>0.279607</td>\n",
              "      <td>0.00</td>\n",
              "      <td>0.0</td>\n",
              "      <td>0.00</td>\n",
              "      <td>0.00</td>\n",
              "      <td>1.00</td>\n",
              "    </tr>\n",
              "    <tr>\n",
              "      <th>offer_Offer E</th>\n",
              "      <td>7043.0</td>\n",
              "      <td>0.114298</td>\n",
              "      <td>0.318195</td>\n",
              "      <td>0.00</td>\n",
              "      <td>0.0</td>\n",
              "      <td>0.00</td>\n",
              "      <td>0.00</td>\n",
              "      <td>1.00</td>\n",
              "    </tr>\n",
              "  </tbody>\n",
              "</table>\n",
              "</div>"
            ],
            "text/plain": [
              "                            count       mean        std  ...    50%    75%     max\n",
              "months                     7043.0   1.734204   1.592924  ...   1.00   3.00    4.00\n",
              "multiple                   7043.0   0.421837   0.493888  ...   0.00   1.00    1.00\n",
              "gb_mon                     7043.0  20.515405  20.418940  ...  17.00  27.00   85.00\n",
              "security                   7043.0   0.286668   0.452237  ...   0.00   1.00    1.00\n",
              "backup                     7043.0   0.344881   0.475363  ...   0.00   1.00    1.00\n",
              "protection                 7043.0   0.343888   0.475038  ...   0.00   1.00    1.00\n",
              "support                    7043.0   0.290217   0.453895  ...   0.00   1.00    1.00\n",
              "unlimited                  7043.0   0.673719   0.468885  ...   1.00   1.00    1.00\n",
              "contract                   7043.0   0.754792   0.848468  ...   0.00   2.00    2.00\n",
              "paperless                  7043.0   0.592219   0.491457  ...   1.00   1.00    1.00\n",
              "monthly                    7043.0  64.761692  30.090047  ...  70.35  89.85  118.75\n",
              "satisfaction               7043.0   2.244924   1.201657  ...   2.00   3.00    4.00\n",
              "churn_value                7043.0   0.265370   0.441561  ...   0.00   1.00    1.00\n",
              "internet_type_DSL          7043.0   0.234559   0.423753  ...   0.00   0.00    1.00\n",
              "internet_type_Fiber Optic  7043.0   0.430924   0.495241  ...   0.00   1.00    1.00\n",
              "internet_type_None         7043.0   0.216669   0.412004  ...   0.00   0.00    1.00\n",
              "payment_Credit Card        7043.0   0.390317   0.487856  ...   0.00   1.00    1.00\n",
              "payment_Mailed Check       7043.0   0.054664   0.227340  ...   0.00   0.00    1.00\n",
              "offer_Offer A              7043.0   0.073832   0.261516  ...   0.00   0.00    1.00\n",
              "offer_Offer B              7043.0   0.116996   0.321438  ...   0.00   0.00    1.00\n",
              "offer_Offer C              7043.0   0.058924   0.235499  ...   0.00   0.00    1.00\n",
              "offer_Offer D              7043.0   0.085475   0.279607  ...   0.00   0.00    1.00\n",
              "offer_Offer E              7043.0   0.114298   0.318195  ...   0.00   0.00    1.00\n",
              "\n",
              "[23 rows x 8 columns]"
            ]
          },
          "metadata": {
            "tags": []
          },
          "execution_count": 28
        }
      ]
    },
    {
      "cell_type": "code",
      "metadata": {
        "id": "M7PGCpodPTwR"
      },
      "source": [
        "from sklearn.preprocessing import MinMaxScaler\n",
        "mm = MinMaxScaler()"
      ],
      "execution_count": 29,
      "outputs": []
    },
    {
      "cell_type": "code",
      "metadata": {
        "id": "ApqUqVDCPTwS"
      },
      "source": [
        "for column in [ordinal_variables + numeric_variables]:\n",
        "    df[column] = mm.fit_transform(df[column])"
      ],
      "execution_count": 30,
      "outputs": []
    },
    {
      "cell_type": "code",
      "metadata": {
        "colab": {
          "base_uri": "https://localhost:8080/",
          "height": 734
        },
        "id": "0kMjgY6rPTwS",
        "outputId": "aa3cfd39-0749-43ee-ea02-5d45eefebec5"
      },
      "source": [
        "round(df.describe().T, 3)"
      ],
      "execution_count": 31,
      "outputs": [
        {
          "output_type": "execute_result",
          "data": {
            "text/html": [
              "<div>\n",
              "<style scoped>\n",
              "    .dataframe tbody tr th:only-of-type {\n",
              "        vertical-align: middle;\n",
              "    }\n",
              "\n",
              "    .dataframe tbody tr th {\n",
              "        vertical-align: top;\n",
              "    }\n",
              "\n",
              "    .dataframe thead th {\n",
              "        text-align: right;\n",
              "    }\n",
              "</style>\n",
              "<table border=\"1\" class=\"dataframe\">\n",
              "  <thead>\n",
              "    <tr style=\"text-align: right;\">\n",
              "      <th></th>\n",
              "      <th>count</th>\n",
              "      <th>mean</th>\n",
              "      <th>std</th>\n",
              "      <th>min</th>\n",
              "      <th>25%</th>\n",
              "      <th>50%</th>\n",
              "      <th>75%</th>\n",
              "      <th>max</th>\n",
              "    </tr>\n",
              "  </thead>\n",
              "  <tbody>\n",
              "    <tr>\n",
              "      <th>months</th>\n",
              "      <td>7043.0</td>\n",
              "      <td>0.434</td>\n",
              "      <td>0.398</td>\n",
              "      <td>0.0</td>\n",
              "      <td>0.000</td>\n",
              "      <td>0.250</td>\n",
              "      <td>0.750</td>\n",
              "      <td>1.0</td>\n",
              "    </tr>\n",
              "    <tr>\n",
              "      <th>multiple</th>\n",
              "      <td>7043.0</td>\n",
              "      <td>0.422</td>\n",
              "      <td>0.494</td>\n",
              "      <td>0.0</td>\n",
              "      <td>0.000</td>\n",
              "      <td>0.000</td>\n",
              "      <td>1.000</td>\n",
              "      <td>1.0</td>\n",
              "    </tr>\n",
              "    <tr>\n",
              "      <th>gb_mon</th>\n",
              "      <td>7043.0</td>\n",
              "      <td>0.241</td>\n",
              "      <td>0.240</td>\n",
              "      <td>0.0</td>\n",
              "      <td>0.035</td>\n",
              "      <td>0.200</td>\n",
              "      <td>0.318</td>\n",
              "      <td>1.0</td>\n",
              "    </tr>\n",
              "    <tr>\n",
              "      <th>security</th>\n",
              "      <td>7043.0</td>\n",
              "      <td>0.287</td>\n",
              "      <td>0.452</td>\n",
              "      <td>0.0</td>\n",
              "      <td>0.000</td>\n",
              "      <td>0.000</td>\n",
              "      <td>1.000</td>\n",
              "      <td>1.0</td>\n",
              "    </tr>\n",
              "    <tr>\n",
              "      <th>backup</th>\n",
              "      <td>7043.0</td>\n",
              "      <td>0.345</td>\n",
              "      <td>0.475</td>\n",
              "      <td>0.0</td>\n",
              "      <td>0.000</td>\n",
              "      <td>0.000</td>\n",
              "      <td>1.000</td>\n",
              "      <td>1.0</td>\n",
              "    </tr>\n",
              "    <tr>\n",
              "      <th>protection</th>\n",
              "      <td>7043.0</td>\n",
              "      <td>0.344</td>\n",
              "      <td>0.475</td>\n",
              "      <td>0.0</td>\n",
              "      <td>0.000</td>\n",
              "      <td>0.000</td>\n",
              "      <td>1.000</td>\n",
              "      <td>1.0</td>\n",
              "    </tr>\n",
              "    <tr>\n",
              "      <th>support</th>\n",
              "      <td>7043.0</td>\n",
              "      <td>0.290</td>\n",
              "      <td>0.454</td>\n",
              "      <td>0.0</td>\n",
              "      <td>0.000</td>\n",
              "      <td>0.000</td>\n",
              "      <td>1.000</td>\n",
              "      <td>1.0</td>\n",
              "    </tr>\n",
              "    <tr>\n",
              "      <th>unlimited</th>\n",
              "      <td>7043.0</td>\n",
              "      <td>0.674</td>\n",
              "      <td>0.469</td>\n",
              "      <td>0.0</td>\n",
              "      <td>0.000</td>\n",
              "      <td>1.000</td>\n",
              "      <td>1.000</td>\n",
              "      <td>1.0</td>\n",
              "    </tr>\n",
              "    <tr>\n",
              "      <th>contract</th>\n",
              "      <td>7043.0</td>\n",
              "      <td>0.377</td>\n",
              "      <td>0.424</td>\n",
              "      <td>0.0</td>\n",
              "      <td>0.000</td>\n",
              "      <td>0.000</td>\n",
              "      <td>1.000</td>\n",
              "      <td>1.0</td>\n",
              "    </tr>\n",
              "    <tr>\n",
              "      <th>paperless</th>\n",
              "      <td>7043.0</td>\n",
              "      <td>0.592</td>\n",
              "      <td>0.491</td>\n",
              "      <td>0.0</td>\n",
              "      <td>0.000</td>\n",
              "      <td>1.000</td>\n",
              "      <td>1.000</td>\n",
              "      <td>1.0</td>\n",
              "    </tr>\n",
              "    <tr>\n",
              "      <th>monthly</th>\n",
              "      <td>7043.0</td>\n",
              "      <td>0.463</td>\n",
              "      <td>0.299</td>\n",
              "      <td>0.0</td>\n",
              "      <td>0.172</td>\n",
              "      <td>0.518</td>\n",
              "      <td>0.712</td>\n",
              "      <td>1.0</td>\n",
              "    </tr>\n",
              "    <tr>\n",
              "      <th>satisfaction</th>\n",
              "      <td>7043.0</td>\n",
              "      <td>0.561</td>\n",
              "      <td>0.300</td>\n",
              "      <td>0.0</td>\n",
              "      <td>0.500</td>\n",
              "      <td>0.500</td>\n",
              "      <td>0.750</td>\n",
              "      <td>1.0</td>\n",
              "    </tr>\n",
              "    <tr>\n",
              "      <th>churn_value</th>\n",
              "      <td>7043.0</td>\n",
              "      <td>0.265</td>\n",
              "      <td>0.442</td>\n",
              "      <td>0.0</td>\n",
              "      <td>0.000</td>\n",
              "      <td>0.000</td>\n",
              "      <td>1.000</td>\n",
              "      <td>1.0</td>\n",
              "    </tr>\n",
              "    <tr>\n",
              "      <th>internet_type_DSL</th>\n",
              "      <td>7043.0</td>\n",
              "      <td>0.235</td>\n",
              "      <td>0.424</td>\n",
              "      <td>0.0</td>\n",
              "      <td>0.000</td>\n",
              "      <td>0.000</td>\n",
              "      <td>0.000</td>\n",
              "      <td>1.0</td>\n",
              "    </tr>\n",
              "    <tr>\n",
              "      <th>internet_type_Fiber Optic</th>\n",
              "      <td>7043.0</td>\n",
              "      <td>0.431</td>\n",
              "      <td>0.495</td>\n",
              "      <td>0.0</td>\n",
              "      <td>0.000</td>\n",
              "      <td>0.000</td>\n",
              "      <td>1.000</td>\n",
              "      <td>1.0</td>\n",
              "    </tr>\n",
              "    <tr>\n",
              "      <th>internet_type_None</th>\n",
              "      <td>7043.0</td>\n",
              "      <td>0.217</td>\n",
              "      <td>0.412</td>\n",
              "      <td>0.0</td>\n",
              "      <td>0.000</td>\n",
              "      <td>0.000</td>\n",
              "      <td>0.000</td>\n",
              "      <td>1.0</td>\n",
              "    </tr>\n",
              "    <tr>\n",
              "      <th>payment_Credit Card</th>\n",
              "      <td>7043.0</td>\n",
              "      <td>0.390</td>\n",
              "      <td>0.488</td>\n",
              "      <td>0.0</td>\n",
              "      <td>0.000</td>\n",
              "      <td>0.000</td>\n",
              "      <td>1.000</td>\n",
              "      <td>1.0</td>\n",
              "    </tr>\n",
              "    <tr>\n",
              "      <th>payment_Mailed Check</th>\n",
              "      <td>7043.0</td>\n",
              "      <td>0.055</td>\n",
              "      <td>0.227</td>\n",
              "      <td>0.0</td>\n",
              "      <td>0.000</td>\n",
              "      <td>0.000</td>\n",
              "      <td>0.000</td>\n",
              "      <td>1.0</td>\n",
              "    </tr>\n",
              "    <tr>\n",
              "      <th>offer_Offer A</th>\n",
              "      <td>7043.0</td>\n",
              "      <td>0.074</td>\n",
              "      <td>0.262</td>\n",
              "      <td>0.0</td>\n",
              "      <td>0.000</td>\n",
              "      <td>0.000</td>\n",
              "      <td>0.000</td>\n",
              "      <td>1.0</td>\n",
              "    </tr>\n",
              "    <tr>\n",
              "      <th>offer_Offer B</th>\n",
              "      <td>7043.0</td>\n",
              "      <td>0.117</td>\n",
              "      <td>0.321</td>\n",
              "      <td>0.0</td>\n",
              "      <td>0.000</td>\n",
              "      <td>0.000</td>\n",
              "      <td>0.000</td>\n",
              "      <td>1.0</td>\n",
              "    </tr>\n",
              "    <tr>\n",
              "      <th>offer_Offer C</th>\n",
              "      <td>7043.0</td>\n",
              "      <td>0.059</td>\n",
              "      <td>0.235</td>\n",
              "      <td>0.0</td>\n",
              "      <td>0.000</td>\n",
              "      <td>0.000</td>\n",
              "      <td>0.000</td>\n",
              "      <td>1.0</td>\n",
              "    </tr>\n",
              "    <tr>\n",
              "      <th>offer_Offer D</th>\n",
              "      <td>7043.0</td>\n",
              "      <td>0.085</td>\n",
              "      <td>0.280</td>\n",
              "      <td>0.0</td>\n",
              "      <td>0.000</td>\n",
              "      <td>0.000</td>\n",
              "      <td>0.000</td>\n",
              "      <td>1.0</td>\n",
              "    </tr>\n",
              "    <tr>\n",
              "      <th>offer_Offer E</th>\n",
              "      <td>7043.0</td>\n",
              "      <td>0.114</td>\n",
              "      <td>0.318</td>\n",
              "      <td>0.0</td>\n",
              "      <td>0.000</td>\n",
              "      <td>0.000</td>\n",
              "      <td>0.000</td>\n",
              "      <td>1.0</td>\n",
              "    </tr>\n",
              "  </tbody>\n",
              "</table>\n",
              "</div>"
            ],
            "text/plain": [
              "                            count   mean    std  min    25%    50%    75%  max\n",
              "months                     7043.0  0.434  0.398  0.0  0.000  0.250  0.750  1.0\n",
              "multiple                   7043.0  0.422  0.494  0.0  0.000  0.000  1.000  1.0\n",
              "gb_mon                     7043.0  0.241  0.240  0.0  0.035  0.200  0.318  1.0\n",
              "security                   7043.0  0.287  0.452  0.0  0.000  0.000  1.000  1.0\n",
              "backup                     7043.0  0.345  0.475  0.0  0.000  0.000  1.000  1.0\n",
              "protection                 7043.0  0.344  0.475  0.0  0.000  0.000  1.000  1.0\n",
              "support                    7043.0  0.290  0.454  0.0  0.000  0.000  1.000  1.0\n",
              "unlimited                  7043.0  0.674  0.469  0.0  0.000  1.000  1.000  1.0\n",
              "contract                   7043.0  0.377  0.424  0.0  0.000  0.000  1.000  1.0\n",
              "paperless                  7043.0  0.592  0.491  0.0  0.000  1.000  1.000  1.0\n",
              "monthly                    7043.0  0.463  0.299  0.0  0.172  0.518  0.712  1.0\n",
              "satisfaction               7043.0  0.561  0.300  0.0  0.500  0.500  0.750  1.0\n",
              "churn_value                7043.0  0.265  0.442  0.0  0.000  0.000  1.000  1.0\n",
              "internet_type_DSL          7043.0  0.235  0.424  0.0  0.000  0.000  0.000  1.0\n",
              "internet_type_Fiber Optic  7043.0  0.431  0.495  0.0  0.000  0.000  1.000  1.0\n",
              "internet_type_None         7043.0  0.217  0.412  0.0  0.000  0.000  0.000  1.0\n",
              "payment_Credit Card        7043.0  0.390  0.488  0.0  0.000  0.000  1.000  1.0\n",
              "payment_Mailed Check       7043.0  0.055  0.227  0.0  0.000  0.000  0.000  1.0\n",
              "offer_Offer A              7043.0  0.074  0.262  0.0  0.000  0.000  0.000  1.0\n",
              "offer_Offer B              7043.0  0.117  0.321  0.0  0.000  0.000  0.000  1.0\n",
              "offer_Offer C              7043.0  0.059  0.235  0.0  0.000  0.000  0.000  1.0\n",
              "offer_Offer D              7043.0  0.085  0.280  0.0  0.000  0.000  0.000  1.0\n",
              "offer_Offer E              7043.0  0.114  0.318  0.0  0.000  0.000  0.000  1.0"
            ]
          },
          "metadata": {
            "tags": []
          },
          "execution_count": 31
        }
      ]
    },
    {
      "cell_type": "code",
      "metadata": {
        "id": "FNuIO4acPTwS"
      },
      "source": [
        "### END SOLUTION\n",
        "\n",
        "# Save a copy of the processed data for later use\n",
        "outputfile = 'churndata_processed.csv'\n",
        "df.to_csv(outputfile, index=False)"
      ],
      "execution_count": 32,
      "outputs": []
    },
    {
      "cell_type": "markdown",
      "metadata": {
        "id": "MIB2PzxjPTwS"
      },
      "source": [
        "## Question 4\n",
        "* Now that the data are encoded and scaled, separate the features (X) from the target (y, churn_value). \n",
        "* Split the sample into training and test samples, with the test sample representing 40% of observations.\n",
        "* Estimate a K-Nearest Neighbors model, using K=3.\n",
        "* Examine the Precision, Recall, F-1 Score, and Accuracy of the classification.\n",
        "* Use a graphic to illustrate the Confusion Matrix "
      ]
    },
    {
      "cell_type": "code",
      "metadata": {
        "id": "YIhJCbuGPTwT"
      },
      "source": [
        "### BEGIN SOLUTION\n",
        "from sklearn.model_selection import train_test_split\n",
        "from sklearn.neighbors import KNeighborsClassifier\n",
        "from sklearn.metrics import confusion_matrix, accuracy_score, classification_report, f1_score"
      ],
      "execution_count": 33,
      "outputs": []
    },
    {
      "cell_type": "code",
      "metadata": {
        "id": "rolr6az3PTwT"
      },
      "source": [
        "# Set up X and y variables\n",
        "y, X = df['churn_value'], df.drop(columns='churn_value')\n",
        "# Split the data into training and test samples\n",
        "X_train, X_test, y_train, y_test = train_test_split(X, y, test_size=0.4, random_state=42)"
      ],
      "execution_count": 34,
      "outputs": []
    },
    {
      "cell_type": "code",
      "metadata": {
        "colab": {
          "base_uri": "https://localhost:8080/"
        },
        "id": "AaX7BW1cPTwT",
        "outputId": "445c117f-d6b9-4876-f8fc-4255545445d1"
      },
      "source": [
        "# Estimate KNN model and report outcomes\n",
        "knn = KNeighborsClassifier(n_neighbors=3)\n",
        "knn = knn.fit(X_train, y_train)\n",
        "y_pred = knn.predict(X_test)\n",
        "# Preciision, recall, f-score from the multi-class support function\n",
        "print(classification_report(y_test, y_pred))\n",
        "print('Accuracy score: ', round(accuracy_score(y_test, y_pred), 2))\n",
        "print('F1 Score: ', round(f1_score(y_test, y_pred), 2))"
      ],
      "execution_count": 35,
      "outputs": [
        {
          "output_type": "stream",
          "text": [
            "              precision    recall  f1-score   support\n",
            "\n",
            "           0       0.90      0.92      0.91      2048\n",
            "           1       0.77      0.72      0.74       770\n",
            "\n",
            "    accuracy                           0.86      2818\n",
            "   macro avg       0.83      0.82      0.82      2818\n",
            "weighted avg       0.86      0.86      0.86      2818\n",
            "\n",
            "Accuracy score:  0.86\n",
            "F1 Score:  0.74\n"
          ],
          "name": "stdout"
        }
      ]
    },
    {
      "cell_type": "code",
      "metadata": {
        "colab": {
          "base_uri": "https://localhost:8080/",
          "height": 763
        },
        "id": "coKdr7ABPTwT",
        "outputId": "f351e5d6-d769-4f0b-bc69-2f6e735e957b"
      },
      "source": [
        "# Plot confusion matrix\n",
        "import seaborn as sns\n",
        "import matplotlib.pyplot as plt\n",
        "%matplotlib inline\n",
        "# sns.set_palette(sns.color_palette(colors))\n",
        "_, ax = plt.subplots(figsize=(12,12))\n",
        "ax = sns.heatmap(confusion_matrix(y_test, y_pred), annot=True, fmt='d', cmap='magma', annot_kws={\"size\": 40, \"weight\": \"bold\"})  \n",
        "labels = ['False', 'True']\n",
        "ax.set_xticklabels(labels, fontsize=25);\n",
        "ax.set_yticklabels(labels[::-1], fontsize=25);\n",
        "ax.set_ylabel('Prediction', fontsize=30);\n",
        "ax.set_xlabel('Ground Truth', fontsize=30)\n",
        "### END SOLUTION"
      ],
      "execution_count": 41,
      "outputs": [
        {
          "output_type": "execute_result",
          "data": {
            "text/plain": [
              "Text(0.5, 87.0, 'Ground Truth')"
            ]
          },
          "metadata": {
            "tags": []
          },
          "execution_count": 41
        },
        {
          "output_type": "display_data",
          "data": {
            "image/png": "[encoded data removed]",
            "text/plain": [
              "<Figure size 864x864 with 2 Axes>"
            ]
          },
          "metadata": {
            "tags": [],
            "needs_background": "light"
          }
        }
      ]
    },
    {
      "cell_type": "markdown",
      "metadata": {
        "id": "_FylER1mPTwU"
      },
      "source": [
        "## Question 5\n",
        "* Using the same split of training and test samples, estimate another K-Nearest Neighbors model\n",
        "* This time, use K=5 and weight the results by distance\n",
        "* Again, examine the Precision, Recall, F-1 Score, and Accuracy of the classification, and visualize the Confusion Matrix. "
      ]
    },
    {
      "cell_type": "code",
      "metadata": {
        "colab": {
          "base_uri": "https://localhost:8080/"
        },
        "id": "ZooOjIW9PTwU",
        "outputId": "dd2ea477-c784-432f-cee1-473e43edd8e3"
      },
      "source": [
        "### BEGIN SOLUTION\n",
        "knn = KNeighborsClassifier(n_neighbors=5, weights='distance')\n",
        "knn = knn.fit(X_train, y_train)\n",
        "y_pred = knn.predict(X_test)\n",
        "# Preciision, recall, f-score from the multi-class support function\n",
        "print(classification_report(y_test, y_pred))\n",
        "print('Accuracy score: ', round(accuracy_score(y_test, y_pred), 2))\n",
        "print('F1 Score: ', round(f1_score(y_test, y_pred), 2))"
      ],
      "execution_count": 42,
      "outputs": [
        {
          "output_type": "stream",
          "text": [
            "              precision    recall  f1-score   support\n",
            "\n",
            "           0       0.91      0.92      0.91      2048\n",
            "           1       0.78      0.74      0.76       770\n",
            "\n",
            "    accuracy                           0.87      2818\n",
            "   macro avg       0.84      0.83      0.84      2818\n",
            "weighted avg       0.87      0.87      0.87      2818\n",
            "\n",
            "Accuracy score:  0.87\n",
            "F1 Score:  0.76\n"
          ],
          "name": "stdout"
        }
      ]
    },
    {
      "cell_type": "code",
      "metadata": {
        "colab": {
          "base_uri": "https://localhost:8080/",
          "height": 763
        },
        "id": "tPiN6VFAPTwU",
        "outputId": "fab3caf2-d212-4277-87e8-576f7e82cb59"
      },
      "source": [
        "# Plot confusion matrix\n",
        "_, ax = plt.subplots(figsize=(12,12))\n",
        "ax = sns.heatmap(confusion_matrix(y_test, y_pred), annot=True, fmt='d', cmap='magma_r', annot_kws={\"size\": 40, \"weight\": \"bold\"})  \n",
        "labels = ['False', 'True']\n",
        "ax.set_xticklabels(labels, fontsize=25);\n",
        "ax.set_yticklabels(labels[::-1], fontsize=25);\n",
        "ax.set_ylabel('Prediction', fontsize=30);\n",
        "ax.set_xlabel('Ground Truth', fontsize=30)\n",
        "### END SOLUTION"
      ],
      "execution_count": 44,
      "outputs": [
        {
          "output_type": "execute_result",
          "data": {
            "text/plain": [
              "Text(0.5, 87.0, 'Ground Truth')"
            ]
          },
          "metadata": {
            "tags": []
          },
          "execution_count": 44
        },
        {
          "output_type": "display_data",
          "data": {
            "image/png": "[encoded data removed]",
            "text/plain": [
              "<Figure size 864x864 with 2 Axes>"
            ]
          },
          "metadata": {
            "tags": [],
            "needs_background": "light"
          }
        }
      ]
    },
    {
      "cell_type": "markdown",
      "metadata": {
        "id": "7xs3xtg9PTwU"
      },
      "source": [
        "## Question 6\n",
        "* To determine the right value for K, examing results for values of K from 1 to 40.\n",
        "* This time, focus on two measures, the F-1 Score, and the Error Rate (1-Accuracy)\n",
        "* Generate charts which plot each of these measures as a function of K. \n",
        "* What do these charts suggest about the optimal value for K?"
      ]
    },
    {
      "cell_type": "code",
      "metadata": {
        "id": "-FZqESuuPTwV"
      },
      "source": [
        "### BEGIN SOLUTION\n",
        "max_k = 40\n",
        "f1_scores = list()\n",
        "error_rates = list() # 1-accuracy\n",
        "\n",
        "for k in range(1, max_k):\n",
        "    \n",
        "    knn = KNeighborsClassifier(n_neighbors=k, weights='distance')\n",
        "    knn = knn.fit(X_train, y_train)\n",
        "    \n",
        "    y_pred = knn.predict(X_test)\n",
        "    f1 = f1_score(y_pred, y_test)\n",
        "    f1_scores.append((k, round(f1_score(y_test, y_pred), 4)))\n",
        "    error = 1-round(accuracy_score(y_test, y_pred), 4)\n",
        "    error_rates.append((k, error))\n",
        "    \n",
        "f1_results = pd.DataFrame(f1_scores, columns=['K', 'F1 Score'])\n",
        "error_results = pd.DataFrame(error_rates, columns=['K', 'Error Rate'])"
      ],
      "execution_count": 45,
      "outputs": []
    },
    {
      "cell_type": "code",
      "metadata": {
        "colab": {
          "base_uri": "https://localhost:8080/",
          "height": 773
        },
        "id": "P9vpqhVqPTwV",
        "outputId": "789af528-4de4-4c8c-8c15-b7f51c0372a7"
      },
      "source": [
        "# Plot F1 results\n",
        "sns.set_context('talk')\n",
        "sns.set_style('ticks')\n",
        "\n",
        "plt.figure(dpi=300)\n",
        "ax = f1_results.set_index('K').plot(figsize=(12, 12), linewidth=6)\n",
        "ax.set(xlabel='K', ylabel='F1 Score')\n",
        "ax.set_xticks(range(1, max_k, 2));\n",
        "plt.title('KNN F1 Score')\n",
        "plt.savefig('knn_f1.png')"
      ],
      "execution_count": 46,
      "outputs": [
        {
          "output_type": "display_data",
          "data": {
            "text/plain": [
              "<Figure size 1800x1200 with 0 Axes>"
            ]
          },
          "metadata": {
            "tags": []
          }
        },
        {
          "output_type": "display_data",
          "data": {
            "image/png": "[encoded data removed]",
            "text/plain": [
              "<Figure size 864x864 with 1 Axes>"
            ]
          },
          "metadata": {
            "tags": []
          }
        }
      ]
    },
    {
      "cell_type": "code",
      "metadata": {
        "colab": {
          "base_uri": "https://localhost:8080/",
          "height": 773
        },
        "id": "uOixJxALPTwV",
        "outputId": "0e7ebbc2-74b4-4ee3-91f1-f27b49476487"
      },
      "source": [
        "# Plot Accuracy (Error Rate) results\n",
        "sns.set_context('talk')\n",
        "sns.set_style('ticks')\n",
        "\n",
        "plt.figure(dpi=300)\n",
        "ax = error_results.set_index('K').plot(figsize=(12, 12), linewidth=6)\n",
        "ax.set(xlabel='K', ylabel='Error Rate')\n",
        "ax.set_xticks(range(1, max_k, 2))\n",
        "plt.title('KNN Elbow Curve')\n",
        "plt.savefig('knn_elbow.png')\n",
        "### END SOLUTION"
      ],
      "execution_count": 47,
      "outputs": [
        {
          "output_type": "display_data",
          "data": {
            "text/plain": [
              "<Figure size 1800x1200 with 0 Axes>"
            ]
          },
          "metadata": {
            "tags": []
          }
        },
        {
          "output_type": "display_data",
          "data": {
            "image/png": "[encoded data removed]",
            "text/plain": [
              "<Figure size 864x864 with 1 Axes>"
            ]
          },
          "metadata": {
            "tags": []
          }
        }
      ]
    }
  ]
}