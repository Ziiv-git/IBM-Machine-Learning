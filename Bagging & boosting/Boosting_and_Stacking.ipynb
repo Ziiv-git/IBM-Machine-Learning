{
  "nbformat": 4,
  "nbformat_minor": 0,
  "metadata": {
    "kernelspec": {
      "display_name": "Python 3",
      "language": "python",
      "name": "python3"
    },
    "language_info": {
      "codemirror_mode": {
        "name": "ipython",
        "version": 3
      },
      "file_extension": ".py",
      "mimetype": "text/x-python",
      "name": "python",
      "nbconvert_exporter": "python",
      "pygments_lexer": "ipython3",
      "version": "3.7.4"
    },
    "colab": {
      "name": "Boosting_and_Stacking.ipynb",
      "provenance": [],
      "collapsed_sections": []
    }
  },
  "cells": [
    {
      "cell_type": "markdown",
      "metadata": {
        "run_control": {
          "marked": true
        },
        "id": "oSqT1YTfRMiM"
      },
      "source": [
        "# Machine Learning Foundation\n",
        "\n",
        "## Course 3, Part f: Boosting and Stacking LAB"
      ]
    },
    {
      "cell_type": "markdown",
      "metadata": {
        "run_control": {
          "marked": true
        },
        "id": "eY-5DzU9RMiR"
      },
      "source": [
        "## Introduction\n",
        "\n",
        "We will be using the [Human Activity Recognition with Smartphones](https://archive.ics.uci.edu/ml/datasets/Human+Activity+Recognition+Using+Smartphones) database, which was built from the recordings of study participants performing activities of daily living (ADL) while carrying a smartphone with an embedded inertial sensors. The objective is to classify activities into one of the six activities (walking, walking upstairs, walking downstairs, sitting, standing, and laying) performed.\n",
        "\n",
        "For each record in the dataset it is provided: \n",
        "\n",
        "- Triaxial acceleration from the accelerometer (total acceleration) and the estimated body acceleration. \n",
        "- Triaxial angular velocity from the gyroscope. \n",
        "- A 561-feature vector with time and frequency domain variables. \n",
        "- Its activity label. \n",
        "\n",
        "More information about the features is available on the website above."
      ]
    },
    {
      "cell_type": "code",
      "metadata": {
        "ExecuteTime": {
          "end_time": "2017-04-10T01:06:43.840071Z",
          "start_time": "2017-04-09T21:06:43.833258-04:00"
        },
        "run_control": {
          "marked": true
        },
        "id": "412xYQU7RMiS"
      },
      "source": [
        "import pandas as pd, numpy as np, matplotlib.pyplot as plt, os, sys, seaborn as sns\n",
        "# os.chdir('data')\n",
        "# from colorsetup import colors, palette\n",
        "# sns.set_palette(palette)"
      ],
      "execution_count": 1,
      "outputs": []
    },
    {
      "cell_type": "markdown",
      "metadata": {
        "run_control": {
          "marked": true
        },
        "id": "twRwuiXvRMiT"
      },
      "source": [
        "## Question 1\n",
        "\n",
        "* Import the data from the file `Human_Activity_Recognition_Using_Smartphones_Data.csv` and examine the shape and data types. For the data types, there will be too many to list each column separately. Rather, aggregate the types by count.\n",
        "* Determine if the float columns need to be scaled."
      ]
    },
    {
      "cell_type": "code",
      "metadata": {
        "ExecuteTime": {
          "end_time": "2017-04-10T01:06:46.240918Z",
          "start_time": "2017-04-09T21:06:43.842607-04:00"
        },
        "run_control": {
          "marked": true
        },
        "id": "_vVp1dc4RMiT"
      },
      "source": [
        "### BEGIN SOLUTION\n",
        "filepath = '/content/sample_data/Human_Activity_Recognition_Using_Smartphones_Data.csv'\n",
        "data = pd.read_csv(filepath, sep=',')"
      ],
      "execution_count": 28,
      "outputs": []
    },
    {
      "cell_type": "markdown",
      "metadata": {
        "run_control": {
          "marked": true
        },
        "id": "EkU1WY6PRMiT"
      },
      "source": [
        "The data has quite a few predictor columns."
      ]
    },
    {
      "cell_type": "code",
      "metadata": {
        "ExecuteTime": {
          "end_time": "2017-04-10T01:06:46.257618Z",
          "start_time": "2017-04-09T21:06:46.243291-04:00"
        },
        "jupyter": {
          "outputs_hidden": false
        },
        "run_control": {
          "marked": true
        },
        "colab": {
          "base_uri": "https://localhost:8080/"
        },
        "id": "75MpZPUuRMiT",
        "outputId": "738889d5-edc7-4047-bd09-adea8b3967bb"
      },
      "source": [
        "data.shape"
      ],
      "execution_count": 29,
      "outputs": [
        {
          "output_type": "execute_result",
          "data": {
            "text/plain": [
              "(10299, 562)"
            ]
          },
          "metadata": {
            "tags": []
          },
          "execution_count": 29
        }
      ]
    },
    {
      "cell_type": "markdown",
      "metadata": {
        "run_control": {
          "marked": true
        },
        "id": "RhyBdq29RMiU"
      },
      "source": [
        "And they're all float values. The only non-float is the categories column, which is what's being predicted."
      ]
    },
    {
      "cell_type": "code",
      "metadata": {
        "ExecuteTime": {
          "end_time": "2017-04-10T01:06:46.310075Z",
          "start_time": "2017-04-09T21:06:46.260274-04:00"
        },
        "jupyter": {
          "outputs_hidden": false
        },
        "run_control": {
          "marked": true
        },
        "colab": {
          "base_uri": "https://localhost:8080/"
        },
        "id": "iKHBKqqMRMiU",
        "outputId": "de4c5d47-1f7c-4bab-f037-477fe8105105"
      },
      "source": [
        "data.dtypes.value_counts()"
      ],
      "execution_count": 30,
      "outputs": [
        {
          "output_type": "execute_result",
          "data": {
            "text/plain": [
              "float64    561\n",
              "object       1\n",
              "dtype: int64"
            ]
          },
          "metadata": {
            "tags": []
          },
          "execution_count": 30
        }
      ]
    },
    {
      "cell_type": "markdown",
      "metadata": {
        "run_control": {
          "marked": true
        },
        "id": "qgfYUFh4RMiV"
      },
      "source": [
        "The minimum and maximum value for the float columns is -1.0 and 1.0, respectively. However, scaling is never required for tree-based methods."
      ]
    },
    {
      "cell_type": "code",
      "metadata": {
        "ExecuteTime": {
          "end_time": "2017-04-10T01:06:46.596533Z",
          "start_time": "2017-04-09T21:06:46.314312-04:00"
        },
        "jupyter": {
          "outputs_hidden": false
        },
        "run_control": {
          "marked": true
        },
        "colab": {
          "base_uri": "https://localhost:8080/"
        },
        "id": "F51WqPVlRMiV",
        "outputId": "d6f6a534-a338-46b3-dea3-2cdfe508e2c7"
      },
      "source": [
        "# Mask to select float columns\n",
        "float_columns = (data.dtypes == np.float)\n",
        "\n",
        "# Verify that the maximum of all float columns is 1.0\n",
        "print( (data.loc[:,float_columns].max()==1.0).all() )\n",
        "\n",
        "# Verify that the minimum of all float columns is -1.0\n",
        "print( (data.loc[:,float_columns].min()==-1.0).all() )\n",
        "### END SOLUTION"
      ],
      "execution_count": 31,
      "outputs": [
        {
          "output_type": "stream",
          "text": [
            "True\n",
            "True\n"
          ],
          "name": "stdout"
        }
      ]
    },
    {
      "cell_type": "markdown",
      "metadata": {
        "run_control": {
          "marked": true
        },
        "id": "RS_Dol3IRMiV"
      },
      "source": [
        "## Question 2\n",
        "\n",
        "* Integer encode the activities.\n",
        "* Split the data into train and test data sets. Decide if the data will be stratified or not during the train/test split."
      ]
    },
    {
      "cell_type": "code",
      "metadata": {
        "id": "gJWlBuCIV6w8"
      },
      "source": [
        "data = data.dropna()"
      ],
      "execution_count": 33,
      "outputs": []
    },
    {
      "cell_type": "code",
      "metadata": {
        "ExecuteTime": {
          "end_time": "2017-04-10T01:06:47.046807Z",
          "start_time": "2017-04-09T21:06:46.600558-04:00"
        },
        "jupyter": {
          "outputs_hidden": false
        },
        "run_control": {
          "marked": true
        },
        "colab": {
          "base_uri": "https://localhost:8080/"
        },
        "id": "cELbH8h1RMiV",
        "outputId": "fccc351e-2891-4db5-97e7-39a9b7f5ea51"
      },
      "source": [
        "### BEGIN SOLUTION\n",
        "from sklearn.preprocessing import LabelEncoder\n",
        "\n",
        "le = LabelEncoder()\n",
        "\n",
        "data['Activity'] = le.fit_transform(data['Activity'].astype(str))\n",
        "# df[cat] = le.fit_transform(df[cat].astype(str))\n",
        "\n",
        "le.classes_"
      ],
      "execution_count": 34,
      "outputs": [
        {
          "output_type": "execute_result",
          "data": {
            "text/plain": [
              "array(['LAYING', 'SITTING', 'STANDING', 'WALKING', 'WALKING_DOWNSTAIRS',\n",
              "       'WALKING_UPSTAIRS'], dtype=object)"
            ]
          },
          "metadata": {
            "tags": []
          },
          "execution_count": 34
        }
      ]
    },
    {
      "cell_type": "code",
      "metadata": {
        "ExecuteTime": {
          "end_time": "2017-04-10T01:06:47.053951Z",
          "start_time": "2017-04-09T21:06:47.048890-04:00"
        },
        "jupyter": {
          "outputs_hidden": false
        },
        "run_control": {
          "marked": true
        },
        "colab": {
          "base_uri": "https://localhost:8080/"
        },
        "id": "liypvW3JRMiW",
        "outputId": "7d49021d-ce43-4313-a9ba-e0840a54e449"
      },
      "source": [
        "data.Activity.unique()"
      ],
      "execution_count": 35,
      "outputs": [
        {
          "output_type": "execute_result",
          "data": {
            "text/plain": [
              "array([2, 1, 0, 3, 4, 5])"
            ]
          },
          "metadata": {
            "tags": []
          },
          "execution_count": 35
        }
      ]
    },
    {
      "cell_type": "markdown",
      "metadata": {
        "run_control": {
          "marked": true
        },
        "id": "3pO6VE7nRMiW"
      },
      "source": [
        "**NOTE**: We are about to create training and test sets from `data`. On those datasets, we are going to run grid searches over many choices of parameters. This can take some time. In order to shorten the grid search time, feel free to downsample `data` and create `X_train, X_test, y_train, y_test` from the downsampled dataset.\n",
        "\n",
        "Now split the data into train and test data sets. A stratified split was not used here. If there are issues with any of the error metrics on the test set, it can be a good idea to start model fitting over using a stratified split. Boosting is a pretty powerful model, though, so it may not be necessary in this case."
      ]
    },
    {
      "cell_type": "code",
      "metadata": {
        "ExecuteTime": {
          "end_time": "2017-04-10T01:06:47.155794Z",
          "start_time": "2017-04-09T21:06:47.055576-04:00"
        },
        "run_control": {
          "marked": true
        },
        "id": "3D7jkJdcRMiW"
      },
      "source": [
        "from sklearn.model_selection import train_test_split\n",
        "\n",
        "# Alternatively, we could stratify the categories in the split, as was done previously\n",
        "feature_columns = [x for x in data.columns if x != 'Activity']\n",
        "\n",
        "X_train, X_test, y_train, y_test = train_test_split(data[feature_columns], data['Activity'],\n",
        "                 test_size=0.3, random_state=42)\n"
      ],
      "execution_count": 36,
      "outputs": []
    },
    {
      "cell_type": "code",
      "metadata": {
        "ExecuteTime": {
          "end_time": "2017-04-10T01:06:47.170296Z",
          "start_time": "2017-04-09T21:06:47.157710-04:00"
        },
        "jupyter": {
          "outputs_hidden": false
        },
        "run_control": {
          "marked": true
        },
        "colab": {
          "base_uri": "https://localhost:8080/"
        },
        "id": "Xa_U3_OdRMiW",
        "outputId": "a9c1d1eb-986b-485a-8bd1-40000ad6fba0"
      },
      "source": [
        "X_train.shape, y_train.shape, X_test.shape, y_test.shape\n",
        "### END SOLUTION"
      ],
      "execution_count": 37,
      "outputs": [
        {
          "output_type": "execute_result",
          "data": {
            "text/plain": [
              "((7209, 561), (7209,), (3090, 561), (3090,))"
            ]
          },
          "metadata": {
            "tags": []
          },
          "execution_count": 37
        }
      ]
    },
    {
      "cell_type": "markdown",
      "metadata": {
        "run_control": {
          "marked": true
        },
        "id": "ZZ6zDO8MRMiX"
      },
      "source": [
        "## Question 3\n",
        "\n",
        "* Fit gradient boosted tree models with all parameters set to their defaults the following tree numbers (`n_estimators = [15, 25, 50, 100, 200, 400]`) and evaluate the accuracy on the test data for each of these models. \n",
        "* Plot the accuracy as a function of estimator number.\n",
        "\n",
        "*Note:* there is no out-of-bag error for boosted models. And the `warm_flag=True` setting has a bug in the gradient boosted model, so don't use it. Simply create the model inside the `for` loop and set the number of estimators at this time. This will make the fitting take a little longer. Additionally, boosting models tend to take longer to fit than bagged ones because the decision stumps must be fit successively."
      ]
    },
    {
      "cell_type": "code",
      "metadata": {
        "ExecuteTime": {
          "end_time": "2017-04-10T01:25:21.780609Z",
          "start_time": "2017-04-09T21:06:47.175316-04:00"
        },
        "jupyter": {
          "outputs_hidden": false
        },
        "run_control": {
          "marked": true
        },
        "colab": {
          "base_uri": "https://localhost:8080/",
          "height": 359
        },
        "id": "LKVdnsBPRMiX",
        "outputId": "215c992b-925f-49eb-dd9a-668f5546f42d"
      },
      "source": [
        "### BEGIN SOLUTION\n",
        "from sklearn.ensemble import GradientBoostingClassifier\n",
        "from sklearn.metrics import accuracy_score\n",
        "\n",
        "error_list = list()\n",
        "\n",
        "# Iterate through various possibilities for number of trees\n",
        "tree_list = [15, 25, 50, 100, 200, 400]\n",
        "for n_trees in tree_list:\n",
        "    \n",
        "    # Initialize the gradient boost classifier\n",
        "    GBC = GradientBoostingClassifier(n_estimators=n_trees, random_state=42)\n",
        "\n",
        "    # Fit the model\n",
        "    print(f'Fitting model with {n_trees} trees')\n",
        "    GBC.fit(X_train.values, y_train.values)\n",
        "    y_pred = GBC.predict(X_test)\n",
        "\n",
        "    # Get the error\n",
        "    error = 1.0 - accuracy_score(y_test, y_pred)\n",
        "    \n",
        "    # Store it\n",
        "    error_list.append(pd.Series({'n_trees': n_trees, 'error': error}))\n",
        "\n",
        "error_df = pd.concat(error_list, axis=1).T.set_index('n_trees')\n",
        "\n",
        "error_df"
      ],
      "execution_count": 38,
      "outputs": [
        {
          "output_type": "stream",
          "text": [
            "Fitting model with 15 trees\n",
            "Fitting model with 25 trees\n",
            "Fitting model with 50 trees\n",
            "Fitting model with 100 trees\n",
            "Fitting model with 200 trees\n",
            "Fitting model with 400 trees\n"
          ],
          "name": "stdout"
        },
        {
          "output_type": "execute_result",
          "data": {
            "text/html": [
              "<div>\n",
              "<style scoped>\n",
              "    .dataframe tbody tr th:only-of-type {\n",
              "        vertical-align: middle;\n",
              "    }\n",
              "\n",
              "    .dataframe tbody tr th {\n",
              "        vertical-align: top;\n",
              "    }\n",
              "\n",
              "    .dataframe thead th {\n",
              "        text-align: right;\n",
              "    }\n",
              "</style>\n",
              "<table border=\"1\" class=\"dataframe\">\n",
              "  <thead>\n",
              "    <tr style=\"text-align: right;\">\n",
              "      <th></th>\n",
              "      <th>error</th>\n",
              "    </tr>\n",
              "    <tr>\n",
              "      <th>n_trees</th>\n",
              "      <th></th>\n",
              "    </tr>\n",
              "  </thead>\n",
              "  <tbody>\n",
              "    <tr>\n",
              "      <th>15.0</th>\n",
              "      <td>0.051133</td>\n",
              "    </tr>\n",
              "    <tr>\n",
              "      <th>25.0</th>\n",
              "      <td>0.033981</td>\n",
              "    </tr>\n",
              "    <tr>\n",
              "      <th>50.0</th>\n",
              "      <td>0.019741</td>\n",
              "    </tr>\n",
              "    <tr>\n",
              "      <th>100.0</th>\n",
              "      <td>0.014239</td>\n",
              "    </tr>\n",
              "    <tr>\n",
              "      <th>200.0</th>\n",
              "      <td>0.011327</td>\n",
              "    </tr>\n",
              "    <tr>\n",
              "      <th>400.0</th>\n",
              "      <td>0.009385</td>\n",
              "    </tr>\n",
              "  </tbody>\n",
              "</table>\n",
              "</div>"
            ],
            "text/plain": [
              "            error\n",
              "n_trees          \n",
              "15.0     0.051133\n",
              "25.0     0.033981\n",
              "50.0     0.019741\n",
              "100.0    0.014239\n",
              "200.0    0.011327\n",
              "400.0    0.009385"
            ]
          },
          "metadata": {
            "tags": []
          },
          "execution_count": 38
        }
      ]
    },
    {
      "cell_type": "markdown",
      "metadata": {
        "id": "4HlFNE02RMiX"
      },
      "source": [
        "Now plot the result."
      ]
    },
    {
      "cell_type": "code",
      "metadata": {
        "ExecuteTime": {
          "end_time": "2017-04-10T01:25:22.377634Z",
          "start_time": "2017-04-09T21:25:22.121923-04:00"
        },
        "jupyter": {
          "outputs_hidden": false
        },
        "run_control": {
          "marked": true
        },
        "colab": {
          "base_uri": "https://localhost:8080/",
          "height": 518
        },
        "id": "bFUKnvuQRMiX",
        "outputId": "3601164b-63d4-43bc-aa23-49486e7dcc75"
      },
      "source": [
        "sns.set_context('talk')\n",
        "sns.set_style('white')\n",
        "# sns.set_palette(palette)\n",
        "\n",
        "# Create the plot\n",
        "ax = error_df.plot(marker='o', figsize=(12, 8), linewidth=5)\n",
        "\n",
        "# Set parameters\n",
        "ax.set(xlabel='Number of Trees', ylabel='Error')\n",
        "ax.set_xlim(0, max(error_df.index)*1.1);\n",
        "### END SOLUTION"
      ],
      "execution_count": 40,
      "outputs": [
        {
          "output_type": "display_data",
          "data": {
            "image/png": "[encoded data removed]",
            "text/plain": [
              "<Figure size 864x576 with 1 Axes>"
            ]
          },
          "metadata": {
            "tags": []
          }
        }
      ]
    },
    {
      "cell_type": "markdown",
      "metadata": {
        "run_control": {
          "marked": true
        },
        "id": "1vo6s1-XRMiY"
      },
      "source": [
        "## Question 4\n",
        "\n",
        "* Using a grid search with cross-validation, fit a new gradient boosted classifier with the same list of estimators as question 3. Also try varying the learning rates (0.1, 0.01, 0.001, etc.), the subsampling value (1.0 or 0.5), and the number of maximum features (1, 2, etc.).\n",
        "* Examine the parameters of the best fit model.\n",
        "* Calculate relevant error metrics on this model and examine the confusion matrix."
      ]
    },
    {
      "cell_type": "code",
      "metadata": {
        "ExecuteTime": {
          "end_time": "2017-04-10T01:35:23.346693Z",
          "start_time": "2017-04-09T21:25:22.379244-04:00"
        },
        "run_control": {
          "marked": true
        },
        "id": "Y9_8ar0cRMiY"
      },
      "source": [
        "### BEGIN SOLUTION\n",
        "from sklearn.model_selection import GridSearchCV\n",
        "\n",
        "# The parameters to be fit\n",
        "param_grid = {'n_estimators': tree_list,\n",
        "              'learning_rate': [0.1, 0.01, 0.001, 0.0001],\n",
        "              'subsample': [1.0, 0.5],\n",
        "              'max_features': [1, 2, 3, 4]}\n",
        "\n",
        "# The grid search object\n",
        "GV_GBC = GridSearchCV(GradientBoostingClassifier(random_state=42), \n",
        "                      param_grid=param_grid, \n",
        "                      scoring='accuracy',\n",
        "                      n_jobs=-1)\n",
        "\n",
        "# Do the grid search\n",
        "GV_GBC = GV_GBC.fit(X_train, y_train)"
      ],
      "execution_count": 41,
      "outputs": []
    },
    {
      "cell_type": "code",
      "metadata": {
        "ExecuteTime": {
          "end_time": "2017-04-10T01:35:23.359160Z",
          "start_time": "2017-04-09T21:35:23.350350-04:00"
        },
        "jupyter": {
          "outputs_hidden": false
        },
        "colab": {
          "base_uri": "https://localhost:8080/"
        },
        "id": "iaoV6vt4RMiY",
        "outputId": "117a047e-3fd2-47c5-a7ba-81149e6cfe65"
      },
      "source": [
        "# The best model\n",
        "GV_GBC.best_estimator_"
      ],
      "execution_count": 42,
      "outputs": [
        {
          "output_type": "execute_result",
          "data": {
            "text/plain": [
              "GradientBoostingClassifier(ccp_alpha=0.0, criterion='friedman_mse', init=None,\n",
              "                           learning_rate=0.1, loss='deviance', max_depth=3,\n",
              "                           max_features=4, max_leaf_nodes=None,\n",
              "                           min_impurity_decrease=0.0, min_impurity_split=None,\n",
              "                           min_samples_leaf=1, min_samples_split=2,\n",
              "                           min_weight_fraction_leaf=0.0, n_estimators=400,\n",
              "                           n_iter_no_change=None, presort='deprecated',\n",
              "                           random_state=42, subsample=0.5, tol=0.0001,\n",
              "                           validation_fraction=0.1, verbose=0,\n",
              "                           warm_start=False)"
            ]
          },
          "metadata": {
            "tags": []
          },
          "execution_count": 42
        }
      ]
    },
    {
      "cell_type": "markdown",
      "metadata": {
        "id": "-qg6STsoRMiZ"
      },
      "source": [
        "The error metrics. Classification report is particularly convenient for multi-class cases."
      ]
    },
    {
      "cell_type": "code",
      "metadata": {
        "ExecuteTime": {
          "end_time": "2017-04-10T01:35:23.673080Z",
          "start_time": "2017-04-09T21:35:23.361883-04:00"
        },
        "jupyter": {
          "outputs_hidden": false
        },
        "colab": {
          "base_uri": "https://localhost:8080/"
        },
        "id": "I1-T1E7CRMiZ",
        "outputId": "23e26a7c-2c7c-4b89-aa1e-817cdc75895f"
      },
      "source": [
        "from sklearn.metrics import classification_report\n",
        "\n",
        "y_pred = GV_GBC.predict(X_test)\n",
        "print(classification_report(y_pred, y_test))"
      ],
      "execution_count": 43,
      "outputs": [
        {
          "output_type": "stream",
          "text": [
            "              precision    recall  f1-score   support\n",
            "\n",
            "           0       1.00      1.00      1.00       597\n",
            "           1       0.97      0.96      0.97       567\n",
            "           2       0.96      0.98      0.97       540\n",
            "           3       1.00      1.00      1.00       540\n",
            "           4       0.99      1.00      0.99       419\n",
            "           5       0.99      0.99      0.99       427\n",
            "\n",
            "    accuracy                           0.99      3090\n",
            "   macro avg       0.99      0.99      0.99      3090\n",
            "weighted avg       0.99      0.99      0.99      3090\n",
            "\n"
          ],
          "name": "stdout"
        }
      ]
    },
    {
      "cell_type": "markdown",
      "metadata": {
        "id": "D22zXT6jRMiZ"
      },
      "source": [
        "The confusion matrix. Note that the gradient boosted model has a little trouble distinguishing between activity class 1 and 2."
      ]
    },
    {
      "cell_type": "code",
      "metadata": {
        "ExecuteTime": {
          "end_time": "2017-04-10T01:35:24.084430Z",
          "start_time": "2017-04-09T21:35:23.675399-04:00"
        },
        "jupyter": {
          "outputs_hidden": false
        },
        "colab": {
          "base_uri": "https://localhost:8080/",
          "height": 279
        },
        "id": "OFco4WAERMiZ",
        "outputId": "fccc2c9f-b861-42c8-a183-4318214c85f0"
      },
      "source": [
        "from sklearn.metrics import confusion_matrix\n",
        "\n",
        "sns.set_context('talk')\n",
        "cm = confusion_matrix(y_test, y_pred)\n",
        "ax = sns.heatmap(cm, annot=True, fmt='d')\n",
        "### END SOLUTION"
      ],
      "execution_count": 45,
      "outputs": [
        {
          "output_type": "display_data",
          "data": {
            "image/png": "[encoded data removed]",
            "text/plain": [
              "<Figure size 432x288 with 2 Axes>"
            ]
          },
          "metadata": {
            "tags": []
          }
        }
      ]
    },
    {
      "cell_type": "markdown",
      "metadata": {
        "id": "jjFPnruRRMiZ"
      },
      "source": [
        "## Question 5\n",
        "\n",
        "* Create an AdaBoost model and fit it using grid search, much like question 4. Try a range of estimators between 100 and 200.\n",
        "* Compare the errors from AdaBoost to those from the GradientBoostedClassifier."
      ]
    },
    {
      "cell_type": "code",
      "metadata": {
        "ExecuteTime": {
          "end_time": "2017-04-10T01:41:12.569486Z",
          "start_time": "2017-04-09T21:35:24.086016-04:00"
        },
        "id": "E3d1X7CgRMia"
      },
      "source": [
        "### BEGIN SOLUTION\n",
        "from sklearn.ensemble import AdaBoostClassifier\n",
        "from sklearn.tree import DecisionTreeClassifier\n",
        "\n",
        "ABC = AdaBoostClassifier(DecisionTreeClassifier(max_depth=1))\n",
        "\n",
        "param_grid = {'n_estimators': [100, 150, 200],\n",
        "              'learning_rate': [0.01, 0.001]}\n",
        "\n",
        "GV_ABC = GridSearchCV(ABC,\n",
        "                      param_grid=param_grid, \n",
        "                      scoring='accuracy',\n",
        "                      n_jobs=-1)\n",
        "\n",
        "GV_ABC = GV_ABC.fit(X_train, y_train)"
      ],
      "execution_count": 46,
      "outputs": []
    },
    {
      "cell_type": "markdown",
      "metadata": {
        "id": "3TdGiUOmRMia"
      },
      "source": [
        "The best model."
      ]
    },
    {
      "cell_type": "code",
      "metadata": {
        "ExecuteTime": {
          "end_time": "2017-04-10T01:41:12.577054Z",
          "start_time": "2017-04-09T21:41:12.571918-04:00"
        },
        "jupyter": {
          "outputs_hidden": false
        },
        "colab": {
          "base_uri": "https://localhost:8080/"
        },
        "id": "3LWxbzZQRMia",
        "outputId": "5f05a40d-0ed9-4ef4-8977-9439735539c0"
      },
      "source": [
        "# The best model\n",
        "GV_ABC.best_estimator_"
      ],
      "execution_count": 47,
      "outputs": [
        {
          "output_type": "execute_result",
          "data": {
            "text/plain": [
              "AdaBoostClassifier(algorithm='SAMME.R',\n",
              "                   base_estimator=DecisionTreeClassifier(ccp_alpha=0.0,\n",
              "                                                         class_weight=None,\n",
              "                                                         criterion='gini',\n",
              "                                                         max_depth=1,\n",
              "                                                         max_features=None,\n",
              "                                                         max_leaf_nodes=None,\n",
              "                                                         min_impurity_decrease=0.0,\n",
              "                                                         min_impurity_split=None,\n",
              "                                                         min_samples_leaf=1,\n",
              "                                                         min_samples_split=2,\n",
              "                                                         min_weight_fraction_leaf=0.0,\n",
              "                                                         presort='deprecated',\n",
              "                                                         random_state=None,\n",
              "                                                         splitter='best'),\n",
              "                   learning_rate=0.01, n_estimators=100, random_state=None)"
            ]
          },
          "metadata": {
            "tags": []
          },
          "execution_count": 47
        }
      ]
    },
    {
      "cell_type": "markdown",
      "metadata": {
        "id": "RTxYwAx6RMia"
      },
      "source": [
        "The error metrics. Note that the issues with class 1 and 2 appear to have become more problematic. Also note other issues for classes 3 - 5. AdaBoost is very sensitive to outliers, so that could be the problem here."
      ]
    },
    {
      "cell_type": "code",
      "metadata": {
        "ExecuteTime": {
          "end_time": "2017-04-10T01:41:12.694494Z",
          "start_time": "2017-04-09T21:41:12.579980-04:00"
        },
        "jupyter": {
          "outputs_hidden": false
        },
        "colab": {
          "base_uri": "https://localhost:8080/"
        },
        "id": "rctQ4I8gRMia",
        "outputId": "dbfc6468-e1bf-45f0-b24d-10e7efc573f5"
      },
      "source": [
        "y_pred = GV_ABC.predict(X_test)\n",
        "print(classification_report(y_pred, y_test))"
      ],
      "execution_count": 48,
      "outputs": [
        {
          "output_type": "stream",
          "text": [
            "              precision    recall  f1-score   support\n",
            "\n",
            "           0       1.00      1.00      1.00       598\n",
            "           1       0.00      1.00      0.00         1\n",
            "           2       1.00      0.49      0.66      1108\n",
            "           3       0.92      0.84      0.88       589\n",
            "           4       0.73      0.95      0.82       320\n",
            "           5       0.89      0.80      0.84       474\n",
            "\n",
            "    accuracy                           0.75      3090\n",
            "   macro avg       0.76      0.85      0.70      3090\n",
            "weighted avg       0.94      0.75      0.81      3090\n",
            "\n"
          ],
          "name": "stdout"
        }
      ]
    },
    {
      "cell_type": "code",
      "metadata": {
        "ExecuteTime": {
          "end_time": "2017-04-10T01:41:12.986696Z",
          "start_time": "2017-04-09T21:41:12.696346-04:00"
        },
        "jupyter": {
          "outputs_hidden": false
        },
        "colab": {
          "base_uri": "https://localhost:8080/",
          "height": 279
        },
        "id": "SQfonKzeRMib",
        "outputId": "7b40af0d-7846-4ec3-b0b5-1fe99a0cc855"
      },
      "source": [
        "sns.set_context('talk')\n",
        "cm = confusion_matrix(y_test, y_pred)\n",
        "ax = sns.heatmap(cm, annot=True, fmt='d')\n",
        "### END SOLUTION"
      ],
      "execution_count": 50,
      "outputs": [
        {
          "output_type": "display_data",
          "data": {
            "image/png": "[encoded data removed]",
            "text/plain": [
              "<Figure size 432x288 with 2 Axes>"
            ]
          },
          "metadata": {
            "tags": []
          }
        }
      ]
    },
    {
      "cell_type": "markdown",
      "metadata": {
        "id": "kEMmCEKXRMib"
      },
      "source": [
        "## Question 6\n",
        "\n",
        "* Fit a logistic regression model with regularization. \n",
        "* Using `VotingClassifier`, fit the logistic regression model along with either the GratientBoostedClassifier or the AdaBoost model (or both) from questions 4 and 5.\n",
        "* Determine the error as before and compare the results to the appropriate gradient boosted model(s).\n",
        "* Plot the confusion matrix for the best model created in this set of exercises."
      ]
    },
    {
      "cell_type": "code",
      "metadata": {
        "ExecuteTime": {
          "end_time": "2017-04-10T01:41:56.052177Z",
          "start_time": "2017-04-09T21:41:12.988303-04:00"
        },
        "id": "LJXpXMuwRMib"
      },
      "source": [
        "### BEGIN SOLUTION\n",
        "from sklearn.linear_model import LogisticRegression\n",
        "\n",
        "# L2 regularized logistic regression\n",
        "LR_L2 = LogisticRegression(penalty='l2', max_iter=500, solver='saga').fit(X_train, y_train)"
      ],
      "execution_count": 51,
      "outputs": []
    },
    {
      "cell_type": "markdown",
      "metadata": {
        "id": "YVpXwVrIRMib"
      },
      "source": [
        "Check the errors and confusion matrix for the logistic regression model."
      ]
    },
    {
      "cell_type": "code",
      "metadata": {
        "ExecuteTime": {
          "end_time": "2017-04-10T01:41:56.070163Z",
          "start_time": "2017-04-09T21:41:56.054354-04:00"
        },
        "jupyter": {
          "outputs_hidden": false
        },
        "colab": {
          "base_uri": "https://localhost:8080/"
        },
        "id": "0QOVXNsZRMib",
        "outputId": "b27a8017-b322-4528-f416-e0f7764cb950"
      },
      "source": [
        "y_pred = LR_L2.predict(X_test)\n",
        "print(classification_report(y_pred, y_test))"
      ],
      "execution_count": 52,
      "outputs": [
        {
          "output_type": "stream",
          "text": [
            "              precision    recall  f1-score   support\n",
            "\n",
            "           0       1.00      1.00      1.00       598\n",
            "           1       0.95      0.96      0.95       558\n",
            "           2       0.95      0.95      0.95       547\n",
            "           3       1.00      0.99      0.99       544\n",
            "           4       0.98      1.00      0.99       413\n",
            "           5       1.00      0.98      0.99       430\n",
            "\n",
            "    accuracy                           0.98      3090\n",
            "   macro avg       0.98      0.98      0.98      3090\n",
            "weighted avg       0.98      0.98      0.98      3090\n",
            "\n"
          ],
          "name": "stdout"
        }
      ]
    },
    {
      "cell_type": "code",
      "metadata": {
        "ExecuteTime": {
          "end_time": "2017-04-10T01:41:56.388450Z",
          "start_time": "2017-04-09T21:41:56.072785-04:00"
        },
        "jupyter": {
          "outputs_hidden": false
        },
        "scrolled": true,
        "colab": {
          "base_uri": "https://localhost:8080/",
          "height": 279
        },
        "id": "HKI7AY_HRMic",
        "outputId": "8a7fc03b-417c-48f9-b303-5ceaeb7edc95"
      },
      "source": [
        "sns.set_context('talk')\n",
        "cm = confusion_matrix(y_test, y_pred)\n",
        "ax = sns.heatmap(cm, annot=True, fmt='d')"
      ],
      "execution_count": 54,
      "outputs": [
        {
          "output_type": "display_data",
          "data": {
            "image/png": "[encoded data removed]",
            "text/plain": [
              "<Figure size 432x288 with 2 Axes>"
            ]
          },
          "metadata": {
            "tags": []
          }
        }
      ]
    },
    {
      "cell_type": "markdown",
      "metadata": {
        "id": "eqhZCqS-RMic"
      },
      "source": [
        "And now the stacked model."
      ]
    },
    {
      "cell_type": "code",
      "metadata": {
        "ExecuteTime": {
          "end_time": "2017-04-10T01:52:23.739656Z",
          "start_time": "2017-04-09T21:41:56.390038-04:00"
        },
        "id": "47oprm7zRMic"
      },
      "source": [
        "from sklearn.ensemble import VotingClassifier\n",
        "\n",
        "# The combined model--logistic regression and gradient boosted trees\n",
        "estimators = [('LR_L2', LR_L2), ('GBC', GV_GBC)]\n",
        "\n",
        "# Though it wasn't done here, it is often desirable to train \n",
        "# this model using an additional hold-out data set and/or with cross validation\n",
        "VC = VotingClassifier(estimators, voting='soft')\n",
        "VC = VC.fit(X_train, y_train)"
      ],
      "execution_count": 55,
      "outputs": []
    },
    {
      "cell_type": "markdown",
      "metadata": {
        "id": "GmPdX6DIRMic"
      },
      "source": [
        "Performance for the voting classifier should improve relative to either logistic regression or gradient boosted trees alone. However, the fact that logistic regression does almost as well as gradient boosted trees is an important reminder to try the simplest model first. In some cases, its performance will be good enough."
      ]
    },
    {
      "cell_type": "code",
      "metadata": {
        "ExecuteTime": {
          "end_time": "2017-04-10T01:52:24.057613Z",
          "start_time": "2017-04-09T21:52:23.742553-04:00"
        },
        "jupyter": {
          "outputs_hidden": false
        },
        "colab": {
          "base_uri": "https://localhost:8080/"
        },
        "id": "U3mAGhjbRMic",
        "outputId": "f954778b-9914-47be-8d13-9c47211184c5"
      },
      "source": [
        "y_pred = VC.predict(X_test)\n",
        "print(classification_report(y_test, y_pred))"
      ],
      "execution_count": 56,
      "outputs": [
        {
          "output_type": "stream",
          "text": [
            "              precision    recall  f1-score   support\n",
            "\n",
            "           0       1.00      1.00      1.00       597\n",
            "           1       0.97      0.96      0.97       563\n",
            "           2       0.97      0.97      0.97       547\n",
            "           3       1.00      1.00      1.00       539\n",
            "           4       1.00      1.00      1.00       420\n",
            "           5       0.99      1.00      0.99       424\n",
            "\n",
            "    accuracy                           0.99      3090\n",
            "   macro avg       0.99      0.99      0.99      3090\n",
            "weighted avg       0.99      0.99      0.99      3090\n",
            "\n"
          ],
          "name": "stdout"
        }
      ]
    },
    {
      "cell_type": "code",
      "metadata": {
        "ExecuteTime": {
          "end_time": "2017-04-10T01:52:24.442361Z",
          "start_time": "2017-04-09T21:52:24.059996-04:00"
        },
        "jupyter": {
          "outputs_hidden": false
        },
        "colab": {
          "base_uri": "https://localhost:8080/",
          "height": 214
        },
        "id": "K7pyFQRkRMid",
        "outputId": "4f480f35-19ac-43ff-d9fc-bae8e1b33d3c"
      },
      "source": [
        "sns.set_context('talk')\n",
        "cm = confusion_matrix(y_test, y_pred)\n",
        "ax = sns.heatmap(cm, annot=True, fmt='d')\n",
        "### END SOLUTION"
      ],
      "execution_count": 57,
      "outputs": [
        {
          "output_type": "error",
          "ename": "NameError",
          "evalue": "ignored",
          "traceback": [
            "\u001b[0;31m---------------------------------------------------------------------------\u001b[0m",
            "\u001b[0;31mNameError\u001b[0m                                 Traceback (most recent call last)",
            "\u001b[0;32m<ipython-input-57-ffa8ca0939a8>\u001b[0m in \u001b[0;36m<module>\u001b[0;34m()\u001b[0m\n\u001b[1;32m      1\u001b[0m \u001b[0msns\u001b[0m\u001b[0;34m.\u001b[0m\u001b[0mset_context\u001b[0m\u001b[0;34m(\u001b[0m\u001b[0;34m'talk'\u001b[0m\u001b[0;34m)\u001b[0m\u001b[0;34m\u001b[0m\u001b[0;34m\u001b[0m\u001b[0m\n\u001b[1;32m      2\u001b[0m \u001b[0mcm\u001b[0m \u001b[0;34m=\u001b[0m \u001b[0mconfusion_matrix\u001b[0m\u001b[0;34m(\u001b[0m\u001b[0my_test\u001b[0m\u001b[0;34m,\u001b[0m \u001b[0my_pred\u001b[0m\u001b[0;34m)\u001b[0m\u001b[0;34m\u001b[0m\u001b[0;34m\u001b[0m\u001b[0m\n\u001b[0;32m----> 3\u001b[0;31m \u001b[0max\u001b[0m \u001b[0;34m=\u001b[0m \u001b[0msns\u001b[0m\u001b[0;34m.\u001b[0m\u001b[0mheatmap\u001b[0m\u001b[0;34m(\u001b[0m\u001b[0mcm\u001b[0m\u001b[0;34m,\u001b[0m \u001b[0mannot\u001b[0m\u001b[0;34m=\u001b[0m\u001b[0;32mTrue\u001b[0m\u001b[0;34m,\u001b[0m \u001b[0mfmt\u001b[0m\u001b[0;34m=\u001b[0m\u001b[0;34m'd'\u001b[0m\u001b[0;34m,\u001b[0m \u001b[0mcmap\u001b[0m\u001b[0;34m=\u001b[0m\u001b[0mcolors\u001b[0m\u001b[0;34m)\u001b[0m\u001b[0;34m\u001b[0m\u001b[0;34m\u001b[0m\u001b[0m\n\u001b[0m\u001b[1;32m      4\u001b[0m \u001b[0;31m### END SOLUTION\u001b[0m\u001b[0;34m\u001b[0m\u001b[0;34m\u001b[0m\u001b[0;34m\u001b[0m\u001b[0m\n",
            "\u001b[0;31mNameError\u001b[0m: name 'colors' is not defined"
          ]
        }
      ]
    },
    {
      "cell_type": "code",
      "metadata": {
        "id": "i8oSZPL0XdX0"
      },
      "source": [
        ""
      ],
      "execution_count": null,
      "outputs": []
    }
  ]
}