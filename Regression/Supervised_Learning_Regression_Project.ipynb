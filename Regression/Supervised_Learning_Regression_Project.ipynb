{
  "nbformat": 4,
  "nbformat_minor": 0,
  "metadata": {
    "kernelspec": {
      "display_name": "Python 3",
      "language": "python",
      "name": "python3"
    },
    "language_info": {
      "codemirror_mode": {
        "name": "ipython",
        "version": 3
      },
      "file_extension": ".py",
      "mimetype": "text/x-python",
      "name": "python",
      "nbconvert_exporter": "python",
      "pygments_lexer": "ipython3",
      "version": "3.8.5"
    },
    "colab": {
      "name": "Supervised Learning - Regression Project.ipynb",
      "provenance": []
    }
  },
  "cells": [
    {
      "cell_type": "markdown",
      "metadata": {
        "id": "CJfjebPaXa3K"
      },
      "source": [
        "# Summary\n",
        "\n",
        "The dataset for this project was collected from [kaggle](https://www.kaggle.com/shashwatwork/impact-of-covid19-pandemic-on-the-global-economy) and originates from Mendeley Data: [The Impact of Covid-19 Pandemic on the Global Economy: Emphasis on Poverty Alleviation and Economic Growth](https://data.mendeley.com/datasets/b2wvnbnpj9/1). The data I investigate here consists of records on the impact of covid-19 on the global economy including 210 countries.\n",
        "\n",
        "Main objective of the analysis is to focus on prediction. In this project, we will employ linear regression algorithms to find relationship between common GDP and human development index and total number of death. We will then choose the best candidate algorithm from preliminary results. The goal with this implementation is to construct a model that accurately predicts how the global economy of each country is affected.\n",
        "\n",
        "# Exploratory Data Analysis"
      ]
    },
    {
      "cell_type": "code",
      "metadata": {
        "colab": {
          "base_uri": "https://localhost:8080/",
          "height": 319
        },
        "id": "H2wXBOykXa3Q",
        "outputId": "c9387289-0c47-4b02-bcab-852d516482a3"
      },
      "source": [
        "import pandas as pd\n",
        "import numpy as np\n",
        "import seaborn as sns\n",
        "import matplotlib.pyplot as plt\n",
        "from sklearn.preprocessing import MinMaxScaler\n",
        "from sklearn.metrics import mean_squared_error, r2_score\n",
        "from sklearn.preprocessing import StandardScaler, PolynomialFeatures\n",
        "from sklearn.model_selection import KFold, cross_val_predict\n",
        "from sklearn.linear_model import LinearRegression, Lasso, Ridge, RidgeCV, LassoCV, ElasticNetCV \n",
        "from sklearn.pipeline import Pipeline\n",
        "\n",
        "# Mute the sklearn warning about regularization\n",
        "import warnings\n",
        "warnings.filterwarnings('ignore', module='sklearn')\n",
        "\n",
        "data = pd.read_csv('/content/sample_data/raw_data.csv', sep=',')\n",
        "data = data.rename(columns={'human_development_index':'hdi'})\n",
        "data.head()"
      ],
      "execution_count": 2,
      "outputs": [
        {
          "output_type": "execute_result",
          "data": {
            "text/html": [
              "<div>\n",
              "<style scoped>\n",
              "    .dataframe tbody tr th:only-of-type {\n",
              "        vertical-align: middle;\n",
              "    }\n",
              "\n",
              "    .dataframe tbody tr th {\n",
              "        vertical-align: top;\n",
              "    }\n",
              "\n",
              "    .dataframe thead th {\n",
              "        text-align: right;\n",
              "    }\n",
              "</style>\n",
              "<table border=\"1\" class=\"dataframe\">\n",
              "  <thead>\n",
              "    <tr style=\"text-align: right;\">\n",
              "      <th></th>\n",
              "      <th>iso_code</th>\n",
              "      <th>location</th>\n",
              "      <th>date</th>\n",
              "      <th>total_cases</th>\n",
              "      <th>total_deaths</th>\n",
              "      <th>stringency_index</th>\n",
              "      <th>population</th>\n",
              "      <th>gdp_per_capita</th>\n",
              "      <th>hdi</th>\n",
              "      <th>Unnamed: 9</th>\n",
              "      <th>Unnamed: 10</th>\n",
              "      <th>Unnamed: 11</th>\n",
              "      <th>Unnamed: 12</th>\n",
              "      <th>Unnamed: 13</th>\n",
              "    </tr>\n",
              "  </thead>\n",
              "  <tbody>\n",
              "    <tr>\n",
              "      <th>0</th>\n",
              "      <td>AFG</td>\n",
              "      <td>Afghanistan</td>\n",
              "      <td>2019-12-31</td>\n",
              "      <td>0.0</td>\n",
              "      <td>0.0</td>\n",
              "      <td>0.0</td>\n",
              "      <td>38928341</td>\n",
              "      <td>1803.987</td>\n",
              "      <td>0.498</td>\n",
              "      <td>#NUM!</td>\n",
              "      <td>#NUM!</td>\n",
              "      <td>#NUM!</td>\n",
              "      <td>17.477233</td>\n",
              "      <td>7.497754494</td>\n",
              "    </tr>\n",
              "    <tr>\n",
              "      <th>1</th>\n",
              "      <td>AFG</td>\n",
              "      <td>Afghanistan</td>\n",
              "      <td>2020-01-01</td>\n",
              "      <td>0.0</td>\n",
              "      <td>0.0</td>\n",
              "      <td>0.0</td>\n",
              "      <td>38928341</td>\n",
              "      <td>1803.987</td>\n",
              "      <td>0.498</td>\n",
              "      <td>#NUM!</td>\n",
              "      <td>#NUM!</td>\n",
              "      <td>#NUM!</td>\n",
              "      <td>17.477233</td>\n",
              "      <td>7.497754494</td>\n",
              "    </tr>\n",
              "    <tr>\n",
              "      <th>2</th>\n",
              "      <td>AFG</td>\n",
              "      <td>Afghanistan</td>\n",
              "      <td>2020-01-02</td>\n",
              "      <td>0.0</td>\n",
              "      <td>0.0</td>\n",
              "      <td>0.0</td>\n",
              "      <td>38928341</td>\n",
              "      <td>1803.987</td>\n",
              "      <td>0.498</td>\n",
              "      <td>#NUM!</td>\n",
              "      <td>#NUM!</td>\n",
              "      <td>#NUM!</td>\n",
              "      <td>17.477233</td>\n",
              "      <td>7.497754494</td>\n",
              "    </tr>\n",
              "    <tr>\n",
              "      <th>3</th>\n",
              "      <td>AFG</td>\n",
              "      <td>Afghanistan</td>\n",
              "      <td>2020-01-03</td>\n",
              "      <td>0.0</td>\n",
              "      <td>0.0</td>\n",
              "      <td>0.0</td>\n",
              "      <td>38928341</td>\n",
              "      <td>1803.987</td>\n",
              "      <td>0.498</td>\n",
              "      <td>#NUM!</td>\n",
              "      <td>#NUM!</td>\n",
              "      <td>#NUM!</td>\n",
              "      <td>17.477233</td>\n",
              "      <td>7.497754494</td>\n",
              "    </tr>\n",
              "    <tr>\n",
              "      <th>4</th>\n",
              "      <td>AFG</td>\n",
              "      <td>Afghanistan</td>\n",
              "      <td>2020-01-04</td>\n",
              "      <td>0.0</td>\n",
              "      <td>0.0</td>\n",
              "      <td>0.0</td>\n",
              "      <td>38928341</td>\n",
              "      <td>1803.987</td>\n",
              "      <td>0.498</td>\n",
              "      <td>#NUM!</td>\n",
              "      <td>#NUM!</td>\n",
              "      <td>#NUM!</td>\n",
              "      <td>17.477233</td>\n",
              "      <td>7.497754494</td>\n",
              "    </tr>\n",
              "  </tbody>\n",
              "</table>\n",
              "</div>"
            ],
            "text/plain": [
              "  iso_code     location        date  ...  Unnamed: 11  Unnamed: 12  Unnamed: 13\n",
              "0      AFG  Afghanistan  2019-12-31  ...        #NUM!    17.477233  7.497754494\n",
              "1      AFG  Afghanistan  2020-01-01  ...        #NUM!    17.477233  7.497754494\n",
              "2      AFG  Afghanistan  2020-01-02  ...        #NUM!    17.477233  7.497754494\n",
              "3      AFG  Afghanistan  2020-01-03  ...        #NUM!    17.477233  7.497754494\n",
              "4      AFG  Afghanistan  2020-01-04  ...        #NUM!    17.477233  7.497754494\n",
              "\n",
              "[5 rows x 14 columns]"
            ]
          },
          "metadata": {
            "tags": []
          },
          "execution_count": 2
        }
      ]
    },
    {
      "cell_type": "code",
      "metadata": {
        "colab": {
          "base_uri": "https://localhost:8080/"
        },
        "id": "CeXQ1zVNXa3R",
        "outputId": "383a0a7a-f96c-44e2-e480-bdc75c84a255"
      },
      "source": [
        "data.info()"
      ],
      "execution_count": 3,
      "outputs": [
        {
          "output_type": "stream",
          "text": [
            "<class 'pandas.core.frame.DataFrame'>\n",
            "RangeIndex: 50418 entries, 0 to 50417\n",
            "Data columns (total 14 columns):\n",
            " #   Column            Non-Null Count  Dtype  \n",
            "---  ------            --------------  -----  \n",
            " 0   iso_code          50418 non-null  object \n",
            " 1   location          50418 non-null  object \n",
            " 2   date              50418 non-null  object \n",
            " 3   total_cases       47324 non-null  float64\n",
            " 4   total_deaths      39228 non-null  float64\n",
            " 5   stringency_index  43292 non-null  float64\n",
            " 6   population        50418 non-null  int64  \n",
            " 7   gdp_per_capita    44706 non-null  float64\n",
            " 8   hdi               44216 non-null  float64\n",
            " 9   Unnamed: 9        50418 non-null  object \n",
            " 10  Unnamed: 10       50418 non-null  object \n",
            " 11  Unnamed: 11       50418 non-null  object \n",
            " 12  Unnamed: 12       50418 non-null  float64\n",
            " 13  Unnamed: 13       50418 non-null  object \n",
            "dtypes: float64(6), int64(1), object(7)\n",
            "memory usage: 5.4+ MB\n"
          ],
          "name": "stdout"
        }
      ]
    },
    {
      "cell_type": "code",
      "metadata": {
        "colab": {
          "base_uri": "https://localhost:8080/"
        },
        "id": "xQkIqGwcXa3R",
        "outputId": "b9b43261-fb66-4bc7-afc1-4bfe28ae195c"
      },
      "source": [
        "print('The total number of records: '+str(len(data.index)))\n",
        "print('Column names: '+str(data.columns.tolist()))\n",
        "print('Number of countries: '+str(len(data['location'].unique())))\n",
        "print('Number of missing values: \\n' + str(data.isnull().sum()))"
      ],
      "execution_count": 4,
      "outputs": [
        {
          "output_type": "stream",
          "text": [
            "The total number of records: 50418\n",
            "Column names: ['iso_code', 'location', 'date', 'total_cases', 'total_deaths', 'stringency_index', 'population', 'gdp_per_capita', 'hdi', 'Unnamed: 9', 'Unnamed: 10', 'Unnamed: 11', 'Unnamed: 12', 'Unnamed: 13']\n",
            "Number of countries: 210\n",
            "Number of missing values: \n",
            "iso_code                0\n",
            "location                0\n",
            "date                    0\n",
            "total_cases          3094\n",
            "total_deaths        11190\n",
            "stringency_index     7126\n",
            "population              0\n",
            "gdp_per_capita       5712\n",
            "hdi                  6202\n",
            "Unnamed: 9              0\n",
            "Unnamed: 10             0\n",
            "Unnamed: 11             0\n",
            "Unnamed: 12             0\n",
            "Unnamed: 13             0\n",
            "dtype: int64\n"
          ],
          "name": "stdout"
        }
      ]
    },
    {
      "cell_type": "markdown",
      "metadata": {
        "id": "vpz6Sr5PXa3S"
      },
      "source": [
        "## Featureset Exploration\n",
        "\n",
        "**iso_code**: country code\n",
        "\n",
        "**location**: name of the country\n",
        "\n",
        "**date**\n",
        "\n",
        "**total_cases**: number of COVID19 cases\n",
        "\n",
        "**total_deaths**\n",
        "\n",
        "**stringency_index**:  The Stringency Index provides a computable parameter to evaluate the effectiveness of the nationwide lockdown. It is used by the Oxford COVID-19 Government Response Tracker with a database of 17 indicators of government response such as school and workplace closings, public events, public transport, stay-at-home policies. The Stringency Index is a number from 0 to 100 that reflects these indicators. A higher index score indicates a higher level of stringency.\n",
        "\n",
        "**population**\n",
        "\n",
        "**gdp_per_capita**: A country's GDP or gross domestic product is calculated by taking into account the monetary worth of a nation's goods and services after a certain period of time, usually one year. It's a measure of economic activity.\n",
        "\n",
        "**hdi**: The HDI was created to emphasize that people and their capabilities should be the ultimate criteria for assessing the development of a country, not economic growth alone. The Human Development Index (HDI) is a summary measure of average achievement in key dimensions of human development: a long and healthy life, being knowledgeable and have a decent standard of living. The HDI is the geometric mean of normalized indices for each of the three dimensions."
      ]
    },
    {
      "cell_type": "markdown",
      "metadata": {
        "id": "NxnxU6gyXa3S"
      },
      "source": [
        "## Preparing the Data\n",
        "\n",
        "The following columns contain missing values: total_cases, total_deaths, stringency_index, population, gdp_per_capita, hdi. I decided to drop the rows with missing data as we would still have enough data(31518) to train our models."
      ]
    },
    {
      "cell_type": "code",
      "metadata": {
        "id": "eG5cQRgXXa3S"
      },
      "source": [
        "#drop the irrelevant columns\n",
        "data = data.drop(['iso_code', 'Unnamed: 9', 'Unnamed: 10', 'Unnamed: 11', 'Unnamed: 12', 'Unnamed: 13'], axis = 1)"
      ],
      "execution_count": 5,
      "outputs": []
    },
    {
      "cell_type": "code",
      "metadata": {
        "colab": {
          "base_uri": "https://localhost:8080/"
        },
        "id": "Azb7_s98Xa3T",
        "outputId": "9c6dca4f-bcde-43d6-8159-e6d5e066434a"
      },
      "source": [
        "data = data.dropna(axis = 0)\n",
        "data.isnull().sum()"
      ],
      "execution_count": 6,
      "outputs": [
        {
          "output_type": "execute_result",
          "data": {
            "text/plain": [
              "location            0\n",
              "date                0\n",
              "total_cases         0\n",
              "total_deaths        0\n",
              "stringency_index    0\n",
              "population          0\n",
              "gdp_per_capita      0\n",
              "hdi                 0\n",
              "dtype: int64"
            ]
          },
          "metadata": {
            "tags": []
          },
          "execution_count": 6
        }
      ]
    },
    {
      "cell_type": "code",
      "metadata": {
        "id": "Wmtg8ugRXa3T",
        "outputId": "16acd138-152e-4f45-f44a-bf70b1bb495b"
      },
      "source": [
        "len(data)"
      ],
      "execution_count": null,
      "outputs": [
        {
          "output_type": "execute_result",
          "data": {
            "text/plain": [
              "31518"
            ]
          },
          "metadata": {
            "tags": []
          },
          "execution_count": 6
        }
      ]
    },
    {
      "cell_type": "markdown",
      "metadata": {
        "id": "hahrp5qnXa3T"
      },
      "source": [
        "Let's look at the correlation coefficient. A coefficient close to 1 means that there’s a very strong positive correlation between the two variables. The diagonal line is the correlation of the variables to themselves, that's why they are 1.\n",
        "\n",
        "In our case we can quickly see that:\n",
        "The Human Development Index (HDI) is strongly correlated to the GDP per Capita and total number case to deaths.\n",
        "The population also has a strong correlation to the number of total cases and deaths. This is what we expected. A high population will have a higher number of cases and deaths.\n",
        "What we are looking for is the relationship between GDP per capita(or HDI) and total number of cases or deaths."
      ]
    },
    {
      "cell_type": "code",
      "metadata": {
        "colab": {
          "base_uri": "https://localhost:8080/",
          "height": 286
        },
        "id": "dCwcKOepXa3U",
        "outputId": "ca61029b-ddac-4e9d-f2fd-6a29719b1639"
      },
      "source": [
        "corr = data.corr(method='pearson')\n",
        "fig = plt.subplots(figsize = (10, 4))\n",
        "sns.heatmap(corr, \n",
        "            xticklabels=corr.columns,\n",
        "            yticklabels=corr.columns,\n",
        "            cmap='magma_r',\n",
        "            annot=True,\n",
        "            linewidth=0.5)"
      ],
      "execution_count": 7,
      "outputs": [
        {
          "output_type": "execute_result",
          "data": {
            "text/plain": [
              "<matplotlib.axes._subplots.AxesSubplot at 0x7f5bc4b88ad0>"
            ]
          },
          "metadata": {
            "tags": []
          },
          "execution_count": 7
        },
        {
          "output_type": "display_data",
          "data": {
            "image/png": "[encoded data removed]",
            "text/plain": [
              "<Figure size 720x288 with 2 Axes>"
            ]
          },
          "metadata": {
            "tags": [],
            "needs_background": "light"
          }
        }
      ]
    },
    {
      "cell_type": "markdown",
      "metadata": {
        "id": "4YifWJNCXa3U"
      },
      "source": [
        "From the heatmap it seems that **GDP** and **HDI** are both more affected by the number of deaths than the number of cases."
      ]
    },
    {
      "cell_type": "code",
      "metadata": {
        "id": "eoxuD2LjXa3U"
      },
      "source": [
        "# Log-transform the skewed features\n",
        "gdp_transformed = data['gdp_per_capita'].apply(lambda x: np.log1p(x + 1))\n",
        "total_deaths_transformed = data['total_deaths'].apply(lambda x: np.log1p(x + 1))"
      ],
      "execution_count": 8,
      "outputs": []
    },
    {
      "cell_type": "code",
      "metadata": {
        "colab": {
          "base_uri": "https://localhost:8080/",
          "height": 538
        },
        "id": "S5CTORHVXa3U",
        "outputId": "98805f77-5e02-467e-b85e-0a44c06ad813"
      },
      "source": [
        "fig, (ax1, ax2) = plt.subplots(1, 2, figsize = (15, 4))\n",
        "\n",
        "ax1.hist(data['gdp_per_capita'])\n",
        "ax2.hist(gdp_transformed)\n",
        "ax1.set_title(\"GDP per Capita before log transform\")\n",
        "ax2.set_title(\"GDP per Capita after log transform\")\n",
        "ax1.set_ylabel(\"GDP\")\n",
        "\n",
        "fig, (ax1, ax2) = plt.subplots(1, 2, figsize = (15, 4))\n",
        "\n",
        "ax1.hist(data['total_deaths'])\n",
        "ax2.hist(total_deaths_transformed)\n",
        "ax1.set_title(\"Total Number of Deaths before log transform\")\n",
        "ax2.set_title(\"Total Number of Deaths after log transform\")\n",
        "ax1.set_ylabel(\"Total Number of Deaths\")"
      ],
      "execution_count": 9,
      "outputs": [
        {
          "output_type": "execute_result",
          "data": {
            "text/plain": [
              "Text(0, 0.5, 'Total Number of Deaths')"
            ]
          },
          "metadata": {
            "tags": []
          },
          "execution_count": 9
        },
        {
          "output_type": "display_data",
          "data": {
            "image/png": "[encoded data removed]",
            "text/plain": [
              "<Figure size 1080x288 with 2 Axes>"
            ]
          },
          "metadata": {
            "tags": [],
            "needs_background": "light"
          }
        },
        {
          "output_type": "display_data",
          "data": {
            "image/png": "[encoded data removed]",
            "text/plain": [
              "<Figure size 1080x288 with 2 Axes>"
            ]
          },
          "metadata": {
            "tags": [],
            "needs_background": "light"
          }
        }
      ]
    },
    {
      "cell_type": "code",
      "metadata": {
        "colab": {
          "base_uri": "https://localhost:8080/",
          "height": 197
        },
        "id": "OKnyRKtuXa3V",
        "outputId": "18b5b588-1a47-41af-ce17-005aff0ccc0f"
      },
      "source": [
        "data['gdp_per_capita'] = gdp_transformed \n",
        "data['total_deaths'] = total_deaths_transformed\n",
        "data.head()"
      ],
      "execution_count": 10,
      "outputs": [
        {
          "output_type": "execute_result",
          "data": {
            "text/html": [
              "<div>\n",
              "<style scoped>\n",
              "    .dataframe tbody tr th:only-of-type {\n",
              "        vertical-align: middle;\n",
              "    }\n",
              "\n",
              "    .dataframe tbody tr th {\n",
              "        vertical-align: top;\n",
              "    }\n",
              "\n",
              "    .dataframe thead th {\n",
              "        text-align: right;\n",
              "    }\n",
              "</style>\n",
              "<table border=\"1\" class=\"dataframe\">\n",
              "  <thead>\n",
              "    <tr style=\"text-align: right;\">\n",
              "      <th></th>\n",
              "      <th>location</th>\n",
              "      <th>date</th>\n",
              "      <th>total_cases</th>\n",
              "      <th>total_deaths</th>\n",
              "      <th>stringency_index</th>\n",
              "      <th>population</th>\n",
              "      <th>gdp_per_capita</th>\n",
              "      <th>hdi</th>\n",
              "    </tr>\n",
              "  </thead>\n",
              "  <tbody>\n",
              "    <tr>\n",
              "      <th>0</th>\n",
              "      <td>Afghanistan</td>\n",
              "      <td>2019-12-31</td>\n",
              "      <td>0.0</td>\n",
              "      <td>0.693147</td>\n",
              "      <td>0.0</td>\n",
              "      <td>38928341</td>\n",
              "      <td>7.498863</td>\n",
              "      <td>0.498</td>\n",
              "    </tr>\n",
              "    <tr>\n",
              "      <th>1</th>\n",
              "      <td>Afghanistan</td>\n",
              "      <td>2020-01-01</td>\n",
              "      <td>0.0</td>\n",
              "      <td>0.693147</td>\n",
              "      <td>0.0</td>\n",
              "      <td>38928341</td>\n",
              "      <td>7.498863</td>\n",
              "      <td>0.498</td>\n",
              "    </tr>\n",
              "    <tr>\n",
              "      <th>2</th>\n",
              "      <td>Afghanistan</td>\n",
              "      <td>2020-01-02</td>\n",
              "      <td>0.0</td>\n",
              "      <td>0.693147</td>\n",
              "      <td>0.0</td>\n",
              "      <td>38928341</td>\n",
              "      <td>7.498863</td>\n",
              "      <td>0.498</td>\n",
              "    </tr>\n",
              "    <tr>\n",
              "      <th>3</th>\n",
              "      <td>Afghanistan</td>\n",
              "      <td>2020-01-03</td>\n",
              "      <td>0.0</td>\n",
              "      <td>0.693147</td>\n",
              "      <td>0.0</td>\n",
              "      <td>38928341</td>\n",
              "      <td>7.498863</td>\n",
              "      <td>0.498</td>\n",
              "    </tr>\n",
              "    <tr>\n",
              "      <th>4</th>\n",
              "      <td>Afghanistan</td>\n",
              "      <td>2020-01-04</td>\n",
              "      <td>0.0</td>\n",
              "      <td>0.693147</td>\n",
              "      <td>0.0</td>\n",
              "      <td>38928341</td>\n",
              "      <td>7.498863</td>\n",
              "      <td>0.498</td>\n",
              "    </tr>\n",
              "  </tbody>\n",
              "</table>\n",
              "</div>"
            ],
            "text/plain": [
              "      location        date  total_cases  ...  population  gdp_per_capita    hdi\n",
              "0  Afghanistan  2019-12-31          0.0  ...    38928341        7.498863  0.498\n",
              "1  Afghanistan  2020-01-01          0.0  ...    38928341        7.498863  0.498\n",
              "2  Afghanistan  2020-01-02          0.0  ...    38928341        7.498863  0.498\n",
              "3  Afghanistan  2020-01-03          0.0  ...    38928341        7.498863  0.498\n",
              "4  Afghanistan  2020-01-04          0.0  ...    38928341        7.498863  0.498\n",
              "\n",
              "[5 rows x 8 columns]"
            ]
          },
          "metadata": {
            "tags": []
          },
          "execution_count": 10
        }
      ]
    },
    {
      "cell_type": "markdown",
      "metadata": {
        "id": "uWs6lhisXa3V"
      },
      "source": [
        "Apply scaler to normalise data. This ensures that each feature is treated equally when applying supervised learners."
      ]
    },
    {
      "cell_type": "code",
      "metadata": {
        "colab": {
          "base_uri": "https://localhost:8080/",
          "height": 405
        },
        "id": "Bau5_xy0Xa3V",
        "outputId": "e5fe92e8-e2e3-4ec4-c941-d72c802e2353"
      },
      "source": [
        "scaler = MinMaxScaler()\n",
        "numerical = ['total_deaths', 'gdp_per_capita']\n",
        "features_log_minmax_transform = pd.DataFrame(data = data)\n",
        "features_log_minmax_transform[numerical] = scaler.fit_transform(data[numerical])\n",
        "features_log_minmax_transform"
      ],
      "execution_count": 12,
      "outputs": [
        {
          "output_type": "execute_result",
          "data": {
            "text/html": [
              "<div>\n",
              "<style scoped>\n",
              "    .dataframe tbody tr th:only-of-type {\n",
              "        vertical-align: middle;\n",
              "    }\n",
              "\n",
              "    .dataframe tbody tr th {\n",
              "        vertical-align: top;\n",
              "    }\n",
              "\n",
              "    .dataframe thead th {\n",
              "        text-align: right;\n",
              "    }\n",
              "</style>\n",
              "<table border=\"1\" class=\"dataframe\">\n",
              "  <thead>\n",
              "    <tr style=\"text-align: right;\">\n",
              "      <th></th>\n",
              "      <th>location</th>\n",
              "      <th>date</th>\n",
              "      <th>total_cases</th>\n",
              "      <th>total_deaths</th>\n",
              "      <th>stringency_index</th>\n",
              "      <th>population</th>\n",
              "      <th>gdp_per_capita</th>\n",
              "      <th>hdi</th>\n",
              "    </tr>\n",
              "  </thead>\n",
              "  <tbody>\n",
              "    <tr>\n",
              "      <th>0</th>\n",
              "      <td>Afghanistan</td>\n",
              "      <td>2019-12-31</td>\n",
              "      <td>0.0</td>\n",
              "      <td>0.000000</td>\n",
              "      <td>0.00</td>\n",
              "      <td>38928341</td>\n",
              "      <td>0.193673</td>\n",
              "      <td>0.498</td>\n",
              "    </tr>\n",
              "    <tr>\n",
              "      <th>1</th>\n",
              "      <td>Afghanistan</td>\n",
              "      <td>2020-01-01</td>\n",
              "      <td>0.0</td>\n",
              "      <td>0.000000</td>\n",
              "      <td>0.00</td>\n",
              "      <td>38928341</td>\n",
              "      <td>0.193673</td>\n",
              "      <td>0.498</td>\n",
              "    </tr>\n",
              "    <tr>\n",
              "      <th>2</th>\n",
              "      <td>Afghanistan</td>\n",
              "      <td>2020-01-02</td>\n",
              "      <td>0.0</td>\n",
              "      <td>0.000000</td>\n",
              "      <td>0.00</td>\n",
              "      <td>38928341</td>\n",
              "      <td>0.193673</td>\n",
              "      <td>0.498</td>\n",
              "    </tr>\n",
              "    <tr>\n",
              "      <th>3</th>\n",
              "      <td>Afghanistan</td>\n",
              "      <td>2020-01-03</td>\n",
              "      <td>0.0</td>\n",
              "      <td>0.000000</td>\n",
              "      <td>0.00</td>\n",
              "      <td>38928341</td>\n",
              "      <td>0.193673</td>\n",
              "      <td>0.498</td>\n",
              "    </tr>\n",
              "    <tr>\n",
              "      <th>4</th>\n",
              "      <td>Afghanistan</td>\n",
              "      <td>2020-01-04</td>\n",
              "      <td>0.0</td>\n",
              "      <td>0.000000</td>\n",
              "      <td>0.00</td>\n",
              "      <td>38928341</td>\n",
              "      <td>0.193673</td>\n",
              "      <td>0.498</td>\n",
              "    </tr>\n",
              "    <tr>\n",
              "      <th>...</th>\n",
              "      <td>...</td>\n",
              "      <td>...</td>\n",
              "      <td>...</td>\n",
              "      <td>...</td>\n",
              "      <td>...</td>\n",
              "      <td>...</td>\n",
              "      <td>...</td>\n",
              "      <td>...</td>\n",
              "    </tr>\n",
              "    <tr>\n",
              "      <th>50413</th>\n",
              "      <td>Zimbabwe</td>\n",
              "      <td>2020-10-15</td>\n",
              "      <td>8055.0</td>\n",
              "      <td>0.410723</td>\n",
              "      <td>76.85</td>\n",
              "      <td>14862927</td>\n",
              "      <td>0.203665</td>\n",
              "      <td>0.535</td>\n",
              "    </tr>\n",
              "    <tr>\n",
              "      <th>50414</th>\n",
              "      <td>Zimbabwe</td>\n",
              "      <td>2020-10-16</td>\n",
              "      <td>8075.0</td>\n",
              "      <td>0.410723</td>\n",
              "      <td>76.85</td>\n",
              "      <td>14862927</td>\n",
              "      <td>0.203665</td>\n",
              "      <td>0.535</td>\n",
              "    </tr>\n",
              "    <tr>\n",
              "      <th>50415</th>\n",
              "      <td>Zimbabwe</td>\n",
              "      <td>2020-10-17</td>\n",
              "      <td>8099.0</td>\n",
              "      <td>0.410723</td>\n",
              "      <td>76.85</td>\n",
              "      <td>14862927</td>\n",
              "      <td>0.203665</td>\n",
              "      <td>0.535</td>\n",
              "    </tr>\n",
              "    <tr>\n",
              "      <th>50416</th>\n",
              "      <td>Zimbabwe</td>\n",
              "      <td>2020-10-18</td>\n",
              "      <td>8110.0</td>\n",
              "      <td>0.410723</td>\n",
              "      <td>76.85</td>\n",
              "      <td>14862927</td>\n",
              "      <td>0.203665</td>\n",
              "      <td>0.535</td>\n",
              "    </tr>\n",
              "    <tr>\n",
              "      <th>50417</th>\n",
              "      <td>Zimbabwe</td>\n",
              "      <td>2020-10-19</td>\n",
              "      <td>8147.0</td>\n",
              "      <td>0.410723</td>\n",
              "      <td>76.85</td>\n",
              "      <td>14862927</td>\n",
              "      <td>0.203665</td>\n",
              "      <td>0.535</td>\n",
              "    </tr>\n",
              "  </tbody>\n",
              "</table>\n",
              "<p>31518 rows × 8 columns</p>\n",
              "</div>"
            ],
            "text/plain": [
              "          location        date  total_cases  ...  population  gdp_per_capita    hdi\n",
              "0      Afghanistan  2019-12-31          0.0  ...    38928341        0.193673  0.498\n",
              "1      Afghanistan  2020-01-01          0.0  ...    38928341        0.193673  0.498\n",
              "2      Afghanistan  2020-01-02          0.0  ...    38928341        0.193673  0.498\n",
              "3      Afghanistan  2020-01-03          0.0  ...    38928341        0.193673  0.498\n",
              "4      Afghanistan  2020-01-04          0.0  ...    38928341        0.193673  0.498\n",
              "...            ...         ...          ...  ...         ...             ...    ...\n",
              "50413     Zimbabwe  2020-10-15       8055.0  ...    14862927        0.203665  0.535\n",
              "50414     Zimbabwe  2020-10-16       8075.0  ...    14862927        0.203665  0.535\n",
              "50415     Zimbabwe  2020-10-17       8099.0  ...    14862927        0.203665  0.535\n",
              "50416     Zimbabwe  2020-10-18       8110.0  ...    14862927        0.203665  0.535\n",
              "50417     Zimbabwe  2020-10-19       8147.0  ...    14862927        0.203665  0.535\n",
              "\n",
              "[31518 rows x 8 columns]"
            ]
          },
          "metadata": {
            "tags": []
          },
          "execution_count": 12
        }
      ]
    },
    {
      "cell_type": "markdown",
      "metadata": {
        "id": "9s0R6_g6Xa3V"
      },
      "source": [
        "After one-hot encoding the location column I found that the model was overfitting hence I decided to drop that column as it's not necessary for the learning algorithm."
      ]
    },
    {
      "cell_type": "code",
      "metadata": {
        "colab": {
          "base_uri": "https://localhost:8080/"
        },
        "id": "qz8m99xyXa3W",
        "outputId": "9b4a5fcc-9d45-46f6-a5c4-1e7dd0841521"
      },
      "source": [
        "from sklearn.model_selection import train_test_split\n",
        "\n",
        "X_data =  features_log_minmax_transform[['total_cases','total_deaths','stringency_index','population','hdi']]\n",
        "y_data = features_log_minmax_transform['gdp_per_capita']\n",
        "\n",
        "# Split the data into training and testing sets\n",
        "X_train, X_test, y_train, y_test = train_test_split(X_data, y_data, test_size = 0.3, random_state = 42)\n",
        "\n",
        "# Show the results of the split\n",
        "print(\"Training set has {} samples.\".format(X_train.shape[0]))\n",
        "print(\"Testing set has {} samples.\".format(X_test.shape[0]))"
      ],
      "execution_count": 13,
      "outputs": [
        {
          "output_type": "stream",
          "text": [
            "Training set has 22062 samples.\n",
            "Testing set has 9456 samples.\n"
          ],
          "name": "stdout"
        }
      ]
    },
    {
      "cell_type": "markdown",
      "metadata": {
        "id": "-M4VjbTEXa3W"
      },
      "source": [
        "# Train models\n",
        "\n",
        "- Train the following models: Vanilla Linear, Ridge, Lasso, RidgeCV, LassoCV, Elastic Net\n",
        "- Compare accuracy scores\n",
        "- Compare root-mean square errors\n",
        "- Plot the results: prediction vs actual"
      ]
    },
    {
      "cell_type": "code",
      "metadata": {
        "id": "PIrpZFJmXa3W"
      },
      "source": [
        "kf = KFold(shuffle=True, random_state=72018, n_splits=3)"
      ],
      "execution_count": 14,
      "outputs": []
    },
    {
      "cell_type": "code",
      "metadata": {
        "colab": {
          "base_uri": "https://localhost:8080/"
        },
        "id": "nk90b64WXa3W",
        "outputId": "5a7aea6d-5d06-4e9b-f1a9-c041cde86e21"
      },
      "source": [
        "# vanilla regression and K-fold cross validation\n",
        "s = StandardScaler()\n",
        "lr = LinearRegression()\n",
        "\n",
        "X_train_s = s.fit_transform(X_train)\n",
        "lr.fit(X_train_s, y_train)\n",
        "X_test = s.transform(X_test)  \n",
        "y_pred = lr.predict(X_test)\n",
        "score = r2_score(y_test.values, y_pred)\n",
        "\n",
        "# with pipeline\n",
        "estimator = Pipeline([(\"scaler\", s),(\"regression\", lr)])\n",
        "predictions_lr = cross_val_predict(estimator, X_train, y_train, cv=kf)\n",
        "linear_score = r2_score(y_train, predictions_lr)\n",
        "\n",
        "linear_score, score #almost identical"
      ],
      "execution_count": 15,
      "outputs": [
        {
          "output_type": "execute_result",
          "data": {
            "text/plain": [
              "(0.7997397640639616, 0.8003192976290712)"
            ]
          },
          "metadata": {
            "tags": []
          },
          "execution_count": 15
        }
      ]
    },
    {
      "cell_type": "code",
      "metadata": {
        "colab": {
          "base_uri": "https://localhost:8080/",
          "height": 298
        },
        "id": "1u_7XDUoXa3X",
        "outputId": "a756cdfe-799f-4631-9295-d55242c2f6ee"
      },
      "source": [
        "# lasso regression and K-fold cross validation\n",
        "s = StandardScaler()\n",
        "pf = PolynomialFeatures(degree=3)\n",
        "kf = KFold(shuffle=True, random_state=72018, n_splits=3)\n",
        "scores = []\n",
        "alphas = np.geomspace(0.06, 6.0, 20)\n",
        "predictions_lsr = []\n",
        "for alpha in alphas:\n",
        "    las = Lasso(alpha=alpha, max_iter=100000)\n",
        "    \n",
        "    estimator = Pipeline([\n",
        "        (\"scaler\", s),\n",
        "        (\"make_higher_degree\", pf),\n",
        "        (\"lasso_regression\", las)])\n",
        "\n",
        "    predictions_lsr = cross_val_predict(estimator, X_train, y_train, cv = kf)\n",
        "    \n",
        "    score = r2_score(y_train, predictions_lsr)\n",
        "    \n",
        "    scores.append(score)\n",
        "plt.semilogx(alphas, scores, '-o', color='purple')\n",
        "plt.title('Lasso Regression')\n",
        "plt.xlabel('$\\\\alpha$')\n",
        "plt.ylabel('$R^2$');"
      ],
      "execution_count": 16,
      "outputs": [
        {
          "output_type": "display_data",
          "data": {
            "image/png": "[encoded data removed]",
            "text/plain": [
              "<Figure size 432x288 with 1 Axes>"
            ]
          },
          "metadata": {
            "tags": [],
            "needs_background": "light"
          }
        }
      ]
    },
    {
      "cell_type": "code",
      "metadata": {
        "id": "snicb2EHXa3X"
      },
      "source": [
        "best_estimator = Pipeline([\n",
        "                    (\"scaler\", s),\n",
        "                    (\"make_higher_degree\", PolynomialFeatures(degree=2)),\n",
        "                    (\"lasso_regression\", Lasso(alpha=0.03))])\n",
        "\n",
        "best_estimator.fit(X_train, y_train)\n",
        "lasso_score = best_estimator.score(X_train, y_train)"
      ],
      "execution_count": 17,
      "outputs": []
    },
    {
      "cell_type": "code",
      "metadata": {
        "colab": {
          "base_uri": "https://localhost:8080/",
          "height": 295
        },
        "id": "YW_ekZ4DXa3X",
        "outputId": "7b3d0230-de48-44fc-fb7b-4d2e0d551d3d"
      },
      "source": [
        "# ridge regression and K-fold cross validation\n",
        "pf = PolynomialFeatures(degree=2)\n",
        "alphas = np.geomspace(4, 20, 20)\n",
        "scores=[]\n",
        "predictions_rr = []\n",
        "for alpha in alphas:\n",
        "    ridge = Ridge(alpha=alpha, max_iter=100000)\n",
        "\n",
        "    estimator = Pipeline([\n",
        "        (\"scaler\", s),\n",
        "        (\"polynomial_features\", pf),\n",
        "        (\"ridge_regression\", ridge)])\n",
        "\n",
        "    predictions_rr = cross_val_predict(estimator, X_train, y_train, cv = kf)\n",
        "    score = r2_score(y_train, predictions_rr)\n",
        "    scores.append(score)\n",
        "\n",
        "plt.plot(alphas, scores, '-o', color='purple')\n",
        "plt.title('Ridge Regression')\n",
        "plt.xlabel('$\\\\alpha$')\n",
        "plt.ylabel('$R^2$');"
      ],
      "execution_count": 18,
      "outputs": [
        {
          "output_type": "display_data",
          "data": {
            "image/png": "[encoded data removed]",
            "text/plain": [
              "<Figure size 432x288 with 1 Axes>"
            ]
          },
          "metadata": {
            "tags": [],
            "needs_background": "light"
          }
        }
      ]
    },
    {
      "cell_type": "code",
      "metadata": {
        "id": "YOGOcOyEXa3Y"
      },
      "source": [
        "best_estimator = Pipeline([\n",
        "                    (\"scaler\", s),\n",
        "                    (\"make_higher_degree\", PolynomialFeatures(degree=2)),\n",
        "                    (\"ridge_regression\", Ridge(alpha=0.03))])\n",
        "\n",
        "best_estimator.fit(X_train, y_train)\n",
        "ridge_score = best_estimator.score(X_train, y_train)"
      ],
      "execution_count": 19,
      "outputs": []
    },
    {
      "cell_type": "code",
      "metadata": {
        "colab": {
          "base_uri": "https://localhost:8080/",
          "height": 77
        },
        "id": "PJHdAKxBXa3Y",
        "outputId": "97d92481-40a0-4052-cc17-1643fcf778cd"
      },
      "source": [
        "# comparing scores\n",
        "pd.DataFrame([[linear_score, lasso_score, ridge_score]],columns=['linear', 'lasso', 'ridge'], index=['score'])"
      ],
      "execution_count": 20,
      "outputs": [
        {
          "output_type": "execute_result",
          "data": {
            "text/html": [
              "<div>\n",
              "<style scoped>\n",
              "    .dataframe tbody tr th:only-of-type {\n",
              "        vertical-align: middle;\n",
              "    }\n",
              "\n",
              "    .dataframe tbody tr th {\n",
              "        vertical-align: top;\n",
              "    }\n",
              "\n",
              "    .dataframe thead th {\n",
              "        text-align: right;\n",
              "    }\n",
              "</style>\n",
              "<table border=\"1\" class=\"dataframe\">\n",
              "  <thead>\n",
              "    <tr style=\"text-align: right;\">\n",
              "      <th></th>\n",
              "      <th>linear</th>\n",
              "      <th>lasso</th>\n",
              "      <th>ridge</th>\n",
              "    </tr>\n",
              "  </thead>\n",
              "  <tbody>\n",
              "    <tr>\n",
              "      <th>score</th>\n",
              "      <td>0.79974</td>\n",
              "      <td>0.834581</td>\n",
              "      <td>0.89403</td>\n",
              "    </tr>\n",
              "  </tbody>\n",
              "</table>\n",
              "</div>"
            ],
            "text/plain": [
              "        linear     lasso    ridge\n",
              "score  0.79974  0.834581  0.89403"
            ]
          },
          "metadata": {
            "tags": []
          },
          "execution_count": 20
        }
      ]
    },
    {
      "cell_type": "markdown",
      "metadata": {
        "id": "vLLjvvbiXa3Y"
      },
      "source": [
        "**Conclusion**: Both Lasso and Ridge with proper hyperparameter tuning give better results than plain Linear Regression!"
      ]
    },
    {
      "cell_type": "code",
      "metadata": {
        "colab": {
          "base_uri": "https://localhost:8080/",
          "height": 77
        },
        "id": "YeRvL7AhXa3Y",
        "outputId": "f981065c-15f2-4f32-9516-e156642bb76d"
      },
      "source": [
        "def rmse(ytrue, ypredicted):\n",
        "    return np.sqrt(mean_squared_error(ytrue, ypredicted))\n",
        "\n",
        "# Fit a basic linear regression model\n",
        "linearRegression = LinearRegression().fit(X_train, y_train)\n",
        "linearRegression_rmse = rmse(y_test, linearRegression.predict(X_test))\n",
        "\n",
        "# Fit a regular (non-cross validated) Ridge model\n",
        "alphas = [0.005, 0.05, 0.1, 0.3, 1, 3, 5, 10, 15, 30, 80]\n",
        "ridgeCV = RidgeCV(alphas=alphas, cv=4).fit(X_train, y_train)\n",
        "ridgeCV_rmse = rmse(y_test, ridgeCV.predict(X_test))\n",
        "\n",
        "# Fit a Lasso model using cross validation and determine the optimum value for 𝛼\n",
        "alphas2 = np.array([1e-5, 5e-5, 0.0001, 0.0005])\n",
        "lassoCV = LassoCV(alphas=alphas2,\n",
        "                  max_iter=5e4,\n",
        "                  cv=3).fit(X_train, y_train)\n",
        "lassoCV_rmse = rmse(y_test, lassoCV.predict(X_test))\n",
        "\n",
        "# Fit elastic net with the same set of alphas as lasso\n",
        "l1_ratios = np.linspace(0.1, 0.9, 9)\n",
        "elasticNetCV = ElasticNetCV(alphas=alphas2, \n",
        "                            l1_ratio=l1_ratios,\n",
        "                            max_iter=1e4).fit(X_train, y_train)\n",
        "elasticNetCV_rmse = rmse(y_test, elasticNetCV.predict(X_test))\n",
        "\n",
        "\n",
        "rmse_vals = [linearRegression_rmse, ridgeCV_rmse, lassoCV_rmse, elasticNetCV_rmse]\n",
        "\n",
        "labels = ['Linear', 'Lasso', 'Ridge' 'ElasticNet']\n",
        "\n",
        "rmse_df = pd.DataFrame([[linearRegression_rmse, ridgeCV_rmse, lassoCV_rmse, elasticNetCV_rmse]],columns=['Linear', 'Lasso', 'Ridge', 'ElasticNet'], index=['rmse'])\n",
        "rmse_df"
      ],
      "execution_count": 21,
      "outputs": [
        {
          "output_type": "execute_result",
          "data": {
            "text/html": [
              "<div>\n",
              "<style scoped>\n",
              "    .dataframe tbody tr th:only-of-type {\n",
              "        vertical-align: middle;\n",
              "    }\n",
              "\n",
              "    .dataframe tbody tr th {\n",
              "        vertical-align: top;\n",
              "    }\n",
              "\n",
              "    .dataframe thead th {\n",
              "        text-align: right;\n",
              "    }\n",
              "</style>\n",
              "<table border=\"1\" class=\"dataframe\">\n",
              "  <thead>\n",
              "    <tr style=\"text-align: right;\">\n",
              "      <th></th>\n",
              "      <th>Linear</th>\n",
              "      <th>Lasso</th>\n",
              "      <th>Ridge</th>\n",
              "      <th>ElasticNet</th>\n",
              "    </tr>\n",
              "  </thead>\n",
              "  <tbody>\n",
              "    <tr>\n",
              "      <th>rmse</th>\n",
              "      <td>1.397396</td>\n",
              "      <td>1.396604</td>\n",
              "      <td>1.396936</td>\n",
              "      <td>1.396826</td>\n",
              "    </tr>\n",
              "  </tbody>\n",
              "</table>\n",
              "</div>"
            ],
            "text/plain": [
              "        Linear     Lasso     Ridge  ElasticNet\n",
              "rmse  1.397396  1.396604  1.396936    1.396826"
            ]
          },
          "metadata": {
            "tags": []
          },
          "execution_count": 21
        }
      ]
    },
    {
      "cell_type": "code",
      "metadata": {
        "colab": {
          "base_uri": "https://localhost:8080/",
          "height": 455
        },
        "id": "c-sLGItlXa3Z",
        "outputId": "92a1b99c-1dc1-4338-ffd9-fdcc84c7732f"
      },
      "source": [
        "f = plt.figure(figsize=(6,6))\n",
        "ax = plt.axes()\n",
        "\n",
        "labels, models = ['Linear', 'Ridge', 'Lasso', 'ElasticNet'], [linearRegression, ridgeCV, lassoCV, elasticNetCV]\n",
        "\n",
        "for mod, label in zip(models, labels):\n",
        "    ax.plot(y_test, mod.predict(X_test), marker='o', ls='', ms=3.0, label=label, alpha=1)\n",
        "    \n",
        "leg = plt.legend(frameon=True)\n",
        "leg.get_frame().set_edgecolor('black')\n",
        "leg.get_frame().set_linewidth(1.0)\n",
        "\n",
        "ax.set(xlabel='Actual', ylabel='Predicted', title='Linear Regression Results')"
      ],
      "execution_count": 22,
      "outputs": [
        {
          "output_type": "execute_result",
          "data": {
            "text/plain": [
              "[Text(0, 0.5, 'Predicted'),\n",
              " Text(0.5, 0, 'Actual'),\n",
              " Text(0.5, 1.0, 'Linear Regression Results')]"
            ]
          },
          "metadata": {
            "tags": []
          },
          "execution_count": 22
        },
        {
          "output_type": "display_data",
          "data": {
            "image/png": "[encoded data removed]",
            "text/plain": [
              "<Figure size 432x432 with 1 Axes>"
            ]
          },
          "metadata": {
            "tags": [],
            "needs_background": "light"
          }
        }
      ]
    },
    {
      "cell_type": "markdown",
      "metadata": {
        "id": "IdHnfHHBXa3Z"
      },
      "source": [
        "**Conclusion 2**: Lasso gives the smallest Root-mean-square error however, the difference in scores and errors are not significant and almost identical. The best candidate based on Root-mean-square error and score results is Lasso Regression, therefore we recommend LassoCV as a final model that best fits the data in terms of accuracy."
      ]
    },
    {
      "cell_type": "markdown",
      "metadata": {
        "id": "XruIxHvQXa3Z"
      },
      "source": [
        "# Next Steps\n",
        "\n",
        "We could further try optimize Lasso using GridSearchCV.\n",
        "\n",
        "To predict the effect on GDP for an individual country, we could one-hot encode the location or iso_code columns and use that for training our models. Perhaps collecting more frequent records on specific countries would help achieve more accurate results."
      ]
    }
  ]
}