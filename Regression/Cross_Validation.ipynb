{
  "nbformat": 4,
  "nbformat_minor": 0,
  "metadata": {
    "kernelspec": {
      "display_name": "Python 3",
      "language": "python",
      "name": "python3"
    },
    "language_info": {
      "codemirror_mode": {
        "name": "ipython",
        "version": 3
      },
      "file_extension": ".py",
      "mimetype": "text/x-python",
      "name": "python",
      "nbconvert_exporter": "python",
      "pygments_lexer": "ipython3",
      "version": "3.7.6"
    },
    "varInspector": {
      "cols": {
        "lenName": 16,
        "lenType": 16,
        "lenVar": 40
      },
      "kernels_config": {
        "python": {
          "delete_cmd_postfix": "",
          "delete_cmd_prefix": "del ",
          "library": "var_list.py",
          "varRefreshCmd": "print(var_dic_list())"
        },
        "r": {
          "delete_cmd_postfix": ") ",
          "delete_cmd_prefix": "rm(",
          "library": "var_list.r",
          "varRefreshCmd": "cat(var_dic_list()) "
        }
      },
      "types_to_exclude": [
        "module",
        "function",
        "builtin_function_or_method",
        "instance",
        "_Feature"
      ],
      "window_display": false
    },
    "colab": {
      "name": "Cross_Validation.ipynb",
      "provenance": [],
      "collapsed_sections": []
    }
  },
  "cells": [
    {
      "cell_type": "markdown",
      "metadata": {
        "id": "eB3WnkkibIk_"
      },
      "source": [
        "# Machine Learning Foundation\n",
        "\n",
        "## Section 2, Part c: Cross Validation "
      ]
    },
    {
      "cell_type": "markdown",
      "metadata": {
        "id": "_GVWDOCIbIlE"
      },
      "source": [
        "## Learning objectives\n",
        "\n",
        "By the end of this lesson, you will be able to:\n",
        "\n",
        "* Chain multiple data processing steps together using `Pipeline`\n",
        "* Use the `KFolds` object to split data into multiple folds.\n",
        "* Perform cross validation using SciKit Learn with `cross_val_predict` and `GridSearchCV`\n"
      ]
    },
    {
      "cell_type": "code",
      "metadata": {
        "ExecuteTime": {
          "end_time": "2019-02-19T17:20:55.865735Z",
          "start_time": "2019-02-19T17:20:54.685698Z"
        },
        "id": "ZcoVbPIObIlF"
      },
      "source": [
        "import numpy as np\n",
        "import pickle\n",
        "import pandas as pd\n",
        "import matplotlib.pyplot as plt\n",
        "\n",
        "from sklearn.preprocessing import StandardScaler, PolynomialFeatures\n",
        "from sklearn.model_selection import KFold, cross_val_predict\n",
        "from sklearn.linear_model import LinearRegression, Lasso, Ridge\n",
        "from sklearn.metrics import r2_score\n",
        "from sklearn.pipeline import Pipeline"
      ],
      "execution_count": 1,
      "outputs": []
    },
    {
      "cell_type": "code",
      "metadata": {
        "ExecuteTime": {
          "end_time": "2019-02-19T17:20:58.445911Z",
          "start_time": "2019-02-19T17:20:58.440191Z"
        },
        "id": "EjdAbxw3bIlF"
      },
      "source": [
        "# Note we are loading a slightly different (\"cleaned\") pickle file\n",
        "boston = pickle.load(open('/content/sample_data/boston_housing_clean.pickle', \"rb\" ))"
      ],
      "execution_count": 3,
      "outputs": []
    },
    {
      "cell_type": "code",
      "metadata": {
        "ExecuteTime": {
          "end_time": "2019-02-19T17:21:01.676948Z",
          "start_time": "2019-02-19T17:21:01.671315Z"
        },
        "colab": {
          "base_uri": "https://localhost:8080/"
        },
        "id": "DT1oROU1bIlG",
        "outputId": "35801924-bbdb-4041-8d25-b62639c7ed73"
      },
      "source": [
        "boston.keys()"
      ],
      "execution_count": 4,
      "outputs": [
        {
          "output_type": "execute_result",
          "data": {
            "text/plain": [
              "dict_keys(['dataframe', 'description'])"
            ]
          },
          "metadata": {
            "tags": []
          },
          "execution_count": 4
        }
      ]
    },
    {
      "cell_type": "code",
      "metadata": {
        "ExecuteTime": {
          "end_time": "2019-02-19T17:21:10.682135Z",
          "start_time": "2019-02-19T17:21:10.678835Z"
        },
        "id": "lWTotGMLbIlG"
      },
      "source": [
        "boston_data = boston['dataframe']\n",
        "boston_description = boston['description']"
      ],
      "execution_count": 5,
      "outputs": []
    },
    {
      "cell_type": "code",
      "metadata": {
        "ExecuteTime": {
          "end_time": "2019-02-19T17:22:10.274974Z",
          "start_time": "2019-02-19T17:22:10.256879Z"
        },
        "colab": {
          "base_uri": "https://localhost:8080/",
          "height": 204
        },
        "id": "V73YoDkGbIlG",
        "outputId": "7799d5b1-9634-4d65-bdff-168bb88bd3a2"
      },
      "source": [
        "boston_data.head()"
      ],
      "execution_count": 6,
      "outputs": [
        {
          "output_type": "execute_result",
          "data": {
            "text/html": [
              "<div>\n",
              "<style scoped>\n",
              "    .dataframe tbody tr th:only-of-type {\n",
              "        vertical-align: middle;\n",
              "    }\n",
              "\n",
              "    .dataframe tbody tr th {\n",
              "        vertical-align: top;\n",
              "    }\n",
              "\n",
              "    .dataframe thead th {\n",
              "        text-align: right;\n",
              "    }\n",
              "</style>\n",
              "<table border=\"1\" class=\"dataframe\">\n",
              "  <thead>\n",
              "    <tr style=\"text-align: right;\">\n",
              "      <th></th>\n",
              "      <th>CRIM</th>\n",
              "      <th>ZN</th>\n",
              "      <th>INDUS</th>\n",
              "      <th>CHAS</th>\n",
              "      <th>NOX</th>\n",
              "      <th>RM</th>\n",
              "      <th>AGE</th>\n",
              "      <th>DIS</th>\n",
              "      <th>RAD</th>\n",
              "      <th>TAX</th>\n",
              "      <th>PTRATIO</th>\n",
              "      <th>B</th>\n",
              "      <th>LSTAT</th>\n",
              "      <th>MEDV</th>\n",
              "    </tr>\n",
              "  </thead>\n",
              "  <tbody>\n",
              "    <tr>\n",
              "      <th>0</th>\n",
              "      <td>0.00632</td>\n",
              "      <td>18.0</td>\n",
              "      <td>2.31</td>\n",
              "      <td>0.0</td>\n",
              "      <td>0.538</td>\n",
              "      <td>6.575</td>\n",
              "      <td>65.2</td>\n",
              "      <td>4.0900</td>\n",
              "      <td>1.0</td>\n",
              "      <td>296.0</td>\n",
              "      <td>15.3</td>\n",
              "      <td>396.90</td>\n",
              "      <td>4.98</td>\n",
              "      <td>24.0</td>\n",
              "    </tr>\n",
              "    <tr>\n",
              "      <th>1</th>\n",
              "      <td>0.02731</td>\n",
              "      <td>0.0</td>\n",
              "      <td>7.07</td>\n",
              "      <td>0.0</td>\n",
              "      <td>0.469</td>\n",
              "      <td>6.421</td>\n",
              "      <td>78.9</td>\n",
              "      <td>4.9671</td>\n",
              "      <td>2.0</td>\n",
              "      <td>242.0</td>\n",
              "      <td>17.8</td>\n",
              "      <td>396.90</td>\n",
              "      <td>9.14</td>\n",
              "      <td>21.6</td>\n",
              "    </tr>\n",
              "    <tr>\n",
              "      <th>2</th>\n",
              "      <td>0.02729</td>\n",
              "      <td>0.0</td>\n",
              "      <td>7.07</td>\n",
              "      <td>0.0</td>\n",
              "      <td>0.469</td>\n",
              "      <td>7.185</td>\n",
              "      <td>61.1</td>\n",
              "      <td>4.9671</td>\n",
              "      <td>2.0</td>\n",
              "      <td>242.0</td>\n",
              "      <td>17.8</td>\n",
              "      <td>392.83</td>\n",
              "      <td>4.03</td>\n",
              "      <td>34.7</td>\n",
              "    </tr>\n",
              "    <tr>\n",
              "      <th>3</th>\n",
              "      <td>0.03237</td>\n",
              "      <td>0.0</td>\n",
              "      <td>2.18</td>\n",
              "      <td>0.0</td>\n",
              "      <td>0.458</td>\n",
              "      <td>6.998</td>\n",
              "      <td>45.8</td>\n",
              "      <td>6.0622</td>\n",
              "      <td>3.0</td>\n",
              "      <td>222.0</td>\n",
              "      <td>18.7</td>\n",
              "      <td>394.63</td>\n",
              "      <td>2.94</td>\n",
              "      <td>33.4</td>\n",
              "    </tr>\n",
              "    <tr>\n",
              "      <th>4</th>\n",
              "      <td>0.06905</td>\n",
              "      <td>0.0</td>\n",
              "      <td>2.18</td>\n",
              "      <td>0.0</td>\n",
              "      <td>0.458</td>\n",
              "      <td>7.147</td>\n",
              "      <td>54.2</td>\n",
              "      <td>6.0622</td>\n",
              "      <td>3.0</td>\n",
              "      <td>222.0</td>\n",
              "      <td>18.7</td>\n",
              "      <td>396.90</td>\n",
              "      <td>5.33</td>\n",
              "      <td>36.2</td>\n",
              "    </tr>\n",
              "  </tbody>\n",
              "</table>\n",
              "</div>"
            ],
            "text/plain": [
              "      CRIM    ZN  INDUS  CHAS    NOX  ...    TAX  PTRATIO       B  LSTAT  MEDV\n",
              "0  0.00632  18.0   2.31   0.0  0.538  ...  296.0     15.3  396.90   4.98  24.0\n",
              "1  0.02731   0.0   7.07   0.0  0.469  ...  242.0     17.8  396.90   9.14  21.6\n",
              "2  0.02729   0.0   7.07   0.0  0.469  ...  242.0     17.8  392.83   4.03  34.7\n",
              "3  0.03237   0.0   2.18   0.0  0.458  ...  222.0     18.7  394.63   2.94  33.4\n",
              "4  0.06905   0.0   2.18   0.0  0.458  ...  222.0     18.7  396.90   5.33  36.2\n",
              "\n",
              "[5 rows x 14 columns]"
            ]
          },
          "metadata": {
            "tags": []
          },
          "execution_count": 6
        }
      ]
    },
    {
      "cell_type": "markdown",
      "metadata": {
        "id": "LGm78JRabIlG"
      },
      "source": [
        "### Discussion: \n",
        "\n",
        "Suppose we want to do Linear Regression on our dataset to get an estimate, based on mean squared error, of how well our model will perform on data outside our dataset. \n",
        "\n",
        "Suppose also that our data is split into three folds: Fold 1, Fold 2, and Fold 3.\n",
        "\n",
        "What would the steps be, in English, to do this?"
      ]
    },
    {
      "cell_type": "markdown",
      "metadata": {
        "id": "La_9lyEQbIlG"
      },
      "source": [
        "**Your response below**"
      ]
    },
    {
      "cell_type": "markdown",
      "metadata": {
        "id": "cErxGWtSbIlH"
      },
      "source": [
        " "
      ]
    },
    {
      "cell_type": "markdown",
      "metadata": {
        "id": "fAwUYAsxbIlH"
      },
      "source": [
        "#### Coding this up\n",
        "\n",
        "The [`KFold`](http://scikit-learn.org/stable/modules/generated/sklearn.model_selection.KFold.html) object in SciKit Learn tells the cross validation object (see below) how to split up the data:"
      ]
    },
    {
      "cell_type": "code",
      "metadata": {
        "ExecuteTime": {
          "end_time": "2019-02-19T17:23:05.068445Z",
          "start_time": "2019-02-19T17:23:05.064683Z"
        },
        "id": "Rt1ojo2gbIlH"
      },
      "source": [
        "X = boston_data.drop('MEDV', axis=1)\n",
        "y = boston_data.MEDV"
      ],
      "execution_count": 7,
      "outputs": []
    },
    {
      "cell_type": "code",
      "metadata": {
        "ExecuteTime": {
          "end_time": "2019-02-19T17:23:10.538982Z",
          "start_time": "2019-02-19T17:23:10.534325Z"
        },
        "id": "3HcoXR__bIlH"
      },
      "source": [
        "kf = KFold(shuffle=True, random_state=72018, n_splits=3)"
      ],
      "execution_count": 8,
      "outputs": []
    },
    {
      "cell_type": "code",
      "metadata": {
        "ExecuteTime": {
          "end_time": "2019-02-19T17:25:04.578536Z",
          "start_time": "2019-02-19T17:25:04.568959Z"
        },
        "scrolled": true,
        "colab": {
          "base_uri": "https://localhost:8080/"
        },
        "id": "naELQk0tbIlH",
        "outputId": "c0f16a2d-8481-4543-db14-fea71e114aa2"
      },
      "source": [
        "for train_index, test_index in kf.split(X):\n",
        "    print(\"Train index:\", train_index[:10], len(train_index))\n",
        "    print(\"Test index:\",test_index[:10], len(test_index))\n",
        "    print('')"
      ],
      "execution_count": 9,
      "outputs": [
        {
          "output_type": "stream",
          "text": [
            "Train index: [ 1  3  4  5  7  8 10 11 12 13] 337\n",
            "Test index: [ 0  2  6  9 15 17 19 23 25 26] 169\n",
            "\n",
            "Train index: [ 0  2  6  9 10 11 12 13 15 17] 337\n",
            "Test index: [ 1  3  4  5  7  8 14 16 22 27] 169\n",
            "\n",
            "Train index: [0 1 2 3 4 5 6 7 8 9] 338\n",
            "Test index: [10 11 12 13 18 20 21 24 28 31] 168\n",
            "\n"
          ],
          "name": "stdout"
        }
      ]
    },
    {
      "cell_type": "code",
      "metadata": {
        "ExecuteTime": {
          "end_time": "2019-02-19T17:28:10.441616Z",
          "start_time": "2019-02-19T17:28:10.204857Z"
        },
        "colab": {
          "base_uri": "https://localhost:8080/"
        },
        "id": "Znz-158gbIlI",
        "outputId": "7b3139a3-ad2f-4cd1-b6f0-84e957e0b047"
      },
      "source": [
        "#from sklearn.metrics import r2_score, mean_squared_error\n",
        "\n",
        "scores = []\n",
        "lr = LinearRegression()\n",
        "\n",
        "for train_index, test_index in kf.split(X):\n",
        "    X_train, X_test, y_train, y_test = (X.iloc[train_index, :], \n",
        "                                        X.iloc[test_index, :], \n",
        "                                        y[train_index], \n",
        "                                        y[test_index])\n",
        "    \n",
        "    lr.fit(X_train, y_train)\n",
        "        \n",
        "    y_pred = lr.predict(X_test)\n",
        "\n",
        "    score = r2_score(y_test.values, y_pred)\n",
        "    \n",
        "    scores.append(score)\n",
        "    \n",
        "scores"
      ],
      "execution_count": 10,
      "outputs": [
        {
          "output_type": "execute_result",
          "data": {
            "text/plain": [
              "[0.6719348798472724, 0.7485020059212374, 0.6976807323597793]"
            ]
          },
          "metadata": {
            "tags": []
          },
          "execution_count": 10
        }
      ]
    },
    {
      "cell_type": "markdown",
      "metadata": {
        "id": "aMg-xAZZbIlI"
      },
      "source": [
        "A bit cumbersome, but do-able."
      ]
    },
    {
      "cell_type": "markdown",
      "metadata": {
        "id": "DkFHjO3UbIlI"
      },
      "source": [
        "### Discussion (Part 2): \n",
        "\n",
        "Now suppose we want to do the same, but appropriately scaling our data as we go through the folds.\n",
        "\n",
        "What would the steps be _now_?"
      ]
    },
    {
      "cell_type": "code",
      "metadata": {
        "ExecuteTime": {
          "end_time": "2019-02-19T17:32:07.846336Z",
          "start_time": "2019-02-19T17:32:07.808810Z"
        },
        "id": "hiXIvW4nbIlI"
      },
      "source": [
        "scores = []\n",
        "\n",
        "lr = LinearRegression()\n",
        "s = StandardScaler()\n",
        "\n",
        "for train_index, test_index in kf.split(X):\n",
        "    X_train, X_test, y_train, y_test = (X.iloc[train_index, :], \n",
        "                                        X.iloc[test_index, :], \n",
        "                                        y[train_index], \n",
        "                                        y[test_index])\n",
        "    \n",
        "    X_train_s = s.fit_transform(X_train)\n",
        "    \n",
        "    lr.fit(X_train_s, y_train)\n",
        "    \n",
        "    X_test_s = s.transform(X_test)\n",
        "    \n",
        "    y_pred = lr.predict(X_test_s)\n",
        "\n",
        "    score = r2_score(y_test.values, y_pred)\n",
        "    \n",
        "    scores.append(score)"
      ],
      "execution_count": 11,
      "outputs": []
    },
    {
      "cell_type": "code",
      "metadata": {
        "ExecuteTime": {
          "end_time": "2019-02-19T17:32:09.978972Z",
          "start_time": "2019-02-19T17:32:09.974341Z"
        },
        "colab": {
          "base_uri": "https://localhost:8080/"
        },
        "id": "8YH44b9ZbIlJ",
        "outputId": "93dc3345-7691-427b-d67b-5e26d91fd39c"
      },
      "source": [
        "scores"
      ],
      "execution_count": 12,
      "outputs": [
        {
          "output_type": "execute_result",
          "data": {
            "text/plain": [
              "[0.6719348798472715, 0.7485020059212382, 0.6976807323597745]"
            ]
          },
          "metadata": {
            "tags": []
          },
          "execution_count": 12
        }
      ]
    },
    {
      "cell_type": "markdown",
      "metadata": {
        "id": "CWGfhgq2bIlJ"
      },
      "source": [
        "(same scores, because for vanilla linear regression with no regularization, scaling actually doesn't matter for performance)"
      ]
    },
    {
      "cell_type": "markdown",
      "metadata": {
        "id": "J2-asc1LbIlJ"
      },
      "source": [
        "This is getting quite cumbersome! \n",
        "\n",
        "_Very_ luckily, SciKit Learn has some wonderful functions that handle a lot of this for us."
      ]
    },
    {
      "cell_type": "markdown",
      "metadata": {
        "id": "t46NbZdQbIlJ"
      },
      "source": [
        "### `Pipeline` and `cross_val_predict`"
      ]
    },
    {
      "cell_type": "markdown",
      "metadata": {
        "id": "DOjrMBl1bIlJ"
      },
      "source": [
        "`Pipeline` lets you chain together multiple operators on your data that both have a `fit` method."
      ]
    },
    {
      "cell_type": "code",
      "metadata": {
        "ExecuteTime": {
          "end_time": "2019-02-19T17:33:28.695381Z",
          "start_time": "2019-02-19T17:33:28.691865Z"
        },
        "id": "NeCREBdEbIlK"
      },
      "source": [
        "s = StandardScaler()\n",
        "lr = LinearRegression()"
      ],
      "execution_count": 13,
      "outputs": []
    },
    {
      "cell_type": "markdown",
      "metadata": {
        "id": "7DaiZHoxbIlK"
      },
      "source": [
        "### Combine multiple processing steps into a `Pipeline`\n",
        "\n",
        "A pipeline contains a series of steps, where a step is (\"name of step\", actual_model). The \"name of step\" string is only used to help you identify which step you are on, and to allow you to specify parameters at that step.  "
      ]
    },
    {
      "cell_type": "code",
      "metadata": {
        "ExecuteTime": {
          "end_time": "2019-02-19T17:33:32.657281Z",
          "start_time": "2019-02-19T17:33:32.653852Z"
        },
        "id": "mOlBi0FYbIlK"
      },
      "source": [
        "estimator = Pipeline([(\"scaler\", s),\n",
        "                      (\"regression\", lr)])"
      ],
      "execution_count": 15,
      "outputs": []
    },
    {
      "cell_type": "code",
      "metadata": {
        "colab": {
          "base_uri": "https://localhost:8080/"
        },
        "id": "CycaXXggeHAA",
        "outputId": "07ab92ba-cfb5-4f5e-d879-9185fb74d441"
      },
      "source": [
        "estimator.fit(X_train, y_train)"
      ],
      "execution_count": 20,
      "outputs": [
        {
          "output_type": "execute_result",
          "data": {
            "text/plain": [
              "Pipeline(memory=None,\n",
              "         steps=[('scaler',\n",
              "                 StandardScaler(copy=True, with_mean=True, with_std=True)),\n",
              "                ('regression',\n",
              "                 LinearRegression(copy_X=True, fit_intercept=True, n_jobs=None,\n",
              "                                  normalize=False))],\n",
              "         verbose=False)"
            ]
          },
          "metadata": {
            "tags": []
          },
          "execution_count": 20
        }
      ]
    },
    {
      "cell_type": "code",
      "metadata": {
        "id": "c65U1CpVeP5X"
      },
      "source": [
        "predict = estimator.predict(X_test)"
      ],
      "execution_count": 23,
      "outputs": []
    },
    {
      "cell_type": "markdown",
      "metadata": {
        "id": "-TLSxo4-bIlK"
      },
      "source": [
        "### `cross_val_predict`\n",
        "\n",
        "[`cross_val_predict`](http://scikit-learn.org/stable/modules/generated/sklearn.model_selection.cross_val_predict.html) is a function that does K-fold cross validation for us, appropriately fitting and transforming at every step of the way."
      ]
    },
    {
      "cell_type": "code",
      "metadata": {
        "colab": {
          "base_uri": "https://localhost:8080/"
        },
        "id": "Y8ynaqOtbIlK",
        "outputId": "f7b4f5c3-59bb-464d-82fb-0d1bc410b257"
      },
      "source": [
        "kf"
      ],
      "execution_count": 16,
      "outputs": [
        {
          "output_type": "execute_result",
          "data": {
            "text/plain": [
              "KFold(n_splits=3, random_state=72018, shuffle=True)"
            ]
          },
          "metadata": {
            "tags": []
          },
          "execution_count": 16
        }
      ]
    },
    {
      "cell_type": "code",
      "metadata": {
        "ExecuteTime": {
          "end_time": "2019-02-19T17:35:55.255356Z",
          "start_time": "2019-02-19T17:35:55.240376Z"
        },
        "id": "EJ5G_PtQbIlK"
      },
      "source": [
        "predictions = cross_val_predict(estimator, X, y, cv=kf)"
      ],
      "execution_count": 17,
      "outputs": []
    },
    {
      "cell_type": "code",
      "metadata": {
        "ExecuteTime": {
          "end_time": "2019-02-19T17:36:03.801732Z",
          "start_time": "2019-02-19T17:36:03.796646Z"
        },
        "scrolled": true,
        "colab": {
          "base_uri": "https://localhost:8080/"
        },
        "id": "Y2OIY7FYbIlL",
        "outputId": "1729f86f-fad3-46d3-fc99-cf990a526415"
      },
      "source": [
        "r2_score(y, predictions)"
      ],
      "execution_count": 18,
      "outputs": [
        {
          "output_type": "execute_result",
          "data": {
            "text/plain": [
              "0.706353106416156"
            ]
          },
          "metadata": {
            "tags": []
          },
          "execution_count": 18
        }
      ]
    },
    {
      "cell_type": "code",
      "metadata": {
        "ExecuteTime": {
          "end_time": "2019-02-19T17:36:19.831481Z",
          "start_time": "2019-02-19T17:36:19.827131Z"
        },
        "colab": {
          "base_uri": "https://localhost:8080/"
        },
        "id": "_KBwi5QGbIlL",
        "outputId": "8912d312-2f21-46c2-d821-adf027df2a5d"
      },
      "source": [
        "np.mean(scores) # almost identical!"
      ],
      "execution_count": 19,
      "outputs": [
        {
          "output_type": "execute_result",
          "data": {
            "text/plain": [
              "0.7060392060427615"
            ]
          },
          "metadata": {
            "tags": []
          },
          "execution_count": 19
        }
      ]
    },
    {
      "cell_type": "markdown",
      "metadata": {
        "id": "oQiXg7jUbIlL"
      },
      "source": [
        "Note that `cross_val_predict` doesn't use the same model for all steps; the predictions for each row are made when that row is in the validation set. We really have the collected results of 3 (i.e. `kf.num_splits`) different models. \n",
        "\n",
        "When we are done, `estimator` is still not fitted. If we want to predict on _new_ data, we still have to train our `estimator`. "
      ]
    },
    {
      "cell_type": "markdown",
      "metadata": {
        "id": "HooRTfccbIlL"
      },
      "source": [
        "## Hyperparameter tuning"
      ]
    },
    {
      "cell_type": "markdown",
      "metadata": {
        "id": "J_pq-1u1bIlL"
      },
      "source": [
        "### Definition\n",
        "\n",
        "**Hyperparameter tuning** involves using cross validation (or train-test split) to determine which hyperparameters are most likely to generate a model that _generalizes_ well outside of your sample.\n",
        "\n",
        "### Mechanics\n",
        "\n",
        "We can generate an exponentially spaces range of values using the numpy [`geomspace`](https://docs.scipy.org/doc/numpy/reference/generated/numpy.geomspace.html#numpy.geomspace) function.\n",
        "\n",
        "```python\n",
        "np.geomspace(1, 1000, num=4)\n",
        "```\n",
        "\n",
        "produces:\n",
        "\n",
        "```\n",
        "array([    1.,    10.,   100.,  1000.])\n",
        "```\n",
        "\n",
        "Use this function to generate a list of length 10 called `alphas` for hyperparameter tuning:"
      ]
    },
    {
      "cell_type": "code",
      "metadata": {
        "ExecuteTime": {
          "end_time": "2019-02-19T17:40:36.220744Z",
          "start_time": "2019-02-19T17:40:36.214714Z"
        },
        "colab": {
          "base_uri": "https://localhost:8080/"
        },
        "id": "Nbqb3MlhbIlM",
        "outputId": "ab6d4712-9a20-4e2f-8c68-81d1024656ee"
      },
      "source": [
        "alphas = np.geomspace(1e-9, 1e0, num=10)\n",
        "alphas"
      ],
      "execution_count": 25,
      "outputs": [
        {
          "output_type": "execute_result",
          "data": {
            "text/plain": [
              "array([1.e-09, 1.e-08, 1.e-07, 1.e-06, 1.e-05, 1.e-04, 1.e-03, 1.e-02,\n",
              "       1.e-01, 1.e+00])"
            ]
          },
          "metadata": {
            "tags": []
          },
          "execution_count": 25
        }
      ]
    },
    {
      "cell_type": "markdown",
      "metadata": {
        "id": "oLatjOpObIlM"
      },
      "source": [
        "The code below tunes the `alpha` hyperparameter for Lasso regression."
      ]
    },
    {
      "cell_type": "code",
      "metadata": {
        "ExecuteTime": {
          "end_time": "2019-02-19T17:47:34.947390Z",
          "start_time": "2019-02-19T17:47:34.845011Z"
        },
        "id": "fkydtWU9bIlM"
      },
      "source": [
        "scores = []\n",
        "coefs = []\n",
        "for alpha in alphas:\n",
        "    las = Lasso(alpha=alpha, max_iter=100000)\n",
        "    \n",
        "    estimator = Pipeline([\n",
        "        (\"scaler\", s),\n",
        "        (\"lasso_regression\", las)])\n",
        "\n",
        "    predictions = cross_val_predict(estimator, X, y, cv = kf)\n",
        "    \n",
        "    score = r2_score(y, predictions)\n",
        "    \n",
        "    scores.append(score)"
      ],
      "execution_count": 26,
      "outputs": []
    },
    {
      "cell_type": "code",
      "metadata": {
        "ExecuteTime": {
          "end_time": "2019-02-19T17:47:35.397285Z",
          "start_time": "2019-02-19T17:47:35.390917Z"
        },
        "colab": {
          "base_uri": "https://localhost:8080/"
        },
        "id": "FL8-v4bLbIlM",
        "outputId": "5982d21f-21ff-4c56-e711-8183f2077639"
      },
      "source": [
        "list(zip(alphas,scores))"
      ],
      "execution_count": 27,
      "outputs": [
        {
          "output_type": "execute_result",
          "data": {
            "text/plain": [
              "[(1e-09, 0.7063531064981925),\n",
              " (1e-08, 0.7063531072356071),\n",
              " (1e-07, 0.7063531145602442),\n",
              " (1e-06, 0.7063531882052063),\n",
              " (1e-05, 0.7063539165191507),\n",
              " (0.0001, 0.706361268093463),\n",
              " (0.001, 0.706433467041546),\n",
              " (0.01, 0.7070865958083233),\n",
              " (0.1, 0.705838151167185),\n",
              " (1.0, 0.6512724532884888)]"
            ]
          },
          "metadata": {
            "tags": []
          },
          "execution_count": 27
        }
      ]
    },
    {
      "cell_type": "code",
      "metadata": {
        "ExecuteTime": {
          "end_time": "2019-02-19T17:48:16.943881Z",
          "start_time": "2019-02-19T17:48:16.937741Z"
        },
        "colab": {
          "base_uri": "https://localhost:8080/"
        },
        "id": "GSG5GbvsbIlM",
        "outputId": "11317d4a-87ae-46bf-e912-ae6f1819badc"
      },
      "source": [
        "Lasso(alpha=1e-6).fit(X, y).coef_"
      ],
      "execution_count": 28,
      "outputs": [
        {
          "output_type": "execute_result",
          "data": {
            "text/plain": [
              "array([-1.07170372e-01,  4.63952623e-02,  2.08588308e-02,  2.68854318e+00,\n",
              "       -1.77954207e+01,  3.80475296e+00,  7.50802707e-04, -1.47575348e+00,\n",
              "        3.05654279e-01, -1.23293755e-02, -9.53459908e-01,  9.39253013e-03,\n",
              "       -5.25467196e-01])"
            ]
          },
          "metadata": {
            "tags": []
          },
          "execution_count": 28
        }
      ]
    },
    {
      "cell_type": "code",
      "metadata": {
        "ExecuteTime": {
          "end_time": "2019-02-19T17:48:40.778026Z",
          "start_time": "2019-02-19T17:48:40.771732Z"
        },
        "colab": {
          "base_uri": "https://localhost:8080/"
        },
        "id": "eM6YLyOjbIlM",
        "outputId": "a10fd3a2-1231-45b6-8ce4-c29320fcc163"
      },
      "source": [
        "Lasso(alpha=1.0).fit(X, y).coef_"
      ],
      "execution_count": 29,
      "outputs": [
        {
          "output_type": "execute_result",
          "data": {
            "text/plain": [
              "array([-0.06342255,  0.04916867, -0.        ,  0.        , -0.        ,\n",
              "        0.94678567,  0.02092737, -0.66900864,  0.26417501, -0.01520915,\n",
              "       -0.72319901,  0.00829117, -0.76143296])"
            ]
          },
          "metadata": {
            "tags": []
          },
          "execution_count": 29
        }
      ]
    },
    {
      "cell_type": "code",
      "metadata": {
        "ExecuteTime": {
          "end_time": "2019-02-19T17:46:03.208768Z",
          "start_time": "2019-02-19T17:46:02.898338Z"
        },
        "colab": {
          "base_uri": "https://localhost:8080/",
          "height": 392
        },
        "id": "IL87tf4rbIlM",
        "outputId": "1dd31b9d-6467-4d1d-a39b-7639cad6e696"
      },
      "source": [
        "plt.figure(figsize=(10,6))\n",
        "plt.semilogx(alphas, scores, '-o')\n",
        "plt.xlabel('$\\\\alpha$')\n",
        "plt.ylabel('$R^2$');"
      ],
      "execution_count": 30,
      "outputs": [
        {
          "output_type": "display_data",
          "data": {
            "image/png": "[encoded data removed]",
            "text/plain": [
              "<Figure size 720x432 with 1 Axes>"
            ]
          },
          "metadata": {
            "tags": [],
            "needs_background": "light"
          }
        }
      ]
    },
    {
      "cell_type": "markdown",
      "metadata": {
        "id": "rFu7ci06bIlN"
      },
      "source": [
        "### Exercise\n",
        "\n",
        "Add `PolynomialFeatures` to this `Pipeline`, and re-run the cross validation with the `PolynomialFeatures` added.\n",
        "\n",
        "**Hint #1:** pipelines process input from first to last. Think about the order that it would make sense to add Polynomial Features to the data in sequence and add them in the appropriate place in the pipeline.\n",
        "\n",
        "**Hint #2:** you should see a significant increase in cross validation accuracy from doing this"
      ]
    },
    {
      "cell_type": "code",
      "metadata": {
        "ExecuteTime": {
          "end_time": "2019-02-19T17:56:02.883875Z",
          "start_time": "2019-02-19T17:56:00.477593Z"
        },
        "id": "2-BeYo3pbIlN"
      },
      "source": [
        "pf = PolynomialFeatures(degree=3)\n",
        "\n",
        "scores = []\n",
        "alphas = np.geomspace(0.06, 6.0, 20)\n",
        "for alpha in alphas:\n",
        "    las = Lasso(alpha=alpha, max_iter=100000)\n",
        "    \n",
        "    estimator = Pipeline([\n",
        "        (\"scaler\", s),\n",
        "        (\"make_higher_degree\", pf),\n",
        "        (\"lasso_regression\", las)])\n",
        "\n",
        "    predictions = cross_val_predict(estimator, X, y, cv = kf)\n",
        "    \n",
        "    score = r2_score(y, predictions)\n",
        "    \n",
        "    scores.append(score)\n",
        "    "
      ],
      "execution_count": 31,
      "outputs": []
    },
    {
      "cell_type": "code",
      "metadata": {
        "colab": {
          "base_uri": "https://localhost:8080/"
        },
        "id": "bbrb7_wngrKv",
        "outputId": "71eb6876-c656-47cb-a1a3-947faf1bb3f8"
      },
      "source": [
        "scores"
      ],
      "execution_count": 33,
      "outputs": [
        {
          "output_type": "execute_result",
          "data": {
            "text/plain": [
              "[0.8109754662476154,\n",
              " 0.8224863637940227,\n",
              " 0.8230573042903306,\n",
              " 0.8143160953048915,\n",
              " 0.8044446338622657,\n",
              " 0.7942423307179223,\n",
              " 0.7837829963261633,\n",
              " 0.7762405981594626,\n",
              " 0.77008630147054,\n",
              " 0.7696545891092781,\n",
              " 0.7629213902351794,\n",
              " 0.746362920338825,\n",
              " 0.7222912862089705,\n",
              " 0.695253921882193,\n",
              " 0.6715160557453473,\n",
              " 0.6324054431232764,\n",
              " 0.580589840077772,\n",
              " 0.5046557947726654,\n",
              " 0.41425023203661404,\n",
              " 0.3800935078061405]"
            ]
          },
          "metadata": {
            "tags": []
          },
          "execution_count": 33
        }
      ]
    },
    {
      "cell_type": "markdown",
      "metadata": {
        "id": "PRXHCLy0bIlN"
      },
      "source": [
        "If you store the results in a list called `scores`, the following will work:"
      ]
    },
    {
      "cell_type": "code",
      "metadata": {
        "ExecuteTime": {
          "end_time": "2019-02-19T17:56:05.154628Z",
          "start_time": "2019-02-19T17:56:04.987932Z"
        },
        "colab": {
          "base_uri": "https://localhost:8080/",
          "height": 268
        },
        "id": "0sSm_Ek5bIlN",
        "outputId": "765b32ee-8ebc-4902-9648-22e0e8928331"
      },
      "source": [
        "plt.semilogx(alphas, scores);"
      ],
      "execution_count": 32,
      "outputs": [
        {
          "output_type": "display_data",
          "data": {
            "image/png": "[encoded data removed]",
            "text/plain": [
              "<Figure size 432x288 with 1 Axes>"
            ]
          },
          "metadata": {
            "tags": [],
            "needs_background": "light"
          }
        }
      ]
    },
    {
      "cell_type": "code",
      "metadata": {
        "ExecuteTime": {
          "end_time": "2019-02-19T17:56:40.051147Z",
          "start_time": "2019-02-19T17:56:40.009641Z"
        },
        "colab": {
          "base_uri": "https://localhost:8080/"
        },
        "id": "dv4L9KMKbIlN",
        "outputId": "f9904afa-4fa3-4b46-dc61-de66bd1bec91"
      },
      "source": [
        "# Once we have found the hyperparameter (alpha~1e-2=0.01)\n",
        "# make the model and train it on ALL the data\n",
        "# Then release it into the wild .....\n",
        "best_estimator = Pipeline([\n",
        "                    (\"scaler\", s),\n",
        "                    (\"make_higher_degree\", PolynomialFeatures(degree=2)),\n",
        "                    (\"lasso_regression\", Lasso(alpha=0.03))])\n",
        "\n",
        "best_estimator.fit(X, y)\n",
        "best_estimator.score(X, y)"
      ],
      "execution_count": 34,
      "outputs": [
        {
          "output_type": "execute_result",
          "data": {
            "text/plain": [
              "0.9134777735196521"
            ]
          },
          "metadata": {
            "tags": []
          },
          "execution_count": 34
        }
      ]
    },
    {
      "cell_type": "code",
      "metadata": {
        "ExecuteTime": {
          "end_time": "2019-02-19T17:56:51.526585Z",
          "start_time": "2019-02-19T17:56:51.521094Z"
        },
        "colab": {
          "base_uri": "https://localhost:8080/"
        },
        "id": "8Q126D7QbIlN",
        "outputId": "26fda368-10c5-491a-b40b-86e2e2b629ed"
      },
      "source": [
        "best_estimator.named_steps[\"lasso_regression\"].coef_"
      ],
      "execution_count": 35,
      "outputs": [
        {
          "output_type": "execute_result",
          "data": {
            "text/plain": [
              "array([ 0.00000000e+00, -0.00000000e+00, -0.00000000e+00, -0.00000000e+00,\n",
              "        0.00000000e+00, -1.00309168e+00,  3.32679107e+00, -1.01840878e+00,\n",
              "       -2.56161421e+00,  1.12778302e+00, -1.72266155e+00, -5.37088506e-01,\n",
              "        4.39555878e-01, -3.39542586e+00,  7.22387712e-02,  0.00000000e+00,\n",
              "        0.00000000e+00,  3.53653554e+00, -0.00000000e+00,  3.72285440e-01,\n",
              "        0.00000000e+00,  0.00000000e+00, -5.49528703e-01, -0.00000000e+00,\n",
              "       -0.00000000e+00, -4.05522485e-02,  2.25864611e-01,  1.78508858e-01,\n",
              "        0.00000000e+00,  0.00000000e+00,  0.00000000e+00,  6.50874606e-02,\n",
              "       -0.00000000e+00, -2.07295802e-01, -0.00000000e+00,  3.71781995e-01,\n",
              "        0.00000000e+00, -0.00000000e+00, -5.89531100e-02,  3.47180625e-01,\n",
              "        0.00000000e+00,  9.23666274e-01,  3.48873365e-01,  7.29463442e-02,\n",
              "        0.00000000e+00,  0.00000000e+00,  7.68485586e-02, -7.21083596e-01,\n",
              "        0.00000000e+00, -5.98542558e-01,  4.18420677e-01, -7.98165728e-01,\n",
              "       -7.25062683e-01,  2.34818861e-01, -0.00000000e+00, -0.00000000e+00,\n",
              "        0.00000000e+00, -1.68164447e-02,  0.00000000e+00, -4.04477826e-01,\n",
              "       -4.22989874e-01, -4.06983988e-01, -3.75443720e-01,  4.17684564e-01,\n",
              "       -8.91841193e-01,  0.00000000e+00, -2.69309481e-01,  0.00000000e+00,\n",
              "        1.02286785e-01,  2.02570379e-01, -6.88345376e-01, -0.00000000e+00,\n",
              "       -1.08598703e+00, -3.98751731e-01, -9.37684760e-01, -1.17343147e-01,\n",
              "       -7.37427594e-01,  0.00000000e+00,  0.00000000e+00,  1.36340670e+00,\n",
              "       -0.00000000e+00, -2.94691228e-03, -8.98125013e-01, -8.68198373e-01,\n",
              "        8.03396788e-01, -1.91683803e-01, -1.14706070e-01,  0.00000000e+00,\n",
              "       -0.00000000e+00,  5.83161589e-01, -0.00000000e+00,  5.81365491e-02,\n",
              "        0.00000000e+00, -2.32896159e-01, -1.12440837e+00,  0.00000000e+00,\n",
              "        1.96286997e+00, -0.00000000e+00, -1.00915801e+00, -7.04656486e-02,\n",
              "       -1.06456357e-02, -4.78389591e-02, -3.97645601e-01, -3.84121840e-01,\n",
              "        9.97402419e-01])"
            ]
          },
          "metadata": {
            "tags": []
          },
          "execution_count": 35
        }
      ]
    },
    {
      "cell_type": "markdown",
      "metadata": {
        "id": "0_-qqul3bIlN"
      },
      "source": [
        "### Exercise\n",
        "\n",
        "Do the same, but with `Ridge` regression \n",
        "\n",
        "Which model, `Ridge` or `Lasso`, performs best with its optimal hyperparameters on the Boston dataset?"
      ]
    },
    {
      "cell_type": "code",
      "metadata": {
        "ExecuteTime": {
          "end_time": "2019-02-19T17:59:17.634414Z",
          "start_time": "2019-02-19T17:59:17.238684Z"
        },
        "colab": {
          "base_uri": "https://localhost:8080/",
          "height": 281
        },
        "id": "MzsTrNGwbIlO",
        "outputId": "f10d9713-95ae-4f83-e3fa-0ceecd77cc0c"
      },
      "source": [
        "pf = PolynomialFeatures(degree=2)\n",
        "alphas = np.geomspace(4, 20, 20)\n",
        "scores=[]\n",
        "for alpha in alphas:\n",
        "    ridge = Ridge(alpha=alpha, max_iter=100000)\n",
        "\n",
        "    estimator = Pipeline([\n",
        "        (\"scaler\", s),\n",
        "        (\"polynomial_features\", pf),\n",
        "        (\"ridge_regression\", ridge)])\n",
        "\n",
        "    predictions = cross_val_predict(estimator, X, y, cv = kf)\n",
        "    score = r2_score(y, predictions)\n",
        "    scores.append(score)\n",
        "\n",
        "plt.plot(alphas, scores)"
      ],
      "execution_count": 36,
      "outputs": [
        {
          "output_type": "execute_result",
          "data": {
            "text/plain": [
              "[<matplotlib.lines.Line2D at 0x7fe093624550>]"
            ]
          },
          "metadata": {
            "tags": []
          },
          "execution_count": 36
        },
        {
          "output_type": "display_data",
          "data": {
            "image/png": "[encoded data removed]",
            "text/plain": [
              "<Figure size 432x288 with 1 Axes>"
            ]
          },
          "metadata": {
            "tags": [],
            "needs_background": "light"
          }
        }
      ]
    },
    {
      "cell_type": "markdown",
      "metadata": {
        "id": "bPu7wcOZbIlO"
      },
      "source": [
        "**Conclusion:** Both Lasso and Ridge with proper hyperparameter tuning give better results than plain ol' Linear Regression!"
      ]
    },
    {
      "cell_type": "markdown",
      "metadata": {
        "id": "FDhAUpaTbIlO"
      },
      "source": [
        "### Exercise:"
      ]
    },
    {
      "cell_type": "markdown",
      "metadata": {
        "id": "6ATNMk25bIlO"
      },
      "source": [
        "Now, for whatever your best overall hyperparameter was: \n",
        "\n",
        "* Standardize the data\n",
        "* Fit and predict on the entire dataset\n",
        "* See what the largest coefficients were\n",
        "    * Hint: use \n",
        "    ```python\n",
        "    dict(zip(model.coef_, pf.get_feature_names()))\n",
        "    ```\n",
        "    for your model `model` to get the feature names from `PolynomialFeatures`.\n",
        "    \n",
        "    Then, use\n",
        "    ```python\n",
        "    dict(zip(list(range(len(X.columns.values))), X.columns.values))\n",
        "    ```\n",
        "    \n",
        "    to see which features in the `PolynomialFeatures` DataFrame correspond to which columns in the original DataFrame.\n"
      ]
    },
    {
      "cell_type": "code",
      "metadata": {
        "ExecuteTime": {
          "end_time": "2019-02-19T17:56:40.051147Z",
          "start_time": "2019-02-19T17:56:40.009641Z"
        },
        "colab": {
          "base_uri": "https://localhost:8080/"
        },
        "id": "opV0d2fJbIlO",
        "outputId": "ce1a71d1-2e09-400f-99f7-b94cef93efb2"
      },
      "source": [
        "# Once we have found the hyperparameter (alpha~1e-2=0.01)\n",
        "# make the model and train it on ALL the data\n",
        "# Then release it into the wild .....\n",
        "best_estimator = Pipeline([\n",
        "                    (\"scaler\", s),\n",
        "                    (\"make_higher_degree\", PolynomialFeatures(degree=2)),\n",
        "                    (\"lasso_regression\", Lasso(alpha=0.03))])\n",
        "\n",
        "best_estimator.fit(X, y)\n",
        "best_estimator.score(X, y)"
      ],
      "execution_count": 37,
      "outputs": [
        {
          "output_type": "execute_result",
          "data": {
            "text/plain": [
              "0.9134777735196521"
            ]
          },
          "metadata": {
            "tags": []
          },
          "execution_count": 37
        }
      ]
    },
    {
      "cell_type": "code",
      "metadata": {
        "ExecuteTime": {
          "end_time": "2019-02-19T17:56:51.526585Z",
          "start_time": "2019-02-19T17:56:51.521094Z"
        },
        "id": "ol_bh5AwbIlP"
      },
      "source": [
        "df_importances = pd.DataFrame(zip(best_estimator.named_steps[\"make_higher_degree\"].get_feature_names(input_features=X.columns),\n",
        "                 best_estimator.named_steps[\"lasso_regression\"].coef_,\n",
        "))"
      ],
      "execution_count": 42,
      "outputs": []
    },
    {
      "cell_type": "code",
      "metadata": {
        "id": "E1lEgUU7bIlP"
      },
      "source": [
        "col_names_dict = dict(zip(list(range(len(X.columns.values))), X.columns.values))"
      ],
      "execution_count": 43,
      "outputs": []
    },
    {
      "cell_type": "code",
      "metadata": {
        "colab": {
          "base_uri": "https://localhost:8080/"
        },
        "id": "IjXUbNEvbIlP",
        "outputId": "d7b67fd7-2628-4f12-c404-ca1d2910f42b"
      },
      "source": [
        "col_names_dict"
      ],
      "execution_count": 44,
      "outputs": [
        {
          "output_type": "execute_result",
          "data": {
            "text/plain": [
              "{0: 'CRIM',\n",
              " 1: 'ZN',\n",
              " 2: 'INDUS',\n",
              " 3: 'CHAS',\n",
              " 4: 'NOX',\n",
              " 5: 'RM',\n",
              " 6: 'AGE',\n",
              " 7: 'DIS',\n",
              " 8: 'RAD',\n",
              " 9: 'TAX',\n",
              " 10: 'PTRATIO',\n",
              " 11: 'B',\n",
              " 12: 'LSTAT'}"
            ]
          },
          "metadata": {
            "tags": []
          },
          "execution_count": 44
        }
      ]
    },
    {
      "cell_type": "code",
      "metadata": {
        "colab": {
          "base_uri": "https://localhost:8080/",
          "height": 405
        },
        "id": "glwO7BwVjhhd",
        "outputId": "edfd6e02-b183-40e0-ebfc-30d112f0bbf2"
      },
      "source": [
        "df_importances"
      ],
      "execution_count": 46,
      "outputs": [
        {
          "output_type": "execute_result",
          "data": {
            "text/html": [
              "<div>\n",
              "<style scoped>\n",
              "    .dataframe tbody tr th:only-of-type {\n",
              "        vertical-align: middle;\n",
              "    }\n",
              "\n",
              "    .dataframe tbody tr th {\n",
              "        vertical-align: top;\n",
              "    }\n",
              "\n",
              "    .dataframe thead th {\n",
              "        text-align: right;\n",
              "    }\n",
              "</style>\n",
              "<table border=\"1\" class=\"dataframe\">\n",
              "  <thead>\n",
              "    <tr style=\"text-align: right;\">\n",
              "      <th></th>\n",
              "      <th>0</th>\n",
              "      <th>1</th>\n",
              "    </tr>\n",
              "  </thead>\n",
              "  <tbody>\n",
              "    <tr>\n",
              "      <th>0</th>\n",
              "      <td>1</td>\n",
              "      <td>0.000000</td>\n",
              "    </tr>\n",
              "    <tr>\n",
              "      <th>1</th>\n",
              "      <td>CRIM</td>\n",
              "      <td>-0.000000</td>\n",
              "    </tr>\n",
              "    <tr>\n",
              "      <th>2</th>\n",
              "      <td>ZN</td>\n",
              "      <td>-0.000000</td>\n",
              "    </tr>\n",
              "    <tr>\n",
              "      <th>3</th>\n",
              "      <td>INDUS</td>\n",
              "      <td>-0.000000</td>\n",
              "    </tr>\n",
              "    <tr>\n",
              "      <th>4</th>\n",
              "      <td>CHAS</td>\n",
              "      <td>0.000000</td>\n",
              "    </tr>\n",
              "    <tr>\n",
              "      <th>...</th>\n",
              "      <td>...</td>\n",
              "      <td>...</td>\n",
              "    </tr>\n",
              "    <tr>\n",
              "      <th>100</th>\n",
              "      <td>PTRATIO B</td>\n",
              "      <td>-0.010646</td>\n",
              "    </tr>\n",
              "    <tr>\n",
              "      <th>101</th>\n",
              "      <td>PTRATIO LSTAT</td>\n",
              "      <td>-0.047839</td>\n",
              "    </tr>\n",
              "    <tr>\n",
              "      <th>102</th>\n",
              "      <td>B^2</td>\n",
              "      <td>-0.397646</td>\n",
              "    </tr>\n",
              "    <tr>\n",
              "      <th>103</th>\n",
              "      <td>B LSTAT</td>\n",
              "      <td>-0.384122</td>\n",
              "    </tr>\n",
              "    <tr>\n",
              "      <th>104</th>\n",
              "      <td>LSTAT^2</td>\n",
              "      <td>0.997402</td>\n",
              "    </tr>\n",
              "  </tbody>\n",
              "</table>\n",
              "<p>105 rows × 2 columns</p>\n",
              "</div>"
            ],
            "text/plain": [
              "                 0         1\n",
              "0                1  0.000000\n",
              "1             CRIM -0.000000\n",
              "2               ZN -0.000000\n",
              "3            INDUS -0.000000\n",
              "4             CHAS  0.000000\n",
              "..             ...       ...\n",
              "100      PTRATIO B -0.010646\n",
              "101  PTRATIO LSTAT -0.047839\n",
              "102            B^2 -0.397646\n",
              "103        B LSTAT -0.384122\n",
              "104        LSTAT^2  0.997402\n",
              "\n",
              "[105 rows x 2 columns]"
            ]
          },
          "metadata": {
            "tags": []
          },
          "execution_count": 46
        }
      ]
    },
    {
      "cell_type": "code",
      "metadata": {
        "colab": {
          "base_uri": "https://localhost:8080/",
          "height": 405
        },
        "id": "jwlZ6p7GbIlP",
        "outputId": "6db4aff1-6933-489e-f749-6d3883d04d25"
      },
      "source": [
        "df_importances.sort_values(by=1)"
      ],
      "execution_count": 45,
      "outputs": [
        {
          "output_type": "execute_result",
          "data": {
            "text/html": [
              "<div>\n",
              "<style scoped>\n",
              "    .dataframe tbody tr th:only-of-type {\n",
              "        vertical-align: middle;\n",
              "    }\n",
              "\n",
              "    .dataframe tbody tr th {\n",
              "        vertical-align: top;\n",
              "    }\n",
              "\n",
              "    .dataframe thead th {\n",
              "        text-align: right;\n",
              "    }\n",
              "</style>\n",
              "<table border=\"1\" class=\"dataframe\">\n",
              "  <thead>\n",
              "    <tr style=\"text-align: right;\">\n",
              "      <th></th>\n",
              "      <th>0</th>\n",
              "      <th>1</th>\n",
              "    </tr>\n",
              "  </thead>\n",
              "  <tbody>\n",
              "    <tr>\n",
              "      <th>13</th>\n",
              "      <td>LSTAT</td>\n",
              "      <td>-3.395426</td>\n",
              "    </tr>\n",
              "    <tr>\n",
              "      <th>8</th>\n",
              "      <td>DIS</td>\n",
              "      <td>-2.561614</td>\n",
              "    </tr>\n",
              "    <tr>\n",
              "      <th>10</th>\n",
              "      <td>TAX</td>\n",
              "      <td>-1.722662</td>\n",
              "    </tr>\n",
              "    <tr>\n",
              "      <th>94</th>\n",
              "      <td>RAD LSTAT</td>\n",
              "      <td>-1.124408</td>\n",
              "    </tr>\n",
              "    <tr>\n",
              "      <th>72</th>\n",
              "      <td>RM RAD</td>\n",
              "      <td>-1.085987</td>\n",
              "    </tr>\n",
              "    <tr>\n",
              "      <th>...</th>\n",
              "      <td>...</td>\n",
              "      <td>...</td>\n",
              "    </tr>\n",
              "    <tr>\n",
              "      <th>9</th>\n",
              "      <td>RAD</td>\n",
              "      <td>1.127783</td>\n",
              "    </tr>\n",
              "    <tr>\n",
              "      <th>79</th>\n",
              "      <td>AGE RAD</td>\n",
              "      <td>1.363407</td>\n",
              "    </tr>\n",
              "    <tr>\n",
              "      <th>96</th>\n",
              "      <td>TAX PTRATIO</td>\n",
              "      <td>1.962870</td>\n",
              "    </tr>\n",
              "    <tr>\n",
              "      <th>6</th>\n",
              "      <td>RM</td>\n",
              "      <td>3.326791</td>\n",
              "    </tr>\n",
              "    <tr>\n",
              "      <th>17</th>\n",
              "      <td>CRIM CHAS</td>\n",
              "      <td>3.536536</td>\n",
              "    </tr>\n",
              "  </tbody>\n",
              "</table>\n",
              "<p>105 rows × 2 columns</p>\n",
              "</div>"
            ],
            "text/plain": [
              "              0         1\n",
              "13        LSTAT -3.395426\n",
              "8           DIS -2.561614\n",
              "10          TAX -1.722662\n",
              "94    RAD LSTAT -1.124408\n",
              "72       RM RAD -1.085987\n",
              "..          ...       ...\n",
              "9           RAD  1.127783\n",
              "79      AGE RAD  1.363407\n",
              "96  TAX PTRATIO  1.962870\n",
              "6            RM  3.326791\n",
              "17    CRIM CHAS  3.536536\n",
              "\n",
              "[105 rows x 2 columns]"
            ]
          },
          "metadata": {
            "tags": []
          },
          "execution_count": 45
        }
      ]
    },
    {
      "cell_type": "markdown",
      "metadata": {
        "id": "jRlm4-xObIlP"
      },
      "source": [
        "## Grid Search CV"
      ]
    },
    {
      "cell_type": "markdown",
      "metadata": {
        "id": "78EyX8UTbIlP"
      },
      "source": [
        "To do cross-validation, we used two techniques:\n",
        "- use `KFolds` and manually create a loop to do cross-validation\n",
        "- use `cross_val_predict` and `score` to get a cross-valiated score in a couple of lines.\n",
        "\n",
        "To do hyper-parameter tuning, we see a general pattern:\n",
        "- use `cross_val_predict` and `score` in a manually written loop over hyperparemeters, then select the best one.\n",
        "\n",
        "Perhaps not surprisingly, there is a function that does this for us -- `GridSearchCV`"
      ]
    },
    {
      "cell_type": "code",
      "metadata": {
        "ExecuteTime": {
          "end_time": "2019-02-19T18:02:31.945804Z",
          "start_time": "2019-02-19T18:02:31.938416Z"
        },
        "id": "t5nirjUxbIlP"
      },
      "source": [
        "from sklearn.model_selection import GridSearchCV\n",
        "\n",
        "# Same estimator as before\n",
        "estimator = Pipeline([(\"scaler\", StandardScaler()),\n",
        "        (\"polynomial_features\", PolynomialFeatures()),\n",
        "        (\"ridge_regression\", Ridge())])\n",
        "\n",
        "params = {\n",
        "    'polynomial_features__degree': [1, 2, 3],\n",
        "    'ridge_regression__alpha': np.geomspace(4, 20, 30)\n",
        "}\n",
        "\n",
        "grid = GridSearchCV(estimator, params, cv=kf)"
      ],
      "execution_count": 47,
      "outputs": []
    },
    {
      "cell_type": "code",
      "metadata": {
        "ExecuteTime": {
          "end_time": "2019-02-19T18:02:49.319148Z",
          "start_time": "2019-02-19T18:02:46.093880Z"
        },
        "colab": {
          "base_uri": "https://localhost:8080/"
        },
        "id": "mF5NUeSfbIlQ",
        "outputId": "9369d4f6-d2a9-4110-ca2b-06bf3d77f8e6"
      },
      "source": [
        "grid.fit(X, y)"
      ],
      "execution_count": 48,
      "outputs": [
        {
          "output_type": "execute_result",
          "data": {
            "text/plain": [
              "GridSearchCV(cv=KFold(n_splits=3, random_state=72018, shuffle=True),\n",
              "             error_score=nan,\n",
              "             estimator=Pipeline(memory=None,\n",
              "                                steps=[('scaler',\n",
              "                                        StandardScaler(copy=True,\n",
              "                                                       with_mean=True,\n",
              "                                                       with_std=True)),\n",
              "                                       ('polynomial_features',\n",
              "                                        PolynomialFeatures(degree=2,\n",
              "                                                           include_bias=True,\n",
              "                                                           interaction_only=False,\n",
              "                                                           order='C')),\n",
              "                                       ('ridge_regression',\n",
              "                                        Ridge(alpha=1.0, copy_X=True,\n",
              "                                              fit_intercep...\n",
              "        5.27924796,  5.58051751,  5.89897953,  6.23561514,  6.59146146,\n",
              "        6.96761476,  7.36523392,  7.78554391,  8.22983963,  8.69948987,\n",
              "        9.19594151,  9.72072404, 10.27545421, 10.86184103, 11.48169104,\n",
              "       12.13691388, 12.82952815, 13.56166768, 14.33558803, 15.15367351,\n",
              "       16.01844446, 16.93256509, 17.89885162, 18.92028098, 20.        ])},\n",
              "             pre_dispatch='2*n_jobs', refit=True, return_train_score=False,\n",
              "             scoring=None, verbose=0)"
            ]
          },
          "metadata": {
            "tags": []
          },
          "execution_count": 48
        }
      ]
    },
    {
      "cell_type": "code",
      "metadata": {
        "ExecuteTime": {
          "end_time": "2019-02-19T18:03:07.016198Z",
          "start_time": "2019-02-19T18:03:07.010215Z"
        },
        "colab": {
          "base_uri": "https://localhost:8080/"
        },
        "id": "XmtdlX2fbIlQ",
        "outputId": "03991452-235e-44c1-cebc-dea469944aed"
      },
      "source": [
        "grid.best_score_, grid.best_params_"
      ],
      "execution_count": 49,
      "outputs": [
        {
          "output_type": "execute_result",
          "data": {
            "text/plain": [
              "(0.8504982950750941,\n",
              " {'polynomial_features__degree': 2,\n",
              "  'ridge_regression__alpha': 15.153673507519274})"
            ]
          },
          "metadata": {
            "tags": []
          },
          "execution_count": 49
        }
      ]
    },
    {
      "cell_type": "code",
      "metadata": {
        "ExecuteTime": {
          "end_time": "2019-02-19T18:03:31.735568Z",
          "start_time": "2019-02-19T18:03:31.728658Z"
        },
        "id": "wjCUJMCNbIlQ"
      },
      "source": [
        "y_predict = grid.predict(X)"
      ],
      "execution_count": 50,
      "outputs": []
    },
    {
      "cell_type": "code",
      "metadata": {
        "ExecuteTime": {
          "end_time": "2019-02-19T18:04:17.838943Z",
          "start_time": "2019-02-19T18:04:17.832872Z"
        },
        "colab": {
          "base_uri": "https://localhost:8080/"
        },
        "id": "kp1hIQOnbIlQ",
        "outputId": "8af727fb-a4f1-4e96-8470-55e927dce0d5"
      },
      "source": [
        "# This includes both in-sample and out-of-sample\n",
        "r2_score(y, y_predict)"
      ],
      "execution_count": 51,
      "outputs": [
        {
          "output_type": "execute_result",
          "data": {
            "text/plain": [
              "0.9149145594213685"
            ]
          },
          "metadata": {
            "tags": []
          },
          "execution_count": 51
        }
      ]
    },
    {
      "cell_type": "code",
      "metadata": {
        "ExecuteTime": {
          "end_time": "2019-02-19T18:04:27.088854Z",
          "start_time": "2019-02-19T18:04:27.082915Z"
        },
        "colab": {
          "base_uri": "https://localhost:8080/"
        },
        "id": "WXnblb8QbIlQ",
        "outputId": "648dbd05-4100-443b-8241-01eeac32da25"
      },
      "source": [
        "# Notice that \"grid\" is a fit object!\n",
        "# We can use grid.predict(X_test) to get brand new predictions!\n",
        "grid.best_estimator_.named_steps['ridge_regression'].coef_"
      ],
      "execution_count": 52,
      "outputs": [
        {
          "output_type": "execute_result",
          "data": {
            "text/plain": [
              "array([ 0.00000000e+00, -1.27346408e-01, -6.16205046e-03,  2.36135244e-02,\n",
              "        1.00398027e-01, -9.74110586e-01,  3.26236441e+00, -9.65057238e-01,\n",
              "       -1.96344725e+00,  8.56769182e-01, -1.01488960e+00, -7.06985966e-01,\n",
              "        5.52029222e-01, -3.03254502e+00,  7.74127927e-02,  7.24276605e-02,\n",
              "        6.82776638e-02,  1.72849044e+00, -4.80758341e-01,  5.76219972e-01,\n",
              "        1.28132069e-01,  2.22931335e-01, -7.45243542e-01,  1.66582495e-01,\n",
              "       -8.00025634e-02, -8.54571642e-02,  5.07490801e-01,  2.14820391e-01,\n",
              "       -1.48833274e-01,  1.42098626e-01,  1.93770221e-01,  5.02304885e-02,\n",
              "       -1.12667821e-01, -2.77559685e-01, -1.32870713e-01,  7.32239658e-01,\n",
              "        5.26857333e-02,  8.89966580e-02, -2.72228558e-01,  5.84383917e-01,\n",
              "        1.06306947e-01,  9.62971619e-01,  5.76845132e-01,  5.33378179e-01,\n",
              "        7.07913980e-01, -6.21760626e-02,  7.57641545e-02, -4.28157866e-01,\n",
              "        2.40651011e-01, -6.82201736e-01,  3.40931549e-01, -9.62217889e-01,\n",
              "       -8.14997204e-01,  2.81353294e-01,  5.50023518e-02,  8.65917517e-02,\n",
              "        6.28285056e-01, -1.40764851e-01, -1.03645734e-01, -3.81965497e-01,\n",
              "       -4.48817407e-01, -4.46562934e-01, -4.97293983e-01,  7.52862844e-01,\n",
              "       -8.00745322e-01,  7.86779267e-02, -5.78298566e-01, -4.98398516e-02,\n",
              "        5.37001246e-01,  2.24913740e-01, -7.11059542e-01,  5.70498060e-02,\n",
              "       -7.85214394e-01, -9.18516132e-01, -1.02907666e+00, -1.58937491e-01,\n",
              "       -7.77699453e-01,  1.42895792e-01,  7.72299871e-02,  1.08239035e+00,\n",
              "        3.98859145e-02, -7.26596891e-02, -9.64695031e-01, -1.12682105e+00,\n",
              "        1.01829108e+00, -6.12786851e-01, -4.22714073e-01, -1.41672983e-01,\n",
              "       -2.68672373e-01,  8.23071041e-01, -8.66106901e-01,  8.83695240e-01,\n",
              "        3.63975663e-01, -1.13200717e-01, -1.12043738e+00,  2.19170412e-03,\n",
              "        1.30087563e+00, -3.65505003e-01, -1.08425883e+00, -1.16852284e-01,\n",
              "        8.62081670e-02,  1.40937541e-03, -3.62535906e-01, -4.04519520e-01,\n",
              "        8.07960994e-01])"
            ]
          },
          "metadata": {
            "tags": []
          },
          "execution_count": 52
        }
      ]
    },
    {
      "cell_type": "code",
      "metadata": {
        "ExecuteTime": {
          "end_time": "2019-02-19T18:05:34.756588Z",
          "start_time": "2019-02-19T18:05:34.728508Z"
        },
        "colab": {
          "base_uri": "https://localhost:8080/"
        },
        "id": "LqzRO4AybIlQ",
        "outputId": "cdbe9e97-ecd1-41bd-c2f1-5e51c5f0b6c2"
      },
      "source": [
        "grid.cv_results_"
      ],
      "execution_count": 53,
      "outputs": [
        {
          "output_type": "execute_result",
          "data": {
            "text/plain": [
              "{'mean_fit_time': array([0.0068659 , 0.00308005, 0.0032986 , 0.00399534, 0.00330718,\n",
              "        0.0038561 , 0.00405463, 0.0040578 , 0.00330226, 0.00301131,\n",
              "        0.00366529, 0.00323319, 0.00337068, 0.00342949, 0.00381502,\n",
              "        0.00342242, 0.00387899, 0.00362158, 0.00395942, 0.0030899 ,\n",
              "        0.00304278, 0.00428351, 0.00413513, 0.00324861, 0.00353575,\n",
              "        0.00323145, 0.00354536, 0.00313958, 0.0030094 , 0.00295273,\n",
              "        0.0159355 , 0.01767   , 0.01691254, 0.00597986, 0.00568326,\n",
              "        0.00573476, 0.0062085 , 0.00880853, 0.00574144, 0.00608953,\n",
              "        0.00636872, 0.01006079, 0.01569812, 0.00718657, 0.00566371,\n",
              "        0.00832518, 0.01546558, 0.00988928, 0.00659068, 0.00571187,\n",
              "        0.00572379, 0.01941609, 0.0174791 , 0.01089756, 0.00689324,\n",
              "        0.00605543, 0.00687154, 0.00951672, 0.01099618, 0.00622725,\n",
              "        0.02472083, 0.03321934, 0.0298667 , 0.02759123, 0.04154388,\n",
              "        0.02260756, 0.01904424, 0.03572488, 0.03138494, 0.01762096,\n",
              "        0.0331676 , 0.02939129, 0.03274099, 0.02440055, 0.01621604,\n",
              "        0.03166731, 0.03147244, 0.01806386, 0.01511693, 0.02240475,\n",
              "        0.01663423, 0.03082561, 0.01396298, 0.02347803, 0.02608546,\n",
              "        0.01454226, 0.03314805, 0.02194468, 0.01508768, 0.03058449]),\n",
              " 'mean_score_time': array([0.00140341, 0.00134031, 0.00148352, 0.00130129, 0.00152747,\n",
              "        0.00153097, 0.00142845, 0.00146731, 0.00129954, 0.00138942,\n",
              "        0.00160702, 0.00131059, 0.00128897, 0.00141788, 0.0015405 ,\n",
              "        0.00148606, 0.00145292, 0.0018212 , 0.00135827, 0.00133936,\n",
              "        0.0012726 , 0.00170676, 0.00189304, 0.00136312, 0.00146476,\n",
              "        0.0013179 , 0.00136439, 0.00135295, 0.00125941, 0.001249  ,\n",
              "        0.00321476, 0.00490944, 0.00684269, 0.0022893 , 0.00219131,\n",
              "        0.00224972, 0.00235899, 0.00298325, 0.00218161, 0.00219814,\n",
              "        0.00232577, 0.00491818, 0.0066603 , 0.00226339, 0.00216103,\n",
              "        0.00247796, 0.00288987, 0.0025332 , 0.00240517, 0.00218789,\n",
              "        0.00261903, 0.00392516, 0.00622114, 0.00327579, 0.00227396,\n",
              "        0.00228731, 0.00319997, 0.00297038, 0.00279125, 0.00284608,\n",
              "        0.00655023, 0.00800769, 0.00707706, 0.00696715, 0.00886544,\n",
              "        0.00479595, 0.00549006, 0.00689205, 0.00842977, 0.00566586,\n",
              "        0.00884652, 0.00787838, 0.00888491, 0.005253  , 0.00455523,\n",
              "        0.00675511, 0.00949041, 0.00452598, 0.00417717, 0.00719396,\n",
              "        0.00371114, 0.00680717, 0.00380532, 0.00727574, 0.00504891,\n",
              "        0.004263  , 0.00672086, 0.00391714, 0.00636935, 0.00858617]),\n",
              " 'mean_test_score': array([0.70738225, 0.70743203, 0.70748221, 0.70753263, 0.7075831 ,\n",
              "        0.70763342, 0.70768336, 0.70773267, 0.70778109, 0.7078283 ,\n",
              "        0.70787399, 0.7079178 , 0.70795937, 0.70799827, 0.70803407,\n",
              "        0.70806631, 0.70809447, 0.70811803, 0.70813641, 0.70814901,\n",
              "        0.70815518, 0.70815424, 0.70814547, 0.7081281 , 0.70810131,\n",
              "        0.70806425, 0.70801602, 0.70795565, 0.70788212, 0.70779435,\n",
              "        0.84417569, 0.84459708, 0.84501344, 0.84542348, 0.84582591,\n",
              "        0.84621942, 0.84660271, 0.84697453, 0.84733361, 0.84767874,\n",
              "        0.84800875, 0.8483225 , 0.84861892, 0.84889697, 0.84915567,\n",
              "        0.84939411, 0.8496114 , 0.84980674, 0.84997933, 0.85012845,\n",
              "        0.85025339, 0.8503535 , 0.85042811, 0.85047658, 0.8504983 ,\n",
              "        0.8504926 , 0.85045883, 0.85039631, 0.85030431, 0.85018207,\n",
              "        0.42655279, 0.43959894, 0.45230054, 0.46466164, 0.47668677,\n",
              "        0.48838085, 0.4997492 , 0.51079747, 0.52153159, 0.53195778,\n",
              "        0.54208242, 0.55191207, 0.56145342, 0.57071322, 0.57969827,\n",
              "        0.58841538, 0.59687131, 0.60507278, 0.61302641, 0.62073871,\n",
              "        0.62821605, 0.63546466, 0.6424906 , 0.64929973, 0.65589775,\n",
              "        0.66229016, 0.66848224, 0.6744791 , 0.68028563, 0.68590654]),\n",
              " 'param_polynomial_features__degree': masked_array(data=[1, 1, 1, 1, 1, 1, 1, 1, 1, 1, 1, 1, 1, 1, 1, 1, 1, 1,\n",
              "                    1, 1, 1, 1, 1, 1, 1, 1, 1, 1, 1, 1, 2, 2, 2, 2, 2, 2,\n",
              "                    2, 2, 2, 2, 2, 2, 2, 2, 2, 2, 2, 2, 2, 2, 2, 2, 2, 2,\n",
              "                    2, 2, 2, 2, 2, 2, 3, 3, 3, 3, 3, 3, 3, 3, 3, 3, 3, 3,\n",
              "                    3, 3, 3, 3, 3, 3, 3, 3, 3, 3, 3, 3, 3, 3, 3, 3, 3, 3],\n",
              "              mask=[False, False, False, False, False, False, False, False,\n",
              "                    False, False, False, False, False, False, False, False,\n",
              "                    False, False, False, False, False, False, False, False,\n",
              "                    False, False, False, False, False, False, False, False,\n",
              "                    False, False, False, False, False, False, False, False,\n",
              "                    False, False, False, False, False, False, False, False,\n",
              "                    False, False, False, False, False, False, False, False,\n",
              "                    False, False, False, False, False, False, False, False,\n",
              "                    False, False, False, False, False, False, False, False,\n",
              "                    False, False, False, False, False, False, False, False,\n",
              "                    False, False, False, False, False, False, False, False,\n",
              "                    False, False],\n",
              "        fill_value='?',\n",
              "             dtype=object),\n",
              " 'param_ridge_regression__alpha': masked_array(data=[4.0, 4.228267015769416, 4.4695604891609,\n",
              "                    4.724623797826311, 4.994242741567055,\n",
              "                    5.279247963228449, 5.58051750774668, 5.898979527232258,\n",
              "                    6.235615140423803, 6.591461455321584,\n",
              "                    6.9676147643129305, 7.365233921633089,\n",
              "                    7.785543913566802, 8.229839632389709,\n",
              "                    8.699489865676323, 9.195941513264877,\n",
              "                    9.720724044870641, 10.275454212080797,\n",
              "                    10.861841029247536, 11.481691038624568,\n",
              "                    12.136913875967887, 12.82952815374728,\n",
              "                    13.561667680093686, 14.335588032641558,\n",
              "                    15.153673507519274, 16.018444464895637,\n",
              "                    16.932565093713098, 17.898851619528912,\n",
              "                    18.920280980751272, 20.000000000000004, 4.0,\n",
              "                    4.228267015769416, 4.4695604891609, 4.724623797826311,\n",
              "                    4.994242741567055, 5.279247963228449, 5.58051750774668,\n",
              "                    5.898979527232258, 6.235615140423803,\n",
              "                    6.591461455321584, 6.9676147643129305,\n",
              "                    7.365233921633089, 7.785543913566802,\n",
              "                    8.229839632389709, 8.699489865676323,\n",
              "                    9.195941513264877, 9.720724044870641,\n",
              "                    10.275454212080797, 10.861841029247536,\n",
              "                    11.481691038624568, 12.136913875967887,\n",
              "                    12.82952815374728, 13.561667680093686,\n",
              "                    14.335588032641558, 15.153673507519274,\n",
              "                    16.018444464895637, 16.932565093713098,\n",
              "                    17.898851619528912, 18.920280980751272,\n",
              "                    20.000000000000004, 4.0, 4.228267015769416,\n",
              "                    4.4695604891609, 4.724623797826311, 4.994242741567055,\n",
              "                    5.279247963228449, 5.58051750774668, 5.898979527232258,\n",
              "                    6.235615140423803, 6.591461455321584,\n",
              "                    6.9676147643129305, 7.365233921633089,\n",
              "                    7.785543913566802, 8.229839632389709,\n",
              "                    8.699489865676323, 9.195941513264877,\n",
              "                    9.720724044870641, 10.275454212080797,\n",
              "                    10.861841029247536, 11.481691038624568,\n",
              "                    12.136913875967887, 12.82952815374728,\n",
              "                    13.561667680093686, 14.335588032641558,\n",
              "                    15.153673507519274, 16.018444464895637,\n",
              "                    16.932565093713098, 17.898851619528912,\n",
              "                    18.920280980751272, 20.000000000000004],\n",
              "              mask=[False, False, False, False, False, False, False, False,\n",
              "                    False, False, False, False, False, False, False, False,\n",
              "                    False, False, False, False, False, False, False, False,\n",
              "                    False, False, False, False, False, False, False, False,\n",
              "                    False, False, False, False, False, False, False, False,\n",
              "                    False, False, False, False, False, False, False, False,\n",
              "                    False, False, False, False, False, False, False, False,\n",
              "                    False, False, False, False, False, False, False, False,\n",
              "                    False, False, False, False, False, False, False, False,\n",
              "                    False, False, False, False, False, False, False, False,\n",
              "                    False, False, False, False, False, False, False, False,\n",
              "                    False, False],\n",
              "        fill_value='?',\n",
              "             dtype=object),\n",
              " 'params': [{'polynomial_features__degree': 1, 'ridge_regression__alpha': 4.0},\n",
              "  {'polynomial_features__degree': 1,\n",
              "   'ridge_regression__alpha': 4.228267015769416},\n",
              "  {'polynomial_features__degree': 1,\n",
              "   'ridge_regression__alpha': 4.4695604891609},\n",
              "  {'polynomial_features__degree': 1,\n",
              "   'ridge_regression__alpha': 4.724623797826311},\n",
              "  {'polynomial_features__degree': 1,\n",
              "   'ridge_regression__alpha': 4.994242741567055},\n",
              "  {'polynomial_features__degree': 1,\n",
              "   'ridge_regression__alpha': 5.279247963228449},\n",
              "  {'polynomial_features__degree': 1,\n",
              "   'ridge_regression__alpha': 5.58051750774668},\n",
              "  {'polynomial_features__degree': 1,\n",
              "   'ridge_regression__alpha': 5.898979527232258},\n",
              "  {'polynomial_features__degree': 1,\n",
              "   'ridge_regression__alpha': 6.235615140423803},\n",
              "  {'polynomial_features__degree': 1,\n",
              "   'ridge_regression__alpha': 6.591461455321584},\n",
              "  {'polynomial_features__degree': 1,\n",
              "   'ridge_regression__alpha': 6.9676147643129305},\n",
              "  {'polynomial_features__degree': 1,\n",
              "   'ridge_regression__alpha': 7.365233921633089},\n",
              "  {'polynomial_features__degree': 1,\n",
              "   'ridge_regression__alpha': 7.785543913566802},\n",
              "  {'polynomial_features__degree': 1,\n",
              "   'ridge_regression__alpha': 8.229839632389709},\n",
              "  {'polynomial_features__degree': 1,\n",
              "   'ridge_regression__alpha': 8.699489865676323},\n",
              "  {'polynomial_features__degree': 1,\n",
              "   'ridge_regression__alpha': 9.195941513264877},\n",
              "  {'polynomial_features__degree': 1,\n",
              "   'ridge_regression__alpha': 9.720724044870641},\n",
              "  {'polynomial_features__degree': 1,\n",
              "   'ridge_regression__alpha': 10.275454212080797},\n",
              "  {'polynomial_features__degree': 1,\n",
              "   'ridge_regression__alpha': 10.861841029247536},\n",
              "  {'polynomial_features__degree': 1,\n",
              "   'ridge_regression__alpha': 11.481691038624568},\n",
              "  {'polynomial_features__degree': 1,\n",
              "   'ridge_regression__alpha': 12.136913875967887},\n",
              "  {'polynomial_features__degree': 1,\n",
              "   'ridge_regression__alpha': 12.82952815374728},\n",
              "  {'polynomial_features__degree': 1,\n",
              "   'ridge_regression__alpha': 13.561667680093686},\n",
              "  {'polynomial_features__degree': 1,\n",
              "   'ridge_regression__alpha': 14.335588032641558},\n",
              "  {'polynomial_features__degree': 1,\n",
              "   'ridge_regression__alpha': 15.153673507519274},\n",
              "  {'polynomial_features__degree': 1,\n",
              "   'ridge_regression__alpha': 16.018444464895637},\n",
              "  {'polynomial_features__degree': 1,\n",
              "   'ridge_regression__alpha': 16.932565093713098},\n",
              "  {'polynomial_features__degree': 1,\n",
              "   'ridge_regression__alpha': 17.898851619528912},\n",
              "  {'polynomial_features__degree': 1,\n",
              "   'ridge_regression__alpha': 18.920280980751272},\n",
              "  {'polynomial_features__degree': 1,\n",
              "   'ridge_regression__alpha': 20.000000000000004},\n",
              "  {'polynomial_features__degree': 2, 'ridge_regression__alpha': 4.0},\n",
              "  {'polynomial_features__degree': 2,\n",
              "   'ridge_regression__alpha': 4.228267015769416},\n",
              "  {'polynomial_features__degree': 2,\n",
              "   'ridge_regression__alpha': 4.4695604891609},\n",
              "  {'polynomial_features__degree': 2,\n",
              "   'ridge_regression__alpha': 4.724623797826311},\n",
              "  {'polynomial_features__degree': 2,\n",
              "   'ridge_regression__alpha': 4.994242741567055},\n",
              "  {'polynomial_features__degree': 2,\n",
              "   'ridge_regression__alpha': 5.279247963228449},\n",
              "  {'polynomial_features__degree': 2,\n",
              "   'ridge_regression__alpha': 5.58051750774668},\n",
              "  {'polynomial_features__degree': 2,\n",
              "   'ridge_regression__alpha': 5.898979527232258},\n",
              "  {'polynomial_features__degree': 2,\n",
              "   'ridge_regression__alpha': 6.235615140423803},\n",
              "  {'polynomial_features__degree': 2,\n",
              "   'ridge_regression__alpha': 6.591461455321584},\n",
              "  {'polynomial_features__degree': 2,\n",
              "   'ridge_regression__alpha': 6.9676147643129305},\n",
              "  {'polynomial_features__degree': 2,\n",
              "   'ridge_regression__alpha': 7.365233921633089},\n",
              "  {'polynomial_features__degree': 2,\n",
              "   'ridge_regression__alpha': 7.785543913566802},\n",
              "  {'polynomial_features__degree': 2,\n",
              "   'ridge_regression__alpha': 8.229839632389709},\n",
              "  {'polynomial_features__degree': 2,\n",
              "   'ridge_regression__alpha': 8.699489865676323},\n",
              "  {'polynomial_features__degree': 2,\n",
              "   'ridge_regression__alpha': 9.195941513264877},\n",
              "  {'polynomial_features__degree': 2,\n",
              "   'ridge_regression__alpha': 9.720724044870641},\n",
              "  {'polynomial_features__degree': 2,\n",
              "   'ridge_regression__alpha': 10.275454212080797},\n",
              "  {'polynomial_features__degree': 2,\n",
              "   'ridge_regression__alpha': 10.861841029247536},\n",
              "  {'polynomial_features__degree': 2,\n",
              "   'ridge_regression__alpha': 11.481691038624568},\n",
              "  {'polynomial_features__degree': 2,\n",
              "   'ridge_regression__alpha': 12.136913875967887},\n",
              "  {'polynomial_features__degree': 2,\n",
              "   'ridge_regression__alpha': 12.82952815374728},\n",
              "  {'polynomial_features__degree': 2,\n",
              "   'ridge_regression__alpha': 13.561667680093686},\n",
              "  {'polynomial_features__degree': 2,\n",
              "   'ridge_regression__alpha': 14.335588032641558},\n",
              "  {'polynomial_features__degree': 2,\n",
              "   'ridge_regression__alpha': 15.153673507519274},\n",
              "  {'polynomial_features__degree': 2,\n",
              "   'ridge_regression__alpha': 16.018444464895637},\n",
              "  {'polynomial_features__degree': 2,\n",
              "   'ridge_regression__alpha': 16.932565093713098},\n",
              "  {'polynomial_features__degree': 2,\n",
              "   'ridge_regression__alpha': 17.898851619528912},\n",
              "  {'polynomial_features__degree': 2,\n",
              "   'ridge_regression__alpha': 18.920280980751272},\n",
              "  {'polynomial_features__degree': 2,\n",
              "   'ridge_regression__alpha': 20.000000000000004},\n",
              "  {'polynomial_features__degree': 3, 'ridge_regression__alpha': 4.0},\n",
              "  {'polynomial_features__degree': 3,\n",
              "   'ridge_regression__alpha': 4.228267015769416},\n",
              "  {'polynomial_features__degree': 3,\n",
              "   'ridge_regression__alpha': 4.4695604891609},\n",
              "  {'polynomial_features__degree': 3,\n",
              "   'ridge_regression__alpha': 4.724623797826311},\n",
              "  {'polynomial_features__degree': 3,\n",
              "   'ridge_regression__alpha': 4.994242741567055},\n",
              "  {'polynomial_features__degree': 3,\n",
              "   'ridge_regression__alpha': 5.279247963228449},\n",
              "  {'polynomial_features__degree': 3,\n",
              "   'ridge_regression__alpha': 5.58051750774668},\n",
              "  {'polynomial_features__degree': 3,\n",
              "   'ridge_regression__alpha': 5.898979527232258},\n",
              "  {'polynomial_features__degree': 3,\n",
              "   'ridge_regression__alpha': 6.235615140423803},\n",
              "  {'polynomial_features__degree': 3,\n",
              "   'ridge_regression__alpha': 6.591461455321584},\n",
              "  {'polynomial_features__degree': 3,\n",
              "   'ridge_regression__alpha': 6.9676147643129305},\n",
              "  {'polynomial_features__degree': 3,\n",
              "   'ridge_regression__alpha': 7.365233921633089},\n",
              "  {'polynomial_features__degree': 3,\n",
              "   'ridge_regression__alpha': 7.785543913566802},\n",
              "  {'polynomial_features__degree': 3,\n",
              "   'ridge_regression__alpha': 8.229839632389709},\n",
              "  {'polynomial_features__degree': 3,\n",
              "   'ridge_regression__alpha': 8.699489865676323},\n",
              "  {'polynomial_features__degree': 3,\n",
              "   'ridge_regression__alpha': 9.195941513264877},\n",
              "  {'polynomial_features__degree': 3,\n",
              "   'ridge_regression__alpha': 9.720724044870641},\n",
              "  {'polynomial_features__degree': 3,\n",
              "   'ridge_regression__alpha': 10.275454212080797},\n",
              "  {'polynomial_features__degree': 3,\n",
              "   'ridge_regression__alpha': 10.861841029247536},\n",
              "  {'polynomial_features__degree': 3,\n",
              "   'ridge_regression__alpha': 11.481691038624568},\n",
              "  {'polynomial_features__degree': 3,\n",
              "   'ridge_regression__alpha': 12.136913875967887},\n",
              "  {'polynomial_features__degree': 3,\n",
              "   'ridge_regression__alpha': 12.82952815374728},\n",
              "  {'polynomial_features__degree': 3,\n",
              "   'ridge_regression__alpha': 13.561667680093686},\n",
              "  {'polynomial_features__degree': 3,\n",
              "   'ridge_regression__alpha': 14.335588032641558},\n",
              "  {'polynomial_features__degree': 3,\n",
              "   'ridge_regression__alpha': 15.153673507519274},\n",
              "  {'polynomial_features__degree': 3,\n",
              "   'ridge_regression__alpha': 16.018444464895637},\n",
              "  {'polynomial_features__degree': 3,\n",
              "   'ridge_regression__alpha': 16.932565093713098},\n",
              "  {'polynomial_features__degree': 3,\n",
              "   'ridge_regression__alpha': 17.898851619528912},\n",
              "  {'polynomial_features__degree': 3,\n",
              "   'ridge_regression__alpha': 18.920280980751272},\n",
              "  {'polynomial_features__degree': 3,\n",
              "   'ridge_regression__alpha': 20.000000000000004}],\n",
              " 'rank_test_score': array([60, 59, 58, 57, 56, 55, 54, 53, 52, 50, 49, 47, 45, 44, 42, 40, 39,\n",
              "        37, 35, 33, 31, 32, 34, 36, 38, 41, 43, 46, 48, 51, 30, 29, 28, 27,\n",
              "        26, 25, 24, 23, 22, 21, 20, 19, 18, 17, 16, 15, 14, 13, 12, 11,  9,\n",
              "         7,  5,  3,  1,  2,  4,  6,  8, 10, 90, 89, 88, 87, 86, 85, 84, 83,\n",
              "        82, 81, 80, 79, 78, 77, 76, 75, 74, 73, 72, 71, 70, 69, 68, 67, 66,\n",
              "        65, 64, 63, 62, 61], dtype=int32),\n",
              " 'split0_test_score': array([0.67211108, 0.67210314, 0.67209324, 0.67208118, 0.67206672,\n",
              "        0.67204963, 0.67202966, 0.67200655, 0.67198001, 0.67194974,\n",
              "        0.67191544, 0.67187678, 0.67183341, 0.67178499, 0.67173113,\n",
              "        0.67167146, 0.67160557, 0.67153305, 0.67145348, 0.6713664 ,\n",
              "        0.67127137, 0.6711679 , 0.67105552, 0.6709337 , 0.67080194,\n",
              "        0.67065969, 0.67050638, 0.67034142, 0.67016421, 0.66997409,\n",
              "        0.84255141, 0.842198  , 0.84184328, 0.84148681, 0.84112806,\n",
              "        0.8407665 , 0.8404015 , 0.84003242, 0.83965857, 0.83927923,\n",
              "        0.83889363, 0.83850099, 0.83810051, 0.83769135, 0.83727266,\n",
              "        0.83684358, 0.83640324, 0.83595074, 0.83548519, 0.83500569,\n",
              "        0.83451133, 0.83400119, 0.83347436, 0.83292992, 0.83236695,\n",
              "        0.83178453, 0.83118176, 0.8305577 , 0.82991147, 0.82924215,\n",
              "        0.46032273, 0.46657733, 0.47271332, 0.47874141, 0.48467138,\n",
              "        0.49051215, 0.49627176, 0.50195736, 0.50757525, 0.51313086,\n",
              "        0.51862881, 0.52407294, 0.52946628, 0.53481114, 0.54010914,\n",
              "        0.54536121, 0.55056769, 0.55572834, 0.5608424 , 0.56590865,\n",
              "        0.57092545, 0.57589079, 0.58080236, 0.58565758, 0.59045368,\n",
              "        0.5951877 , 0.59985659, 0.60445722, 0.60898644, 0.61344108]),\n",
              " 'split1_test_score': array([0.74823479, 0.74820653, 0.74817547, 0.74814136, 0.74810392,\n",
              "        0.74806286, 0.74801786, 0.74796859, 0.7479147 , 0.74785579,\n",
              "        0.74779145, 0.74772124, 0.74764471, 0.74756134, 0.74747062,\n",
              "        0.74737198, 0.74726483, 0.74714854, 0.74702245, 0.74688586,\n",
              "        0.74673803, 0.74657817, 0.74640546, 0.74621904, 0.74601799,\n",
              "        0.74580135, 0.74556811, 0.74531721, 0.74504752, 0.74475787,\n",
              "        0.86557853, 0.86603127, 0.86645483, 0.86684876, 0.86721267,\n",
              "        0.86754631, 0.86784949, 0.86812211, 0.86836416, 0.8685757 ,\n",
              "        0.86875685, 0.86890779, 0.86902875, 0.86912   , 0.86918184,\n",
              "        0.86921458, 0.86921854, 0.86919404, 0.86914139, 0.86906086,\n",
              "        0.8689527 , 0.86881708, 0.86865414, 0.86846395, 0.86824647,\n",
              "        0.8680016 , 0.86772912, 0.86742872, 0.86709996, 0.8667423 ,\n",
              "        0.62240449, 0.63405949, 0.64527978, 0.65607193, 0.66644299,\n",
              "        0.67640045, 0.68595224, 0.69510667, 0.70387245, 0.71225862,\n",
              "        0.72027452, 0.72792977, 0.73523423, 0.74219795, 0.74883117,\n",
              "        0.75514421, 0.76114752, 0.76685157, 0.77226688, 0.77740393,\n",
              "        0.78227315, 0.78688487, 0.79124935, 0.79537665, 0.79927671,\n",
              "        0.80295923, 0.80643374, 0.80970949, 0.81279549, 0.81570048]),\n",
              " 'split2_test_score': array([0.70180089, 0.70198642, 0.70217792, 0.70237536, 0.70257867,\n",
              "        0.70278778, 0.70300256, 0.70322288, 0.70344855, 0.70367937,\n",
              "        0.70391508, 0.70415539, 0.70439999, 0.70464849, 0.70490048,\n",
              "        0.70515549, 0.70541302, 0.7056725 , 0.7059333 , 0.70619477,\n",
              "        0.70645615, 0.70671666, 0.70697543, 0.70723154, 0.707484  ,\n",
              "        0.70773173, 0.70797357, 0.70820831, 0.70843462, 0.7086511 ,\n",
              "        0.82439713, 0.82556196, 0.82674219, 0.82793488, 0.82913699,\n",
              "        0.83034544, 0.83155716, 0.83276905, 0.83397809, 0.83518129,\n",
              "        0.83637577, 0.83755872, 0.8387275 , 0.83987956, 0.84101252,\n",
              "        0.84212417, 0.84321244, 0.84427542, 0.8453114 , 0.84631879,\n",
              "        0.84729616, 0.84824222, 0.84915581, 0.85003589, 0.85088147,\n",
              "        0.85169166, 0.85246561, 0.85320251, 0.85390151, 0.85456176,\n",
              "        0.19693116, 0.21816001, 0.23890851, 0.25917159, 0.27894594,\n",
              "        0.29822995, 0.3170236 , 0.33532837, 0.35314709, 0.37048386,\n",
              "        0.38734392, 0.4037335 , 0.41965974, 0.43513055, 0.45015451,\n",
              "        0.46474072, 0.47889874, 0.49263844, 0.50596996, 0.51890355,\n",
              "        0.53144957, 0.54361833, 0.55542009, 0.56686496, 0.57796288,\n",
              "        0.58872354, 0.59915638, 0.60927057, 0.61907495, 0.62857805]),\n",
              " 'std_fit_time': array([2.49237731e-03, 5.59592779e-05, 4.02477130e-04, 7.18285431e-04,\n",
              "        8.37168025e-05, 6.12299709e-04, 5.53288805e-04, 5.02944405e-04,\n",
              "        2.55503032e-04, 3.28760308e-05, 5.04644236e-04, 9.96614377e-05,\n",
              "        5.17280938e-04, 5.62657654e-04, 4.22809312e-04, 4.36734306e-04,\n",
              "        7.07056692e-04, 2.85595073e-04, 1.01330179e-03, 1.36327485e-04,\n",
              "        1.75431725e-05, 9.25221633e-04, 5.12306144e-04, 6.02780554e-05,\n",
              "        3.74598812e-04, 1.49740703e-04, 3.28458108e-04, 6.66325783e-05,\n",
              "        6.56874796e-05, 3.16497608e-06, 5.45172200e-03, 1.77841537e-03,\n",
              "        7.89886002e-04, 4.04699899e-04, 2.92030049e-05, 6.12756879e-05,\n",
              "        5.76276804e-04, 3.53786282e-03, 1.00160273e-04, 5.15278403e-04,\n",
              "        7.16632375e-04, 4.67657773e-03, 8.24760623e-04, 2.04191083e-03,\n",
              "        9.43632371e-05, 2.68987148e-03, 2.81954706e-03, 2.45711760e-03,\n",
              "        2.51410806e-04, 1.77033711e-04, 1.72601476e-04, 3.17277974e-03,\n",
              "        8.81623901e-04, 4.15725006e-03, 1.54451634e-03, 3.30610516e-04,\n",
              "        1.21566193e-03, 5.24117133e-03, 3.36445041e-03, 4.06033117e-04,\n",
              "        6.98217311e-03, 9.64341586e-04, 2.66395041e-04, 4.95782134e-04,\n",
              "        1.90820933e-03, 7.88220575e-03, 4.23080435e-03, 3.04871352e-03,\n",
              "        1.30553172e-03, 9.27896896e-04, 2.97199378e-03, 1.11492762e-03,\n",
              "        2.70825188e-03, 1.01461602e-02, 6.11784985e-04, 2.70238567e-03,\n",
              "        1.14516439e-03, 2.50649031e-03, 9.12537532e-04, 6.99133812e-03,\n",
              "        1.00674921e-03, 9.94702418e-03, 6.51108990e-04, 7.31583000e-03,\n",
              "        8.82824185e-03, 3.33257059e-04, 1.70177010e-03, 6.39847488e-03,\n",
              "        8.18689856e-04, 2.58481071e-03]),\n",
              " 'std_score_time': array([3.82681419e-05, 7.07478985e-05, 3.37814271e-04, 4.64253483e-05,\n",
              "        3.36958384e-04, 2.76274249e-04, 2.61857947e-05, 1.57033504e-04,\n",
              "        5.35210621e-05, 1.61532453e-04, 3.53237560e-04, 2.46399190e-05,\n",
              "        2.97850453e-05, 2.03093542e-04, 3.11277489e-04, 2.82652440e-04,\n",
              "        1.22025135e-04, 4.83129679e-04, 7.46269195e-05, 5.70454615e-05,\n",
              "        3.03559277e-05, 1.68194728e-04, 3.88021287e-04, 2.82129771e-05,\n",
              "        1.27716471e-04, 1.33632615e-05, 1.59821482e-05, 4.21609326e-05,\n",
              "        4.86410260e-06, 9.38923994e-06, 9.50044845e-04, 1.73985582e-03,\n",
              "        2.47073652e-03, 5.50249558e-05, 8.56539001e-06, 3.71540506e-05,\n",
              "        1.49254897e-04, 5.17551926e-04, 2.79349080e-05, 5.56778710e-05,\n",
              "        1.75697185e-04, 1.91675420e-03, 1.52313389e-03, 4.69970267e-05,\n",
              "        4.26993409e-05, 1.99333554e-04, 4.65011139e-04, 1.14566019e-04,\n",
              "        8.01493148e-05, 4.59351754e-05, 3.65786163e-04, 9.29523183e-04,\n",
              "        7.95516410e-04, 1.40919139e-03, 5.89356496e-05, 4.33241540e-05,\n",
              "        1.29708119e-03, 1.05301150e-03, 3.23838163e-04, 4.34535170e-04,\n",
              "        7.60577672e-04, 8.84997055e-04, 3.51022346e-04, 2.27137706e-03,\n",
              "        1.25194850e-03, 1.44278210e-03, 2.30684240e-03, 8.52371848e-04,\n",
              "        1.21130372e-03, 2.77901286e-03, 8.81677644e-04, 3.95962484e-04,\n",
              "        4.58365780e-04, 1.84078848e-03, 2.59033713e-04, 2.18666349e-03,\n",
              "        2.05988467e-03, 7.10269297e-04, 8.39861571e-04, 2.80283508e-03,\n",
              "        2.86236926e-05, 2.21606705e-03, 3.24222990e-04, 2.18603857e-03,\n",
              "        1.25592828e-03, 9.14818692e-04, 7.28839639e-04, 2.21977158e-04,\n",
              "        2.86252823e-03, 8.73773875e-04]),\n",
              " 'std_test_score': array([0.03132697, 0.03130679, 0.03128608, 0.03126485, 0.0312431 ,\n",
              "        0.03122086, 0.03119812, 0.0311749 , 0.03115122, 0.03112707,\n",
              "        0.03110249, 0.03107746, 0.031052  , 0.03102612, 0.03099981,\n",
              "        0.03097307, 0.0309459 , 0.03091829, 0.03089021, 0.03086164,\n",
              "        0.03083255, 0.03080289, 0.03077261, 0.03074165, 0.03070993,\n",
              "        0.03067736, 0.03064384, 0.03060926, 0.03057348, 0.03053636,\n",
              "        0.01685142, 0.01660839, 0.01636685, 0.01612856, 0.01589532,\n",
              "        0.01566901, 0.01545153, 0.01524477, 0.01505058, 0.01487079,\n",
              "        0.01470709, 0.01456108, 0.0144342 , 0.01432772, 0.01424271,\n",
              "        0.01418002, 0.01414027, 0.01412388, 0.01413098, 0.01416154,\n",
              "        0.01421527, 0.01429171, 0.01439024, 0.01451005, 0.01465026,\n",
              "        0.01480984, 0.01498772, 0.01518275, 0.01539374, 0.01561947,\n",
              "        0.17533244, 0.17085856, 0.1665271 , 0.16233946, 0.15829573,\n",
              "        0.15439482, 0.15063455, 0.14701183, 0.14352271, 0.14016261,\n",
              "        0.13692638, 0.13380849, 0.13080315, 0.12790443, 0.12510638,\n",
              "        0.12240314, 0.11978902, 0.11725859, 0.11480677, 0.11242883,\n",
              "        0.11012047, 0.10787782, 0.10569749, 0.10357651, 0.10151239,\n",
              "        0.09950306, 0.09754686, 0.09564252, 0.0937891 , 0.09198599])}"
            ]
          },
          "metadata": {
            "tags": []
          },
          "execution_count": 53
        }
      ]
    },
    {
      "cell_type": "markdown",
      "metadata": {
        "id": "apMrRm-ZbIlQ"
      },
      "source": [
        "## Summary\n",
        "\n",
        "1. We can manually generate folds by using `KFolds`\n",
        "2. We can get a score using `cross_val_predict(X, y, cv=KFoldObject_or_integer)`. \n",
        "   This will produce the out-of-bag prediction for each row.\n",
        "3. When doing hyperparameter selection, we should be optimizing on out-of-bag scores. This means either using `cross_val_predict` in a loop, or ....\n",
        "4. .... use `GridSearchCV`. GridSearchCV takes a model (or pipeline) and a dictionary of parameters to scan over. It finds the hyperparameter set that has the best out-of-sample score on all the parameters, and calls that it's \"best estimator\". It then retrains on all data with the \"best\" hyper-parameters.\n",
        "\n",
        "### Extensions\n",
        "\n",
        "Here are some additional items to keep in mind:\n",
        "* There is a `RandomSearchCV` that tries random combination of model parameters. This can be helpful if you have a prohibitive number of combinations to test them all exhaustively.\n",
        "* KFolds will randomly select rows to be in the training and test folds. There are other methods (such as `StratifiedKFolds` and `GroupKFold`, which are useful when you need more control over how the data is split (e.g. to prevent data leakage). You can create these specialized objects and pass them to the `cv` argument of `GridSearchCV`."
      ]
    },
    {
      "cell_type": "code",
      "metadata": {
        "id": "1dvN8Sp6kB-q"
      },
      "source": [
        ""
      ],
      "execution_count": null,
      "outputs": []
    }
  ]
}