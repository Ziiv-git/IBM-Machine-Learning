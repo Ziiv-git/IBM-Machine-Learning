{
  "nbformat": 4,
  "nbformat_minor": 0,
  "metadata": {
    "kernelspec": {
      "display_name": "Python 3",
      "language": "python",
      "name": "python3"
    },
    "language_info": {
      "codemirror_mode": {
        "name": "ipython",
        "version": 3
      },
      "file_extension": ".py",
      "mimetype": "text/x-python",
      "name": "python",
      "nbconvert_exporter": "python",
      "pygments_lexer": "ipython3",
      "version": "3.7.4"
    },
    "colab": {
      "name": "RNN.ipynb",
      "provenance": []
    }
  },
  "cells": [
    {
      "cell_type": "markdown",
      "metadata": {
        "run_control": {
          "marked": true
        },
        "id": "2EePSPoj7oOA"
      },
      "source": [
        "# Machine Learning Foundation\n",
        "\n",
        "## Course 5, Part g: RNN DEMO"
      ]
    },
    {
      "cell_type": "markdown",
      "metadata": {
        "id": "9O0AtwsO7oOF"
      },
      "source": [
        "## Using RNNs to classify sentiment on IMDB data\n",
        "For this exercise, we will train a \"vanilla\" RNN to predict the sentiment on IMDB reviews.  Our data consists of 25000 training sequences and 25000 test sequences.  The outcome is binary (positive/negative) and both outcomes are equally represented in both the training and the test set.\n",
        "\n",
        "Keras provides a convenient interface to load the data and immediately encode the words into integers (based on the most common words).  This will save us a lot of the drudgery that is usually involved when working with raw text.\n",
        "\n",
        "We will walk through the preparation of the data and the building of an RNN model.  Then it will be your turn to build your own models (and prepare the data how you see fit)."
      ]
    },
    {
      "cell_type": "code",
      "metadata": {
        "id": "n6AwHTlD7oOG"
      },
      "source": [
        "#from tensorflow import keras\n",
        "#from tensorflow.keras.preprocessing import sequence\n",
        "#from tensorflow.keras.models import Sequential\n",
        "#from tensorflow.keras.layers import Dense, Embedding\n",
        "#from tensorflow.keras.layers import SimpleRNN\n",
        "#from tensorflow.keras.datasets import imdb\n",
        "#from tensorflow.keras import initializers\n",
        "import keras\n",
        "from keras.preprocessing import sequence\n",
        "from keras.models import Sequential\n",
        "from keras.layers import Dense, Embedding\n",
        "from keras.layers import SimpleRNN\n",
        "from keras.datasets import imdb\n",
        "from keras import initializers"
      ],
      "execution_count": 1,
      "outputs": []
    },
    {
      "cell_type": "code",
      "metadata": {
        "id": "_xFPwgsa7oOH"
      },
      "source": [
        "max_features = 20000  # This is used in loading the data, picks the most common (max_features) words\n",
        "maxlen = 30  # maximum length of a sequence - truncate after this\n",
        "batch_size = 32"
      ],
      "execution_count": 2,
      "outputs": []
    },
    {
      "cell_type": "code",
      "metadata": {
        "colab": {
          "base_uri": "https://localhost:8080/"
        },
        "id": "zGkRIEjj7oOI",
        "outputId": "4f4d936d-323b-4d5e-fe70-e0517d8414d9"
      },
      "source": [
        "## Load in the data.  The function automatically tokenizes the text into distinct integers\n",
        "(x_train, y_train), (x_test, y_test) = imdb.load_data(num_words=max_features)\n",
        "print(len(x_train), 'train sequences')\n",
        "print(len(x_test), 'test sequences')"
      ],
      "execution_count": 3,
      "outputs": [
        {
          "output_type": "stream",
          "text": [
            "Downloading data from https://storage.googleapis.com/tensorflow/tf-keras-datasets/imdb.npz\n",
            "17465344/17464789 [==============================] - 0s 0us/step\n"
          ],
          "name": "stdout"
        },
        {
          "output_type": "stream",
          "text": [
            "<string>:6: VisibleDeprecationWarning: Creating an ndarray from ragged nested sequences (which is a list-or-tuple of lists-or-tuples-or ndarrays with different lengths or shapes) is deprecated. If you meant to do this, you must specify 'dtype=object' when creating the ndarray\n",
            "/usr/local/lib/python3.7/dist-packages/tensorflow/python/keras/datasets/imdb.py:159: VisibleDeprecationWarning: Creating an ndarray from ragged nested sequences (which is a list-or-tuple of lists-or-tuples-or ndarrays with different lengths or shapes) is deprecated. If you meant to do this, you must specify 'dtype=object' when creating the ndarray\n",
            "  x_train, y_train = np.array(xs[:idx]), np.array(labels[:idx])\n"
          ],
          "name": "stderr"
        },
        {
          "output_type": "stream",
          "text": [
            "25000 train sequences\n",
            "25000 test sequences\n"
          ],
          "name": "stdout"
        },
        {
          "output_type": "stream",
          "text": [
            "/usr/local/lib/python3.7/dist-packages/tensorflow/python/keras/datasets/imdb.py:160: VisibleDeprecationWarning: Creating an ndarray from ragged nested sequences (which is a list-or-tuple of lists-or-tuples-or ndarrays with different lengths or shapes) is deprecated. If you meant to do this, you must specify 'dtype=object' when creating the ndarray\n",
            "  x_test, y_test = np.array(xs[idx:]), np.array(labels[idx:])\n"
          ],
          "name": "stderr"
        }
      ]
    },
    {
      "cell_type": "code",
      "metadata": {
        "colab": {
          "base_uri": "https://localhost:8080/"
        },
        "id": "Q9xx9IPu7oOI",
        "outputId": "6580646b-41a1-4899-b56b-1230acc297dd"
      },
      "source": [
        "# This pads (or truncates) the sequences so that they are of the maximum length\n",
        "x_train = sequence.pad_sequences(x_train, maxlen=maxlen)\n",
        "x_test = sequence.pad_sequences(x_test, maxlen=maxlen)\n",
        "print('x_train shape:', x_train.shape)\n",
        "print('x_test shape:', x_test.shape)"
      ],
      "execution_count": 4,
      "outputs": [
        {
          "output_type": "stream",
          "text": [
            "x_train shape: (25000, 30)\n",
            "x_test shape: (25000, 30)\n"
          ],
          "name": "stdout"
        }
      ]
    },
    {
      "cell_type": "code",
      "metadata": {
        "colab": {
          "base_uri": "https://localhost:8080/"
        },
        "id": "3hRpJiVZ7oOI",
        "outputId": "6fd2a865-dbdd-46b9-9062-7d9ce52ec5fd"
      },
      "source": [
        "x_train[123,:]  #Here's what an example sequence looks like"
      ],
      "execution_count": 5,
      "outputs": [
        {
          "output_type": "execute_result",
          "data": {
            "text/plain": [
              "array([  219,   141,    35,   221,   956,    54,    13,    16,    11,\n",
              "        2714,    61,   322,   423,    12,    38,    76,    59,  1803,\n",
              "          72,     8, 10508,    23,     5,   967,    12,    38,    85,\n",
              "          62,   358,    99], dtype=int32)"
            ]
          },
          "metadata": {
            "tags": []
          },
          "execution_count": 5
        }
      ]
    },
    {
      "cell_type": "markdown",
      "metadata": {
        "id": "8uGsJcjC7oOJ"
      },
      "source": [
        "## Keras layers for (Vanilla) RNNs\n",
        "\n",
        "In this exercise, we will not use pre-trained word vectors.  Rather we will learn an embedding as part of the Neural Network.  This is represented by the Embedding Layer below.\n",
        "\n",
        "### Embedding Layer\n",
        "`keras.layers.embeddings.Embedding(input_dim, output_dim, embeddings_initializer='uniform', embeddings_regularizer=None, activity_regularizer=None, embeddings_constraint=None, mask_zero=False, input_length=None)`\n",
        "\n",
        "- This layer maps each integer into a distinct (dense) word vector of length `output_dim`.\n",
        "- Can think of this as learning a word vector embedding \"on the fly\" rather than using an existing mapping (like GloVe)\n",
        "- The `input_dim` should be the size of the vocabulary.\n",
        "- The `input_length` specifies the length of the sequences that the network expects.\n",
        "\n",
        "### SimpleRNN Layer\n",
        "`keras.layers.recurrent.SimpleRNN(units, activation='tanh', use_bias=True, kernel_initializer='glorot_uniform', recurrent_initializer='orthogonal', bias_initializer='zeros', kernel_regularizer=None, recurrent_regularizer=None, bias_regularizer=None, activity_regularizer=None, kernel_constraint=None, recurrent_constraint=None, bias_constraint=None, dropout=0.0, recurrent_dropout=0.0)`\n",
        "\n",
        "- This is the basic RNN, where the output is also fed back as the \"hidden state\" to the next iteration.\n",
        "- The parameter `units` gives the dimensionality of the output (and therefore the hidden state).  Note that typically there will be another layer after the RNN mapping the (RNN) output to the network output.  So we should think of this value as the desired dimensionality of the hidden state and not necessarily the desired output of the network.\n",
        "- Recall that there are two sets of weights, one for the \"recurrent\" phase and the other for the \"kernel\" phase.  These can be configured separately in terms of their initialization, regularization, etc.\n",
        "\n",
        "\n",
        "\n",
        "\n"
      ]
    },
    {
      "cell_type": "code",
      "metadata": {
        "id": "dmGBPzxg7oOJ"
      },
      "source": [
        "## Let's build a RNN\n",
        "\n",
        "rnn_hidden_dim = 5\n",
        "word_embedding_dim = 50\n",
        "model_rnn = Sequential()\n",
        "model_rnn.add(Embedding(max_features, word_embedding_dim))  #This layer takes each integer in the sequence and embeds it in a 50-dimensional vector\n",
        "model_rnn.add(SimpleRNN(rnn_hidden_dim,\n",
        "                    kernel_initializer=initializers.RandomNormal(stddev=0.001),\n",
        "                    recurrent_initializer=initializers.Identity(gain=1.0),\n",
        "                    activation='relu',\n",
        "                    input_shape=x_train.shape[1:]))\n",
        "\n",
        "model_rnn.add(Dense(1, activation='sigmoid'))"
      ],
      "execution_count": 6,
      "outputs": []
    },
    {
      "cell_type": "code",
      "metadata": {
        "colab": {
          "base_uri": "https://localhost:8080/"
        },
        "id": "H_q35XLf7oOK",
        "outputId": "06630c0b-49f5-44a0-d739-fc516aaca33c"
      },
      "source": [
        "## Note that most of the parameters come from the embedding layer\n",
        "model_rnn.summary()"
      ],
      "execution_count": 7,
      "outputs": [
        {
          "output_type": "stream",
          "text": [
            "Model: \"sequential\"\n",
            "_________________________________________________________________\n",
            "Layer (type)                 Output Shape              Param #   \n",
            "=================================================================\n",
            "embedding (Embedding)        (None, None, 50)          1000000   \n",
            "_________________________________________________________________\n",
            "simple_rnn (SimpleRNN)       (None, 5)                 280       \n",
            "_________________________________________________________________\n",
            "dense (Dense)                (None, 1)                 6         \n",
            "=================================================================\n",
            "Total params: 1,000,286\n",
            "Trainable params: 1,000,286\n",
            "Non-trainable params: 0\n",
            "_________________________________________________________________\n"
          ],
          "name": "stdout"
        }
      ]
    },
    {
      "cell_type": "code",
      "metadata": {
        "id": "ZJ_k0S7-7oOK"
      },
      "source": [
        "rmsprop = keras.optimizers.RMSprop(lr = .0001)\n",
        "\n",
        "model_rnn.compile(loss='binary_crossentropy',\n",
        "              optimizer=rmsprop,\n",
        "              metrics=['accuracy'])"
      ],
      "execution_count": 8,
      "outputs": []
    },
    {
      "cell_type": "code",
      "metadata": {
        "colab": {
          "base_uri": "https://localhost:8080/"
        },
        "id": "Wn5VQrXZ7oOL",
        "outputId": "fc1846f8-deed-4926-e701-4c2784176d73"
      },
      "source": [
        "model_rnn.fit(x_train, y_train,\n",
        "          batch_size=batch_size,\n",
        "          epochs=10,\n",
        "          validation_data=(x_test, y_test))"
      ],
      "execution_count": 9,
      "outputs": [
        {
          "output_type": "stream",
          "text": [
            "Epoch 1/10\n",
            "782/782 [==============================] - 9s 11ms/step - loss: 0.6828 - accuracy: 0.5653 - val_loss: 0.6076 - val_accuracy: 0.6845\n",
            "Epoch 2/10\n",
            "782/782 [==============================] - 8s 10ms/step - loss: 0.5731 - accuracy: 0.7109 - val_loss: 0.5430 - val_accuracy: 0.7241\n",
            "Epoch 3/10\n",
            "782/782 [==============================] - 8s 10ms/step - loss: 0.4992 - accuracy: 0.7616 - val_loss: 0.5136 - val_accuracy: 0.7406\n",
            "Epoch 4/10\n",
            "782/782 [==============================] - 8s 10ms/step - loss: 0.4577 - accuracy: 0.7855 - val_loss: 0.4874 - val_accuracy: 0.7597\n",
            "Epoch 5/10\n",
            "782/782 [==============================] - 8s 10ms/step - loss: 0.4276 - accuracy: 0.8083 - val_loss: 0.4716 - val_accuracy: 0.7712\n",
            "Epoch 6/10\n",
            "782/782 [==============================] - 8s 10ms/step - loss: 0.4063 - accuracy: 0.8182 - val_loss: 0.4632 - val_accuracy: 0.7776\n",
            "Epoch 7/10\n",
            "782/782 [==============================] - 8s 10ms/step - loss: 0.3938 - accuracy: 0.8210 - val_loss: 0.4586 - val_accuracy: 0.7816\n",
            "Epoch 8/10\n",
            "782/782 [==============================] - 8s 10ms/step - loss: 0.3831 - accuracy: 0.8289 - val_loss: 0.4536 - val_accuracy: 0.7839\n",
            "Epoch 9/10\n",
            "782/782 [==============================] - 8s 10ms/step - loss: 0.3715 - accuracy: 0.8366 - val_loss: 0.4505 - val_accuracy: 0.7878\n",
            "Epoch 10/10\n",
            "782/782 [==============================] - 8s 10ms/step - loss: 0.3557 - accuracy: 0.8452 - val_loss: 0.4480 - val_accuracy: 0.7894\n"
          ],
          "name": "stdout"
        },
        {
          "output_type": "execute_result",
          "data": {
            "text/plain": [
              "<tensorflow.python.keras.callbacks.History at 0x7f1c0192e390>"
            ]
          },
          "metadata": {
            "tags": []
          },
          "execution_count": 9
        }
      ]
    },
    {
      "cell_type": "code",
      "metadata": {
        "colab": {
          "base_uri": "https://localhost:8080/"
        },
        "id": "m4SuRfCC7oOL",
        "outputId": "4c11596a-0b3e-424e-d418-56040af86468"
      },
      "source": [
        "score, acc = model_rnn.evaluate(x_test, y_test,\n",
        "                            batch_size=batch_size)\n",
        "print('Test score:', score)\n",
        "print('Test accuracy:', acc)"
      ],
      "execution_count": 10,
      "outputs": [
        {
          "output_type": "stream",
          "text": [
            "782/782 [==============================] - 2s 2ms/step - loss: 0.4480 - accuracy: 0.7894\n",
            "Test score: 0.4480192959308624\n",
            "Test accuracy: 0.789359986782074\n"
          ],
          "name": "stdout"
        }
      ]
    },
    {
      "cell_type": "markdown",
      "metadata": {
        "id": "tlYhE1jX7oOM"
      },
      "source": [
        "## Exercise\n",
        "\n",
        "In this exercise, we will illustrate:\n",
        "- Preparing the data to use sequences of length 80 rather than length 30.  Does it improve the performance?\n",
        "- Trying different values of the \"max_features\".  Does this  improve the performance?\n",
        "- Trying smaller and larger sizes of the RNN hidden dimension.  How does it affect the model performance?  How does it affect the run time?"
      ]
    },
    {
      "cell_type": "code",
      "metadata": {
        "colab": {
          "base_uri": "https://localhost:8080/"
        },
        "id": "aycVuvzA7oOM",
        "outputId": "d7373b0a-1be8-4465-9112-3a513d3a6b1e"
      },
      "source": [
        "max_features = 20000  # This is used in loading the data, picks the most common (max_features) words\n",
        "maxlen = 80  # maximum length of a sequence - truncate after this\n",
        "\n",
        "(x_train, y_train), (x_test, y_test) = imdb.load_data(num_words=max_features)\n",
        "\n",
        "x_train = sequence.pad_sequences(x_train, maxlen=maxlen)\n",
        "x_test = sequence.pad_sequences(x_test, maxlen=maxlen)"
      ],
      "execution_count": 11,
      "outputs": [
        {
          "output_type": "stream",
          "text": [
            "<string>:6: VisibleDeprecationWarning: Creating an ndarray from ragged nested sequences (which is a list-or-tuple of lists-or-tuples-or ndarrays with different lengths or shapes) is deprecated. If you meant to do this, you must specify 'dtype=object' when creating the ndarray\n",
            "/usr/local/lib/python3.7/dist-packages/tensorflow/python/keras/datasets/imdb.py:159: VisibleDeprecationWarning: Creating an ndarray from ragged nested sequences (which is a list-or-tuple of lists-or-tuples-or ndarrays with different lengths or shapes) is deprecated. If you meant to do this, you must specify 'dtype=object' when creating the ndarray\n",
            "  x_train, y_train = np.array(xs[:idx]), np.array(labels[:idx])\n",
            "/usr/local/lib/python3.7/dist-packages/tensorflow/python/keras/datasets/imdb.py:160: VisibleDeprecationWarning: Creating an ndarray from ragged nested sequences (which is a list-or-tuple of lists-or-tuples-or ndarrays with different lengths or shapes) is deprecated. If you meant to do this, you must specify 'dtype=object' when creating the ndarray\n",
            "  x_test, y_test = np.array(xs[idx:]), np.array(labels[idx:])\n"
          ],
          "name": "stderr"
        }
      ]
    },
    {
      "cell_type": "code",
      "metadata": {
        "id": "65rZr0QY7oOM"
      },
      "source": [
        "rnn_hidden_dim = 5\n",
        "word_embedding_dim = 50\n",
        "model_rnn = Sequential()\n",
        "model_rnn.add(Embedding(max_features, word_embedding_dim))  #This layer takes each integer in the sequence\n",
        "model_rnn.add(SimpleRNN(rnn_hidden_dim,\n",
        "                    kernel_initializer=initializers.RandomNormal(stddev=0.001),\n",
        "                    recurrent_initializer=initializers.Identity(gain=1.0),\n",
        "                    activation='relu',\n",
        "                    input_shape=x_train.shape[1:]))\n",
        "\n",
        "model_rnn.add(Dense(1, activation='sigmoid'))"
      ],
      "execution_count": 12,
      "outputs": []
    },
    {
      "cell_type": "code",
      "metadata": {
        "id": "pc6D6AN77oON"
      },
      "source": [
        "rmsprop = keras.optimizers.RMSprop(lr = .0001)\n",
        "\n",
        "model_rnn.compile(loss='binary_crossentropy',\n",
        "              optimizer=rmsprop,\n",
        "              metrics=['accuracy'])"
      ],
      "execution_count": 13,
      "outputs": []
    },
    {
      "cell_type": "code",
      "metadata": {
        "colab": {
          "base_uri": "https://localhost:8080/"
        },
        "id": "K5z4Ju917oON",
        "outputId": "88c3140e-9dfe-4b49-db36-7f9505cfbc4a"
      },
      "source": [
        "model_rnn.fit(x_train, y_train,\n",
        "          batch_size=batch_size,\n",
        "          epochs=10,\n",
        "          validation_data=(x_test, y_test))"
      ],
      "execution_count": 14,
      "outputs": [
        {
          "output_type": "stream",
          "text": [
            "Epoch 1/10\n",
            "782/782 [==============================] - 17s 21ms/step - loss: 0.6457 - accuracy: 0.6183 - val_loss: 0.5070 - val_accuracy: 0.7544\n",
            "Epoch 2/10\n",
            "782/782 [==============================] - 15s 19ms/step - loss: 0.4602 - accuracy: 0.7815 - val_loss: 0.4489 - val_accuracy: 0.7874\n",
            "Epoch 3/10\n",
            "782/782 [==============================] - 16s 20ms/step - loss: 0.3862 - accuracy: 0.8296 - val_loss: 0.4167 - val_accuracy: 0.8061\n",
            "Epoch 4/10\n",
            "782/782 [==============================] - 16s 20ms/step - loss: 0.3443 - accuracy: 0.8529 - val_loss: 0.3906 - val_accuracy: 0.8239\n",
            "Epoch 5/10\n",
            "782/782 [==============================] - 16s 20ms/step - loss: 0.3122 - accuracy: 0.8682 - val_loss: 0.3837 - val_accuracy: 0.8290\n",
            "Epoch 6/10\n",
            "782/782 [==============================] - 15s 19ms/step - loss: 0.2903 - accuracy: 0.8790 - val_loss: 0.3813 - val_accuracy: 0.8304\n",
            "Epoch 7/10\n",
            "782/782 [==============================] - 15s 20ms/step - loss: 0.2751 - accuracy: 0.8905 - val_loss: 0.3770 - val_accuracy: 0.8328\n",
            "Epoch 8/10\n",
            "782/782 [==============================] - 15s 19ms/step - loss: 0.2656 - accuracy: 0.8920 - val_loss: 0.3868 - val_accuracy: 0.8318\n",
            "Epoch 9/10\n",
            "782/782 [==============================] - 15s 20ms/step - loss: 0.2543 - accuracy: 0.8997 - val_loss: 0.3757 - val_accuracy: 0.8369\n",
            "Epoch 10/10\n",
            "782/782 [==============================] - 15s 20ms/step - loss: 0.2487 - accuracy: 0.8996 - val_loss: 0.3707 - val_accuracy: 0.8400\n"
          ],
          "name": "stdout"
        },
        {
          "output_type": "execute_result",
          "data": {
            "text/plain": [
              "<tensorflow.python.keras.callbacks.History at 0x7f1bfcbcb410>"
            ]
          },
          "metadata": {
            "tags": []
          },
          "execution_count": 14
        }
      ]
    },
    {
      "cell_type": "code",
      "metadata": {
        "colab": {
          "base_uri": "https://localhost:8080/"
        },
        "id": "Td4qv9KB7oOO",
        "outputId": "fafa27f9-51b9-4f88-ef56-3ba388d5c353"
      },
      "source": [
        "max_features = 5000  # This is used in loading the data, picks the most common (max_features) words\n",
        "maxlen = 80  # maximum length of a sequence - truncate after this\n",
        "\n",
        "(x_train, y_train), (x_test, y_test) = imdb.load_data(num_words=max_features)\n",
        "\n",
        "x_train = sequence.pad_sequences(x_train, maxlen=maxlen)\n",
        "x_test = sequence.pad_sequences(x_test, maxlen=maxlen)"
      ],
      "execution_count": 15,
      "outputs": [
        {
          "output_type": "stream",
          "text": [
            "<string>:6: VisibleDeprecationWarning: Creating an ndarray from ragged nested sequences (which is a list-or-tuple of lists-or-tuples-or ndarrays with different lengths or shapes) is deprecated. If you meant to do this, you must specify 'dtype=object' when creating the ndarray\n",
            "/usr/local/lib/python3.7/dist-packages/tensorflow/python/keras/datasets/imdb.py:159: VisibleDeprecationWarning: Creating an ndarray from ragged nested sequences (which is a list-or-tuple of lists-or-tuples-or ndarrays with different lengths or shapes) is deprecated. If you meant to do this, you must specify 'dtype=object' when creating the ndarray\n",
            "  x_train, y_train = np.array(xs[:idx]), np.array(labels[:idx])\n",
            "/usr/local/lib/python3.7/dist-packages/tensorflow/python/keras/datasets/imdb.py:160: VisibleDeprecationWarning: Creating an ndarray from ragged nested sequences (which is a list-or-tuple of lists-or-tuples-or ndarrays with different lengths or shapes) is deprecated. If you meant to do this, you must specify 'dtype=object' when creating the ndarray\n",
            "  x_test, y_test = np.array(xs[idx:]), np.array(labels[idx:])\n"
          ],
          "name": "stderr"
        }
      ]
    },
    {
      "cell_type": "code",
      "metadata": {
        "id": "evORSn_v7oOO"
      },
      "source": [
        "rnn_hidden_dim = 5\n",
        "word_embedding_dim = 20\n",
        "model_rnn = Sequential()\n",
        "model_rnn.add(Embedding(max_features, word_embedding_dim))  #This layer takes each integer in the sequence\n",
        "model_rnn.add(SimpleRNN(rnn_hidden_dim,\n",
        "                    kernel_initializer=initializers.RandomNormal(stddev=0.001),\n",
        "                    recurrent_initializer=initializers.Identity(gain=1.0),\n",
        "                    activation='relu',\n",
        "                    input_shape=x_train.shape[1:]))\n",
        "\n",
        "model_rnn.add(Dense(1, activation='sigmoid'))"
      ],
      "execution_count": 16,
      "outputs": []
    },
    {
      "cell_type": "code",
      "metadata": {
        "id": "1THKsSk97oOO"
      },
      "source": [
        "rmsprop = keras.optimizers.RMSprop(lr = .0001)\n",
        "\n",
        "model_rnn.compile(loss='binary_crossentropy',\n",
        "              optimizer=rmsprop,\n",
        "              metrics=['accuracy'])"
      ],
      "execution_count": 17,
      "outputs": []
    },
    {
      "cell_type": "code",
      "metadata": {
        "colab": {
          "base_uri": "https://localhost:8080/"
        },
        "id": "dWvdlkuz7oOO",
        "outputId": "047d591c-f017-4f35-d335-b86edf467f57"
      },
      "source": [
        "model_rnn.fit(x_train, y_train,\n",
        "          batch_size=batch_size,\n",
        "          epochs=10,\n",
        "          validation_data=(x_test, y_test))"
      ],
      "execution_count": 18,
      "outputs": [
        {
          "output_type": "stream",
          "text": [
            "Epoch 1/10\n",
            "782/782 [==============================] - 14s 17ms/step - loss: 0.6839 - accuracy: 0.5346 - val_loss: 0.6265 - val_accuracy: 0.6993\n",
            "Epoch 2/10\n",
            "782/782 [==============================] - 13s 16ms/step - loss: 0.6085 - accuracy: 0.7156 - val_loss: 0.5907 - val_accuracy: 0.7396\n",
            "Epoch 3/10\n",
            "782/782 [==============================] - 13s 16ms/step - loss: 0.5705 - accuracy: 0.7733 - val_loss: 0.5720 - val_accuracy: 0.7992\n",
            "Epoch 4/10\n",
            "782/782 [==============================] - 13s 16ms/step - loss: 0.5484 - accuracy: 0.8007 - val_loss: 0.5545 - val_accuracy: 0.7953\n",
            "Epoch 5/10\n",
            "782/782 [==============================] - 13s 16ms/step - loss: 0.5274 - accuracy: 0.8181 - val_loss: 0.5473 - val_accuracy: 0.8074\n",
            "Epoch 6/10\n",
            "782/782 [==============================] - 13s 16ms/step - loss: 0.5098 - accuracy: 0.8278 - val_loss: 0.5359 - val_accuracy: 0.8097\n",
            "Epoch 7/10\n",
            "782/782 [==============================] - 13s 16ms/step - loss: 0.5031 - accuracy: 0.8279 - val_loss: 0.5293 - val_accuracy: 0.8038\n",
            "Epoch 8/10\n",
            "782/782 [==============================] - 13s 16ms/step - loss: 0.4843 - accuracy: 0.8390 - val_loss: 0.5319 - val_accuracy: 0.8040\n",
            "Epoch 9/10\n",
            "782/782 [==============================] - 13s 16ms/step - loss: 0.4817 - accuracy: 0.8347 - val_loss: 0.5170 - val_accuracy: 0.7911\n",
            "Epoch 10/10\n",
            "782/782 [==============================] - 12s 16ms/step - loss: 0.4592 - accuracy: 0.8407 - val_loss: 0.5013 - val_accuracy: 0.8080\n"
          ],
          "name": "stdout"
        },
        {
          "output_type": "execute_result",
          "data": {
            "text/plain": [
              "<tensorflow.python.keras.callbacks.History at 0x7f1bff1a07d0>"
            ]
          },
          "metadata": {
            "tags": []
          },
          "execution_count": 18
        }
      ]
    },
    {
      "cell_type": "code",
      "metadata": {
        "colab": {
          "base_uri": "https://localhost:8080/"
        },
        "id": "_PmvQDrQ7oOP",
        "outputId": "cab0504d-b995-4b47-a04e-c469fb662c2c"
      },
      "source": [
        "# Out of curiosity, run for 10 more epochs\n",
        "model_rnn.fit(x_train, y_train,\n",
        "          batch_size=batch_size,\n",
        "          epochs=10,\n",
        "          validation_data=(x_test, y_test))"
      ],
      "execution_count": 19,
      "outputs": [
        {
          "output_type": "stream",
          "text": [
            "Epoch 1/10\n",
            "782/782 [==============================] - 12s 16ms/step - loss: 0.4557 - accuracy: 0.8437 - val_loss: 0.4937 - val_accuracy: 0.8076\n",
            "Epoch 2/10\n",
            "782/782 [==============================] - 12s 15ms/step - loss: 0.4451 - accuracy: 0.8419 - val_loss: 0.4947 - val_accuracy: 0.7920\n",
            "Epoch 3/10\n",
            "782/782 [==============================] - 12s 16ms/step - loss: 0.4357 - accuracy: 0.8444 - val_loss: 0.4777 - val_accuracy: 0.8076\n",
            "Epoch 4/10\n",
            "782/782 [==============================] - 12s 15ms/step - loss: 0.4265 - accuracy: 0.8467 - val_loss: 0.4773 - val_accuracy: 0.8114\n",
            "Epoch 5/10\n",
            "782/782 [==============================] - 12s 16ms/step - loss: 0.4171 - accuracy: 0.8502 - val_loss: 0.4703 - val_accuracy: 0.8115\n",
            "Epoch 6/10\n",
            "782/782 [==============================] - 12s 16ms/step - loss: 0.4090 - accuracy: 0.8517 - val_loss: 0.4850 - val_accuracy: 0.8090\n",
            "Epoch 7/10\n",
            "782/782 [==============================] - 12s 16ms/step - loss: 0.4018 - accuracy: 0.8531 - val_loss: 0.5080 - val_accuracy: 0.8061\n",
            "Epoch 8/10\n",
            "782/782 [==============================] - 12s 16ms/step - loss: 0.3942 - accuracy: 0.8559 - val_loss: 0.4920 - val_accuracy: 0.8090\n",
            "Epoch 9/10\n",
            "782/782 [==============================] - 12s 16ms/step - loss: 0.3872 - accuracy: 0.8569 - val_loss: 0.4398 - val_accuracy: 0.8194\n",
            "Epoch 10/10\n",
            "782/782 [==============================] - 12s 16ms/step - loss: 0.3813 - accuracy: 0.8576 - val_loss: 0.4396 - val_accuracy: 0.8149\n"
          ],
          "name": "stdout"
        },
        {
          "output_type": "execute_result",
          "data": {
            "text/plain": [
              "<tensorflow.python.keras.callbacks.History at 0x7f1c01b97d50>"
            ]
          },
          "metadata": {
            "tags": []
          },
          "execution_count": 19
        }
      ]
    },
    {
      "cell_type": "code",
      "metadata": {
        "id": "kc94dTg3-R1-"
      },
      "source": [
        ""
      ],
      "execution_count": 19,
      "outputs": []
    }
  ]
}