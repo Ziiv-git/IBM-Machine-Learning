{
  "nbformat": 4,
  "nbformat_minor": 0,
  "metadata": {
    "kernelspec": {
      "display_name": "metis",
      "language": "python",
      "name": "metis"
    },
    "language_info": {
      "codemirror_mode": {
        "name": "ipython",
        "version": 3
      },
      "file_extension": ".py",
      "mimetype": "text/x-python",
      "name": "python",
      "nbconvert_exporter": "python",
      "pygments_lexer": "ipython3",
      "version": "3.7.4"
    },
    "colab": {
      "name": "Reinforcement.ipynb",
      "provenance": []
    }
  },
  "cells": [
    {
      "cell_type": "markdown",
      "metadata": {
        "run_control": {
          "marked": true
        },
        "id": "Nbm9ZBcTWYqW"
      },
      "source": [
        "# Machine Learning Foundation\n",
        "\n",
        "## Course 5, Part i: Reinforcement Learning DEMO"
      ]
    },
    {
      "cell_type": "markdown",
      "metadata": {
        "id": "b3TatN5VWYqb"
      },
      "source": [
        "## Reinforcement Learning Example\n",
        "\n",
        "In this example from Reinforcement Learning, the task is to use tools from Machine Learning to predict how an agent should act. We will then use those predictions to drive the behavior of the agent. Ideally, our intelligent agent should get a much better score than a random agent.\n",
        "\n",
        "## Key concepts:\n",
        "\n",
        "- **Observation**: These are the states of the game. It describes where the agent currently is.\n",
        "- **Action**: These are the moves that the agent makes.\n",
        "- **Episode**: One full game played from beginning (`env.reset()`) to end (when `done == True`).\n",
        "- **Step**: Part of a game that includes one action. The game transitions from one observation to the next.\n",
        "\n",
        "## Setup\n",
        "\n",
        "This exaple uses the Python library [OpenAI Gym](https://gym.openai.com/docs/).\n",
        "\n",
        "If you want to install everything (gym can run atari games.) follow [these instructions](https://github.com/openai/gym#installing-everything).\n",
        "\n",
        "Now we can build an environment using OpenAI. "
      ]
    },
    {
      "cell_type": "code",
      "metadata": {
        "id": "N4qpGHoiWYqc"
      },
      "source": [
        "import gym\n",
        "import pandas\n",
        "import numpy as np"
      ],
      "execution_count": 7,
      "outputs": []
    },
    {
      "cell_type": "markdown",
      "metadata": {
        "id": "BWQOe2yCWYqd"
      },
      "source": [
        "# The first part of the game uses the environment FrozenLake-V0\n",
        "\n",
        "This is a small world with 16 tiles. \n",
        "\n",
        "    SFFF\n",
        "    FHFH\n",
        "    FFFH\n",
        "    HFFG\n",
        "\n",
        "The game starts at the S tile. The object of the game is to get to the goal (G) without landing in a hole (H)."
      ]
    },
    {
      "cell_type": "code",
      "metadata": {
        "colab": {
          "base_uri": "https://localhost:8080/"
        },
        "id": "Fec-Tk67WYqd",
        "outputId": "e977923c-6944-4b21-f9a4-cb9ed3103a6d"
      },
      "source": [
        "# Build an environment with gym.make()\n",
        "env = gym.make('FrozenLake-v0') # build a fresh environment\n",
        "\n",
        "# Start a new game with env.reset()\n",
        "current_observation = env.reset() # this starts a new \"episode\" and returns the initial observation\n",
        "\n",
        "#the current observation is just the current location\n",
        "print(current_observation) # observations are just a number"
      ],
      "execution_count": 8,
      "outputs": [
        {
          "output_type": "stream",
          "text": [
            "0\n"
          ],
          "name": "stdout"
        }
      ]
    },
    {
      "cell_type": "code",
      "metadata": {
        "colab": {
          "base_uri": "https://localhost:8080/"
        },
        "id": "4AJ3oy8-WYqe",
        "outputId": "22a4bf0b-b427-4dc6-cd51-0974c855c03e"
      },
      "source": [
        "# we can print the environment if we want to look at it\n",
        "env.render() "
      ],
      "execution_count": 9,
      "outputs": [
        {
          "output_type": "stream",
          "text": [
            "\n",
            "\u001b[41mS\u001b[0mFFF\n",
            "FHFH\n",
            "FFFH\n",
            "HFFG\n"
          ],
          "name": "stdout"
        }
      ]
    },
    {
      "cell_type": "code",
      "metadata": {
        "colab": {
          "base_uri": "https://localhost:8080/"
        },
        "id": "x0mvjPDeWYqe",
        "outputId": "4de999e0-663e-4156-c3d9-9ef6368aeab5"
      },
      "source": [
        "# the action space for this environment includes four discrete actions\n",
        "\n",
        "print(f\"our action space: {env.action_space}\")\n",
        "\n",
        "new_action = env.action_space.sample() # we can randomly sample actions\n",
        "\n",
        "print(f\"our new action: {new_action}\") # run this cell a few times to get an idea of the action space\n",
        "# what does it look like?"
      ],
      "execution_count": 10,
      "outputs": [
        {
          "output_type": "stream",
          "text": [
            "our action space: Discrete(4)\n",
            "our new action: 3\n"
          ],
          "name": "stdout"
        }
      ]
    },
    {
      "cell_type": "code",
      "metadata": {
        "colab": {
          "base_uri": "https://localhost:8080/"
        },
        "id": "NUVObdwIWYqe",
        "outputId": "966ce0fe-91a0-4ccc-8fa7-7915cba0ac49"
      },
      "source": [
        "# now we act! do this with the step function\n",
        "\n",
        "new_action = env.action_space.sample()\n",
        "\n",
        "observation, reward, done, info = env.step(new_action)\n",
        "\n",
        "# here's a look at what we get back\n",
        "print(f\"observation: {observation}, reward: {reward}, done: {done}, info: {info}\")\n",
        "\n",
        "env.render() "
      ],
      "execution_count": 11,
      "outputs": [
        {
          "output_type": "stream",
          "text": [
            "observation: 4, reward: 0.0, done: False, info: {'prob': 0.3333333333333333}\n",
            "  (Left)\n",
            "SFFF\n",
            "\u001b[41mF\u001b[0mHFH\n",
            "FFFH\n",
            "HFFG\n"
          ],
          "name": "stdout"
        }
      ]
    },
    {
      "cell_type": "code",
      "metadata": {
        "colab": {
          "base_uri": "https://localhost:8080/"
        },
        "id": "2ut0xJ2OWYqf",
        "outputId": "e3d44e30-207c-41db-93d0-8cdcdafdb6a7"
      },
      "source": [
        "# we can put this process into a for-loop and see how the game progresses\n",
        "\n",
        "current_observation = env.reset() # start a new game\n",
        "\n",
        "for i in range(5): # run 5 moves\n",
        "\n",
        "    new_action = env.action_space.sample() # same a new action\n",
        "\n",
        "    observation, reward, done, info = env.step(new_action) # step through the action and get the outputs\n",
        "\n",
        "    # here's a look at what we get back\n",
        "    print(f\"observation: {observation}, reward: {reward}, done: {done}, info: {info}\")\n",
        "\n",
        "    env.render() "
      ],
      "execution_count": 12,
      "outputs": [
        {
          "output_type": "stream",
          "text": [
            "observation: 0, reward: 0.0, done: False, info: {'prob': 0.3333333333333333}\n",
            "  (Up)\n",
            "\u001b[41mS\u001b[0mFFF\n",
            "FHFH\n",
            "FFFH\n",
            "HFFG\n",
            "observation: 0, reward: 0.0, done: False, info: {'prob': 0.3333333333333333}\n",
            "  (Right)\n",
            "\u001b[41mS\u001b[0mFFF\n",
            "FHFH\n",
            "FFFH\n",
            "HFFG\n",
            "observation: 4, reward: 0.0, done: False, info: {'prob': 0.3333333333333333}\n",
            "  (Left)\n",
            "SFFF\n",
            "\u001b[41mF\u001b[0mHFH\n",
            "FFFH\n",
            "HFFG\n",
            "observation: 8, reward: 0.0, done: False, info: {'prob': 0.3333333333333333}\n",
            "  (Right)\n",
            "SFFF\n",
            "FHFH\n",
            "\u001b[41mF\u001b[0mFFH\n",
            "HFFG\n",
            "observation: 4, reward: 0.0, done: False, info: {'prob': 0.3333333333333333}\n",
            "  (Left)\n",
            "SFFF\n",
            "\u001b[41mF\u001b[0mHFH\n",
            "FFFH\n",
            "HFFG\n"
          ],
          "name": "stdout"
        }
      ]
    },
    {
      "cell_type": "markdown",
      "metadata": {
        "id": "J84u6ARAWYqf"
      },
      "source": [
        "Now we can guess what each of the outputs mean. \n",
        "\n",
        "**Observation** refers to the number of the tile. The tiles appear to be numbered\n",
        "\n",
        "    0 1 2 3\n",
        "    4 5 ...\n",
        "    \n",
        "**Reward** refers to the outcome of the game. We get 1 if we win, zero otherwise.\n",
        "\n",
        "**Done** tells us if the game is still going. It goes to true when we win or fall into a hole.\n",
        "\n",
        "**info** gives extra info about the world. Here, it's probabilities. Can you guess what this means here? Perhaps the world is a bit noisy."
      ]
    },
    {
      "cell_type": "code",
      "metadata": {
        "colab": {
          "base_uri": "https://localhost:8080/"
        },
        "id": "jLowSK3qWYqf",
        "outputId": "52c180c7-a604-4959-be66-960dfef35f98"
      },
      "source": [
        "# Here's how to simulate an entire episode\n",
        "# We're going to stop rendering it every time to save space\n",
        "# try running this a few. Does it ever win?\n",
        "\n",
        "current_observation = env.reset()\n",
        "done = False\n",
        "\n",
        "while not done:    \n",
        "    new_action = env.action_space.sample()\n",
        "    new_observation, reward, done, info = env.step(new_action)\n",
        "    print(f\"action:{new_action} observation: {new_observation}, reward: {reward}, done: {done}, info: {info}\")"
      ],
      "execution_count": 13,
      "outputs": [
        {
          "output_type": "stream",
          "text": [
            "action:0 observation: 0, reward: 0.0, done: False, info: {'prob': 0.3333333333333333}\n",
            "action:1 observation: 1, reward: 0.0, done: False, info: {'prob': 0.3333333333333333}\n",
            "action:0 observation: 0, reward: 0.0, done: False, info: {'prob': 0.3333333333333333}\n",
            "action:3 observation: 1, reward: 0.0, done: False, info: {'prob': 0.3333333333333333}\n",
            "action:3 observation: 1, reward: 0.0, done: False, info: {'prob': 0.3333333333333333}\n",
            "action:1 observation: 2, reward: 0.0, done: False, info: {'prob': 0.3333333333333333}\n",
            "action:3 observation: 3, reward: 0.0, done: False, info: {'prob': 0.3333333333333333}\n",
            "action:0 observation: 7, reward: 0.0, done: True, info: {'prob': 0.3333333333333333}\n"
          ],
          "name": "stdout"
        }
      ]
    },
    {
      "cell_type": "markdown",
      "metadata": {
        "id": "62i6b4SPWYqg"
      },
      "source": [
        "Things to think about:\n",
        "- What things do you notice about how the environment and actions work?\n",
        "- What do you think the actions mean?\n",
        "- When the agent performs the same action from the same place (same observation), does the same outcome happen every time?"
      ]
    },
    {
      "cell_type": "markdown",
      "metadata": {
        "id": "lZ1UGPd0WYqg"
      },
      "source": [
        "The environment has some squares that always end the game (`H` in the render), some that don't (`F`), and one that is presumably the reward, if you get to it.\n",
        "\n",
        "The actions seem like up, down, left right. But they also seem stochastic. There seems to be a 1/3 chance of going into 3 different squares with each action. "
      ]
    },
    {
      "cell_type": "markdown",
      "metadata": {
        "id": "QzLlFZq-WYqg"
      },
      "source": [
        "# Part 1: Gather data\n",
        "\n",
        "We want to build an intelligent actor but first we have to gather data on which actions are useful.\n",
        "\n",
        "Use the above code as reference. Run a *random* agent through 1,000 or more episodes and collect data on each step.\n",
        "\n",
        "I recommend you store this data in a pandas dataframe. Each row should be a step. Your features should include the following features or similar \n",
        "\n",
        "- `observation` the observation at the beginning of the step (before acting!)\n",
        "- `action` the action randomly sampled\n",
        "- `current_reward` the reward received after the action was performed\n",
        "\n",
        "After you generate this data, it is recommended that you compute a column (e.g. `total_reward` that is the total reward for the entire episode).\n",
        "\n",
        "At the end of the data gathering, you should be able to use pandas (or similar) to calculate the average total reward *per episode* of the random agent. The average score should be 1-2%, meaning that the agent very rarely wins.\n",
        "\n",
        "\n",
        "## Hints\n",
        "\n",
        "- `initial_observation = env.reset()` starts a new episode and returns the initial observation.\n",
        "- `new_observation, reward, done, info = env.step(new_action)` executes one action and returns the following observation. You may look at the documentation for the step method if you are curious about what it does. \n",
        "- `done != True` until the game is finished.\n",
        "- we are trying to maximize the reward *per episode*. Our first game gives 0 reward unless the agent travels to the goal.\n",
        "- `env.action_space.n` gives the number of possible actions in the environment. `env.action_space.sample()` allows the agent to randomly sample an action.\n",
        "- `env.observation_space.n` gives the number of possible states in the environment. "
      ]
    },
    {
      "cell_type": "code",
      "metadata": {
        "id": "oO5zH4ZCWYqh"
      },
      "source": [
        "env = gym.make('FrozenLake-v0')\n",
        "\n",
        "num_episodes = 40000\n",
        "\n",
        "life_memory = []\n",
        "for i in range(num_episodes):\n",
        "    \n",
        "    # start a new episode and record all the memories\n",
        "    old_observation = env.reset()\n",
        "    done = False\n",
        "    tot_reward = 0\n",
        "    ep_memory = []\n",
        "    while not done:\n",
        "        new_action = env.action_space.sample()\n",
        "        observation, reward, done, info = env.step(new_action)\n",
        "        tot_reward += reward\n",
        "        \n",
        "        ep_memory.append({\n",
        "            \"observation\": old_observation,\n",
        "            \"action\": new_action,\n",
        "            \"reward\": reward,\n",
        "            \"episode\": i,\n",
        "        })\n",
        "        old_observation = observation\n",
        "        \n",
        "    # incorporate total reward\n",
        "    num_steps = len(ep_memory)\n",
        "    for i, ep_mem in enumerate(ep_memory):\n",
        "        ep_mem[\"tot_reward\"] = tot_reward\n",
        "        ep_mem[\"decay_reward\"] = i*tot_reward/num_steps\n",
        "        \n",
        "    life_memory.extend(ep_memory)\n",
        "    \n",
        "memory_df = pandas.DataFrame(life_memory)"
      ],
      "execution_count": 14,
      "outputs": []
    },
    {
      "cell_type": "code",
      "metadata": {
        "colab": {
          "base_uri": "https://localhost:8080/",
          "height": 286
        },
        "id": "natCdS3WWYqh",
        "outputId": "61f846f4-bd86-4ef7-be07-d1d8717951d4"
      },
      "source": [
        "memory_df.describe()"
      ],
      "execution_count": 15,
      "outputs": [
        {
          "output_type": "execute_result",
          "data": {
            "text/html": [
              "<div>\n",
              "<style scoped>\n",
              "    .dataframe tbody tr th:only-of-type {\n",
              "        vertical-align: middle;\n",
              "    }\n",
              "\n",
              "    .dataframe tbody tr th {\n",
              "        vertical-align: top;\n",
              "    }\n",
              "\n",
              "    .dataframe thead th {\n",
              "        text-align: right;\n",
              "    }\n",
              "</style>\n",
              "<table border=\"1\" class=\"dataframe\">\n",
              "  <thead>\n",
              "    <tr style=\"text-align: right;\">\n",
              "      <th></th>\n",
              "      <th>observation</th>\n",
              "      <th>action</th>\n",
              "      <th>reward</th>\n",
              "      <th>episode</th>\n",
              "      <th>tot_reward</th>\n",
              "      <th>decay_reward</th>\n",
              "    </tr>\n",
              "  </thead>\n",
              "  <tbody>\n",
              "    <tr>\n",
              "      <th>count</th>\n",
              "      <td>307297.000000</td>\n",
              "      <td>307297.000000</td>\n",
              "      <td>307297.000000</td>\n",
              "      <td>307297.000000</td>\n",
              "      <td>307297.000000</td>\n",
              "      <td>307297.000000</td>\n",
              "    </tr>\n",
              "    <tr>\n",
              "      <th>mean</th>\n",
              "      <td>2.235173</td>\n",
              "      <td>1.498000</td>\n",
              "      <td>0.001832</td>\n",
              "      <td>19967.274737</td>\n",
              "      <td>0.025200</td>\n",
              "      <td>0.011684</td>\n",
              "    </tr>\n",
              "    <tr>\n",
              "      <th>std</th>\n",
              "      <td>3.002904</td>\n",
              "      <td>1.118292</td>\n",
              "      <td>0.042764</td>\n",
              "      <td>11548.015279</td>\n",
              "      <td>0.156734</td>\n",
              "      <td>0.085873</td>\n",
              "    </tr>\n",
              "    <tr>\n",
              "      <th>min</th>\n",
              "      <td>0.000000</td>\n",
              "      <td>0.000000</td>\n",
              "      <td>0.000000</td>\n",
              "      <td>0.000000</td>\n",
              "      <td>0.000000</td>\n",
              "      <td>0.000000</td>\n",
              "    </tr>\n",
              "    <tr>\n",
              "      <th>25%</th>\n",
              "      <td>0.000000</td>\n",
              "      <td>0.000000</td>\n",
              "      <td>0.000000</td>\n",
              "      <td>9935.000000</td>\n",
              "      <td>0.000000</td>\n",
              "      <td>0.000000</td>\n",
              "    </tr>\n",
              "    <tr>\n",
              "      <th>50%</th>\n",
              "      <td>1.000000</td>\n",
              "      <td>1.000000</td>\n",
              "      <td>0.000000</td>\n",
              "      <td>19926.000000</td>\n",
              "      <td>0.000000</td>\n",
              "      <td>0.000000</td>\n",
              "    </tr>\n",
              "    <tr>\n",
              "      <th>75%</th>\n",
              "      <td>4.000000</td>\n",
              "      <td>2.000000</td>\n",
              "      <td>0.000000</td>\n",
              "      <td>29992.000000</td>\n",
              "      <td>0.000000</td>\n",
              "      <td>0.000000</td>\n",
              "    </tr>\n",
              "    <tr>\n",
              "      <th>max</th>\n",
              "      <td>14.000000</td>\n",
              "      <td>3.000000</td>\n",
              "      <td>1.000000</td>\n",
              "      <td>39999.000000</td>\n",
              "      <td>1.000000</td>\n",
              "      <td>0.977778</td>\n",
              "    </tr>\n",
              "  </tbody>\n",
              "</table>\n",
              "</div>"
            ],
            "text/plain": [
              "         observation         action  ...     tot_reward   decay_reward\n",
              "count  307297.000000  307297.000000  ...  307297.000000  307297.000000\n",
              "mean        2.235173       1.498000  ...       0.025200       0.011684\n",
              "std         3.002904       1.118292  ...       0.156734       0.085873\n",
              "min         0.000000       0.000000  ...       0.000000       0.000000\n",
              "25%         0.000000       0.000000  ...       0.000000       0.000000\n",
              "50%         1.000000       1.000000  ...       0.000000       0.000000\n",
              "75%         4.000000       2.000000  ...       0.000000       0.000000\n",
              "max        14.000000       3.000000  ...       1.000000       0.977778\n",
              "\n",
              "[8 rows x 6 columns]"
            ]
          },
          "metadata": {
            "tags": []
          },
          "execution_count": 15
        }
      ]
    },
    {
      "cell_type": "code",
      "metadata": {
        "colab": {
          "base_uri": "https://localhost:8080/"
        },
        "id": "DrH9974MWYqh",
        "outputId": "e2ce0680-a2da-4d92-d326-11e2bd2ae7bf"
      },
      "source": [
        "memory_df.shape"
      ],
      "execution_count": 16,
      "outputs": [
        {
          "output_type": "execute_result",
          "data": {
            "text/plain": [
              "(307297, 6)"
            ]
          },
          "metadata": {
            "tags": []
          },
          "execution_count": 16
        }
      ]
    },
    {
      "cell_type": "code",
      "metadata": {
        "colab": {
          "base_uri": "https://localhost:8080/"
        },
        "id": "tjvMi20QWYqi",
        "outputId": "e8ab93f4-12e1-46df-9320-8b81c0dcbad6"
      },
      "source": [
        "memory_df.groupby(\"episode\").reward.sum().mean()"
      ],
      "execution_count": 17,
      "outputs": [
        {
          "output_type": "execute_result",
          "data": {
            "text/plain": [
              "0.014075"
            ]
          },
          "metadata": {
            "tags": []
          },
          "execution_count": 17
        }
      ]
    },
    {
      "cell_type": "markdown",
      "metadata": {
        "id": "vbzH76JpWYqi"
      },
      "source": [
        "# Step 2: Predict\n",
        "\n",
        "Now that you have a bunch of data, put it into a format that you can model. The goal here is to guide the behavior of our agent. Our agent will be given an observation and need to decide between the possible actions given that observation and the prediction of the model. \n",
        "\n",
        "Remember, you're a data scientist! Be creative. \n",
        "\n",
        "It might be helpful to work backwards. Ultimately, you will write something like:\n",
        "\n",
        "```\n",
        "def convert_to_row(obs, act):\n",
        "    # expertly written code\n",
        "    return row_of_obs_act\n",
        "    \n",
        "rows = [convert_to_row(current_obs, act) for act in possible_actions]\n",
        "\n",
        "pred_outcome = model.predict(rows)\n",
        "```\n",
        "\n",
        "So, you will need to design a quantity that you can ask your model to predict for every possible action-observation pair. Think a bit about what this quantity should be. Should the model try to predict the immediate reward for each action? If so, how would it know where to go at the beginning of each episode when all moves give zero reward but when some moves bring it closer to the goal than others. "
      ]
    },
    {
      "cell_type": "code",
      "metadata": {
        "colab": {
          "base_uri": "https://localhost:8080/"
        },
        "id": "vZ_7a4a5WYqi",
        "outputId": "ec833339-9551-4f6c-e1fb-1e8963a6a920"
      },
      "source": [
        "from sklearn.ensemble import RandomForestRegressor, ExtraTreesRegressor\n",
        "from sklearn.svm import SVR\n",
        "\n",
        "model = ExtraTreesRegressor(n_estimators=50)\n",
        "# model = SVR()\n",
        "y = 0.5*memory_df.reward + 0.1*memory_df.decay_reward + memory_df.tot_reward\n",
        "x = memory_df[[\"observation\", \"action\"]]\n",
        "model.fit(x, y)"
      ],
      "execution_count": 18,
      "outputs": [
        {
          "output_type": "execute_result",
          "data": {
            "text/plain": [
              "ExtraTreesRegressor(bootstrap=False, ccp_alpha=0.0, criterion='mse',\n",
              "                    max_depth=None, max_features='auto', max_leaf_nodes=None,\n",
              "                    max_samples=None, min_impurity_decrease=0.0,\n",
              "                    min_impurity_split=None, min_samples_leaf=1,\n",
              "                    min_samples_split=2, min_weight_fraction_leaf=0.0,\n",
              "                    n_estimators=50, n_jobs=None, oob_score=False,\n",
              "                    random_state=None, verbose=0, warm_start=False)"
            ]
          },
          "metadata": {
            "tags": []
          },
          "execution_count": 18
        }
      ]
    },
    {
      "cell_type": "markdown",
      "metadata": {
        "id": "iE62V6voWYqi"
      },
      "source": [
        "# Step 3: Act\n",
        "\n",
        "Now that you have a model that predicts the desired behavior, let's act on it! Modify the code you used to gather data so that you replace the random decision with an intelligent one.\n",
        "\n",
        "We started out winning ~1.5% of the games with the random agent. How well can you do? You should be able to get your model to do at least 10x better (so 15%). Can you get ~50%?\n",
        "\n",
        "If you're having trouble, tune your model. Try different representations of the observation and action spaces. Try different models. "
      ]
    },
    {
      "cell_type": "code",
      "metadata": {
        "colab": {
          "base_uri": "https://localhost:8080/"
        },
        "id": "cTZbgn9fWYqj",
        "outputId": "db24242a-9798-45bf-b5de-9e3c008679c3"
      },
      "source": [
        "model = RandomForestRegressor()\n",
        "y = 1*memory_df.reward + memory_df.tot_reward + .1*memory_df.decay_reward\n",
        "x = memory_df[[\"observation\", \"action\"]]\n",
        "model.fit(x, y)\n",
        "\n",
        "num_episodes = 500\n",
        "random_per = 0\n",
        "\n",
        "life_memory = []\n",
        "for i in range(num_episodes):\n",
        "    \n",
        "    # start a new episode and record all the memories\n",
        "    old_observation = env.reset()\n",
        "    done = False\n",
        "    tot_reward = 0\n",
        "    ep_memory = []\n",
        "    while not done:\n",
        "        \n",
        "        \n",
        "        if np.random.rand() < random_per:\n",
        "            new_action = env.action_space.sample()\n",
        "        else:\n",
        "            pred_in = [[old_observation,i] for i in range(4)]\n",
        "            new_action = np.argmax(model.predict(pred_in))\n",
        "        observation, reward, done, info = env.step(new_action)\n",
        "        tot_reward += reward\n",
        "        \n",
        "        ep_memory.append({\n",
        "            \"observation\": old_observation,\n",
        "            \"action\": new_action,\n",
        "            \"reward\": reward,\n",
        "            \"episode\": i,\n",
        "        })\n",
        "        old_observation = observation\n",
        "        \n",
        "    # incorporate total reward\n",
        "    for ep_mem in ep_memory:\n",
        "        ep_mem[\"tot_reward\"] = tot_reward\n",
        "        \n",
        "    life_memory.extend(ep_memory)\n",
        "    \n",
        "memory_df2 = pandas.DataFrame(life_memory)\n",
        "\n",
        "# rf.fit(memory_df[[\"observation\", \"action\"]], memory_df[\"comb_reward\"])\n",
        "\n",
        "# score\n",
        "# much better!\n",
        "memory_df2.groupby(\"episode\").reward.sum().mean()"
      ],
      "execution_count": 19,
      "outputs": [
        {
          "output_type": "execute_result",
          "data": {
            "text/plain": [
              "0.414"
            ]
          },
          "metadata": {
            "tags": []
          },
          "execution_count": 19
        }
      ]
    },
    {
      "cell_type": "code",
      "metadata": {
        "id": "rlbHH2k-WYqj"
      },
      "source": [
        "y = .1*memory_df.reward + 1*memory_df.decay_reward + 1*memory_df.tot_reward"
      ],
      "execution_count": 20,
      "outputs": []
    },
    {
      "cell_type": "markdown",
      "metadata": {
        "id": "epv8QJwPWYqj"
      },
      "source": [
        "# Extension: Pole cart\n",
        "\n",
        "If time permits, try your hand at pole cart (`env = gym.make('CartPole-v0')`).\n",
        "\n",
        "Notice that the observation space is quite different. It's no longer discrete--instead we have 4 continuous values. You'll have to store these differently from how you did with Frozenlake.\n",
        "\n",
        "My random actor actually does surprisingly well (avg ~22). But my intelligent agent is able to score ~99. Can you beat me? "
      ]
    },
    {
      "cell_type": "markdown",
      "metadata": {
        "id": "up27znSLWYqj"
      },
      "source": [
        "# Pole cart"
      ]
    },
    {
      "cell_type": "code",
      "metadata": {
        "id": "w1z0-0BnWYqk"
      },
      "source": [
        "env = gym.make('CartPole-v0')"
      ],
      "execution_count": 21,
      "outputs": []
    },
    {
      "cell_type": "code",
      "metadata": {
        "colab": {
          "base_uri": "https://localhost:8080/"
        },
        "id": "tlQLQcEjWYqk",
        "outputId": "ad3daede-2e40-4ed8-a109-a8cae11f91bc"
      },
      "source": [
        "# now we can build a toy world!\n",
        "num_episodes = 1000\n",
        "\n",
        "life_memory = []\n",
        "for i in range(num_episodes):\n",
        "    \n",
        "    # start a new episode and record all the memories\n",
        "    old_observation = env.reset()\n",
        "    done = False\n",
        "    tot_reward = 0\n",
        "    ep_memory = []\n",
        "    while not done:\n",
        "        new_action = env.action_space.sample()\n",
        "        observation, reward, done, info = env.step(new_action)\n",
        "        tot_reward += reward\n",
        "        \n",
        "        ep_memory.append({\n",
        "            \"obs0\": old_observation[0],\n",
        "            \"obs1\": old_observation[1],\n",
        "            \"obs2\": old_observation[2],\n",
        "            \"obs3\": old_observation[3],\n",
        "            \"action\": new_action,\n",
        "            \"reward\": reward,\n",
        "            \"episode\": i,\n",
        "        })\n",
        "        old_observation = observation\n",
        "        \n",
        "    # incorporate total reward\n",
        "    for ep_mem in ep_memory:\n",
        "        ep_mem[\"tot_reward\"] = tot_reward\n",
        "        \n",
        "    life_memory.extend(ep_memory)\n",
        "    \n",
        "memory_df = pandas.DataFrame(life_memory)\n",
        "\n",
        "memory_df.groupby(\"episode\").reward.sum().mean()"
      ],
      "execution_count": 22,
      "outputs": [
        {
          "output_type": "execute_result",
          "data": {
            "text/plain": [
              "21.852"
            ]
          },
          "metadata": {
            "tags": []
          },
          "execution_count": 22
        }
      ]
    },
    {
      "cell_type": "code",
      "metadata": {
        "colab": {
          "base_uri": "https://localhost:8080/",
          "height": 286
        },
        "id": "3oV_xTl3WYqk",
        "outputId": "71e0c14e-4005-42a5-e218-4a30ff4d9ba5"
      },
      "source": [
        "memory_df.describe()"
      ],
      "execution_count": 23,
      "outputs": [
        {
          "output_type": "execute_result",
          "data": {
            "text/html": [
              "<div>\n",
              "<style scoped>\n",
              "    .dataframe tbody tr th:only-of-type {\n",
              "        vertical-align: middle;\n",
              "    }\n",
              "\n",
              "    .dataframe tbody tr th {\n",
              "        vertical-align: top;\n",
              "    }\n",
              "\n",
              "    .dataframe thead th {\n",
              "        text-align: right;\n",
              "    }\n",
              "</style>\n",
              "<table border=\"1\" class=\"dataframe\">\n",
              "  <thead>\n",
              "    <tr style=\"text-align: right;\">\n",
              "      <th></th>\n",
              "      <th>obs0</th>\n",
              "      <th>obs1</th>\n",
              "      <th>obs2</th>\n",
              "      <th>obs3</th>\n",
              "      <th>action</th>\n",
              "      <th>reward</th>\n",
              "      <th>episode</th>\n",
              "      <th>tot_reward</th>\n",
              "    </tr>\n",
              "  </thead>\n",
              "  <tbody>\n",
              "    <tr>\n",
              "      <th>count</th>\n",
              "      <td>21852.000000</td>\n",
              "      <td>21852.000000</td>\n",
              "      <td>21852.000000</td>\n",
              "      <td>21852.000000</td>\n",
              "      <td>21852.000000</td>\n",
              "      <td>21852.0</td>\n",
              "      <td>21852.000000</td>\n",
              "      <td>21852.000000</td>\n",
              "    </tr>\n",
              "    <tr>\n",
              "      <th>mean</th>\n",
              "      <td>-0.004914</td>\n",
              "      <td>-0.009281</td>\n",
              "      <td>0.002085</td>\n",
              "      <td>0.013439</td>\n",
              "      <td>0.499314</td>\n",
              "      <td>1.0</td>\n",
              "      <td>504.650741</td>\n",
              "      <td>28.646806</td>\n",
              "    </tr>\n",
              "    <tr>\n",
              "      <th>std</th>\n",
              "      <td>0.100907</td>\n",
              "      <td>0.545654</td>\n",
              "      <td>0.092148</td>\n",
              "      <td>0.797279</td>\n",
              "      <td>0.500011</td>\n",
              "      <td>0.0</td>\n",
              "      <td>291.159145</td>\n",
              "      <td>17.257718</td>\n",
              "    </tr>\n",
              "    <tr>\n",
              "      <th>min</th>\n",
              "      <td>-1.744868</td>\n",
              "      <td>-2.469256</td>\n",
              "      <td>-0.209433</td>\n",
              "      <td>-2.884267</td>\n",
              "      <td>0.000000</td>\n",
              "      <td>1.0</td>\n",
              "      <td>0.000000</td>\n",
              "      <td>8.000000</td>\n",
              "    </tr>\n",
              "    <tr>\n",
              "      <th>25%</th>\n",
              "      <td>-0.043918</td>\n",
              "      <td>-0.363851</td>\n",
              "      <td>-0.051146</td>\n",
              "      <td>-0.500754</td>\n",
              "      <td>0.000000</td>\n",
              "      <td>1.0</td>\n",
              "      <td>248.000000</td>\n",
              "      <td>17.000000</td>\n",
              "    </tr>\n",
              "    <tr>\n",
              "      <th>50%</th>\n",
              "      <td>-0.002084</td>\n",
              "      <td>-0.003921</td>\n",
              "      <td>0.000610</td>\n",
              "      <td>0.006650</td>\n",
              "      <td>0.000000</td>\n",
              "      <td>1.0</td>\n",
              "      <td>507.000000</td>\n",
              "      <td>24.000000</td>\n",
              "    </tr>\n",
              "    <tr>\n",
              "      <th>75%</th>\n",
              "      <td>0.038826</td>\n",
              "      <td>0.355786</td>\n",
              "      <td>0.054698</td>\n",
              "      <td>0.535336</td>\n",
              "      <td>1.000000</td>\n",
              "      <td>1.0</td>\n",
              "      <td>758.000000</td>\n",
              "      <td>36.000000</td>\n",
              "    </tr>\n",
              "    <tr>\n",
              "      <th>max</th>\n",
              "      <td>0.930832</td>\n",
              "      <td>2.625917</td>\n",
              "      <td>0.209395</td>\n",
              "      <td>2.756934</td>\n",
              "      <td>1.000000</td>\n",
              "      <td>1.0</td>\n",
              "      <td>999.000000</td>\n",
              "      <td>103.000000</td>\n",
              "    </tr>\n",
              "  </tbody>\n",
              "</table>\n",
              "</div>"
            ],
            "text/plain": [
              "               obs0          obs1  ...       episode    tot_reward\n",
              "count  21852.000000  21852.000000  ...  21852.000000  21852.000000\n",
              "mean      -0.004914     -0.009281  ...    504.650741     28.646806\n",
              "std        0.100907      0.545654  ...    291.159145     17.257718\n",
              "min       -1.744868     -2.469256  ...      0.000000      8.000000\n",
              "25%       -0.043918     -0.363851  ...    248.000000     17.000000\n",
              "50%       -0.002084     -0.003921  ...    507.000000     24.000000\n",
              "75%        0.038826      0.355786  ...    758.000000     36.000000\n",
              "max        0.930832      2.625917  ...    999.000000    103.000000\n",
              "\n",
              "[8 rows x 8 columns]"
            ]
          },
          "metadata": {
            "tags": []
          },
          "execution_count": 23
        }
      ]
    },
    {
      "cell_type": "code",
      "metadata": {
        "colab": {
          "base_uri": "https://localhost:8080/"
        },
        "id": "B7aNI415WYqk",
        "outputId": "7c7c2158-86a6-4eb3-d875-5d4986cf910d"
      },
      "source": [
        "from sklearn.ensemble import RandomForestRegressor, AdaBoostRegressor, ExtraTreesRegressor\n",
        "\n",
        "model = ExtraTreesRegressor(n_estimators=50)\n",
        "\n",
        "memory_df[\"comb_reward\"] = .5*memory_df.reward + memory_df.tot_reward\n",
        "model.fit(memory_df[[\"obs0\", \"obs1\", \"obs2\", \"obs3\", \"action\"]], memory_df.comb_reward)"
      ],
      "execution_count": 24,
      "outputs": [
        {
          "output_type": "execute_result",
          "data": {
            "text/plain": [
              "ExtraTreesRegressor(bootstrap=False, ccp_alpha=0.0, criterion='mse',\n",
              "                    max_depth=None, max_features='auto', max_leaf_nodes=None,\n",
              "                    max_samples=None, min_impurity_decrease=0.0,\n",
              "                    min_impurity_split=None, min_samples_leaf=1,\n",
              "                    min_samples_split=2, min_weight_fraction_leaf=0.0,\n",
              "                    n_estimators=50, n_jobs=None, oob_score=False,\n",
              "                    random_state=None, verbose=0, warm_start=False)"
            ]
          },
          "metadata": {
            "tags": []
          },
          "execution_count": 24
        }
      ]
    },
    {
      "cell_type": "code",
      "metadata": {
        "colab": {
          "base_uri": "https://localhost:8080/"
        },
        "id": "-y-BEIKzWYql",
        "outputId": "be566c8b-cc48-41bf-e640-37a9452e2759"
      },
      "source": [
        "num_episodes = 100\n",
        "random_per = 0\n",
        "\n",
        "life_memory = []\n",
        "for i in range(num_episodes):\n",
        "    \n",
        "    # start a new episode and record all the memories\n",
        "    old_observation = env.reset()\n",
        "    done = False\n",
        "    tot_reward = 0\n",
        "    ep_memory = []\n",
        "    while not done:\n",
        "        \n",
        "        \n",
        "        if np.random.rand() < random_per:\n",
        "            new_action = env.action_space.sample()\n",
        "        else:\n",
        "            pred_in = [list(old_observation)+[i] for i in range(2)]\n",
        "            new_action = np.argmax(model.predict(pred_in))\n",
        "        observation, reward, done, info = env.step(new_action)\n",
        "        tot_reward += reward\n",
        "        \n",
        "        ep_memory.append({\n",
        "            \"obs0\": old_observation[0],\n",
        "            \"obs1\": old_observation[1],\n",
        "            \"obs2\": old_observation[2],\n",
        "            \"obs3\": old_observation[3],\n",
        "            \"action\": new_action,\n",
        "            \"reward\": reward,\n",
        "            \"episode\": i,\n",
        "        })\n",
        "        old_observation = observation\n",
        "        \n",
        "    # incorporate total reward\n",
        "    for ep_mem in ep_memory:\n",
        "        ep_mem[\"tot_reward\"] = tot_reward\n",
        "        \n",
        "    life_memory.extend(ep_memory)\n",
        "    \n",
        "memory_df2 = pandas.DataFrame(life_memory)\n",
        "memory_df2[\"comb_reward\"] = memory_df2.reward + memory_df2.tot_reward\n",
        "\n",
        "# score\n",
        "# much better!\n",
        "memory_df2.groupby(\"episode\").reward.sum().mean()"
      ],
      "execution_count": 25,
      "outputs": [
        {
          "output_type": "execute_result",
          "data": {
            "text/plain": [
              "110.83"
            ]
          },
          "metadata": {
            "tags": []
          },
          "execution_count": 25
        }
      ]
    }
  ]
}