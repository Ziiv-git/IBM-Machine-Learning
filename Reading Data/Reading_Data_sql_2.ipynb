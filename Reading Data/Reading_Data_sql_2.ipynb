{
  "nbformat": 4,
  "nbformat_minor": 0,
  "metadata": {
    "kernelspec": {
      "display_name": "Python 3",
      "language": "python",
      "name": "python3"
    },
    "language_info": {
      "codemirror_mode": {
        "name": "ipython",
        "version": 3
      },
      "file_extension": ".py",
      "mimetype": "text/x-python",
      "name": "python",
      "nbconvert_exporter": "python",
      "pygments_lexer": "ipython3",
      "version": "3.7.5"
    },
    "colab": {
      "name": "Reading_Data_sql_2.ipynb",
      "provenance": [],
      "collapsed_sections": []
    }
  },
  "cells": [
    {
      "cell_type": "markdown",
      "metadata": {
        "id": "gfBYBpBBBq_S"
      },
      "source": [
        "# Machine Learning Foundation\n",
        "\n",
        "## Section 1, Part b: Reading Data Lab"
      ]
    },
    {
      "cell_type": "code",
      "metadata": {
        "id": "s3ABdZwnBq_Y"
      },
      "source": [
        "# Imports\n",
        "import sqlite3 as sq3\n",
        "import pandas.io.sql as pds\n",
        "import pandas as pd"
      ],
      "execution_count": 1,
      "outputs": []
    },
    {
      "cell_type": "markdown",
      "metadata": {
        "id": "8m4B0uVhBq_Y"
      },
      "source": [
        "## Lab Exercise: Reading in database files\n",
        "\n",
        " - Create a variable, `path`, containing the path to the `baseball.db` contained in `resources/`\n",
        " - Create a connection, `con`, that is connected to database at `path`\n",
        " - Create a variable, `query`, containing a SQL query which reads in all data from the `allstarfull` table\n",
        " - Create a variable, `observations`, by using pandas' [read_sql](https://pandas.pydata.org/pandas-docs/stable/reference/api/pandas.read_sql.html)\n",
        "\n",
        "### Optional\n",
        " - Create a variable, `tables`, which reads in all data from the table `sqlite_master`\n",
        " - Pretend that you were interesting in creating a new baseball hall of fame. Join and analyze the tables to evaluate the top 3 all time best baseball players."
      ]
    },
    {
      "cell_type": "code",
      "metadata": {
        "colab": {
          "base_uri": "https://localhost:8080/"
        },
        "id": "fG-MjXg_Bq_Z",
        "outputId": "4a7b37d9-815a-49e8-91d7-0cca31f3f897"
      },
      "source": [
        "### BEGIN SOLUTION\n",
        "# Create a variable, `path`, containing the path to the `baseball.db` contained in `resources/`\n",
        "path = '/content/sample_data/baseball.db'\n",
        "\n",
        "# Create a connection, `con`, that is connected to database at `path`\n",
        "con = sq3.Connection(path)\n",
        "\n",
        "# Create a variable, `query`, containing a SQL query which reads in all data from the `` table\n",
        "\n",
        "query = \"\"\"\n",
        "SELECT *\n",
        "    FROM allstarfull\n",
        "    ;\n",
        "\"\"\"\n",
        "\n",
        "allstar_observations = pd.read_sql(query, con)\n",
        "\n",
        "print(allstar_observations)"
      ],
      "execution_count": 2,
      "outputs": [
        {
          "output_type": "stream",
          "text": [
            "      index   playerID  yearID  gameNum  ... teamID lgID   GP  startingPos\n",
            "0         0  gomezle01    1933        0  ...    NYA   AL  1.0          1.0\n",
            "1         1  ferreri01    1933        0  ...    BOS   AL  1.0          2.0\n",
            "2         2  gehrilo01    1933        0  ...    NYA   AL  1.0          3.0\n",
            "3         3  gehrich01    1933        0  ...    DET   AL  1.0          4.0\n",
            "4         4  dykesji01    1933        0  ...    CHA   AL  1.0          5.0\n",
            "...     ...        ...     ...      ...  ...    ...  ...  ...          ...\n",
            "5143   5143  seageco01    2016        0  ...    LAN   NL  1.0          NaN\n",
            "5144   5144  strasst01    2016        0  ...    WAS   NL  0.0          NaN\n",
            "5145   5145  syndeno01    2016        0  ...    NYN   NL  0.0          NaN\n",
            "5146   5146  teherju01    2016        0  ...    ATL   NL  1.0          NaN\n",
            "5147   5147  zobribe01    2016        0  ...    CHN   NL  1.0          4.0\n",
            "\n",
            "[5148 rows x 9 columns]\n"
          ],
          "name": "stdout"
        }
      ]
    },
    {
      "cell_type": "code",
      "metadata": {
        "colab": {
          "base_uri": "https://localhost:8080/"
        },
        "id": "IT9PTGgBCSd3",
        "outputId": "6a2795a3-0387-4742-b98c-5780e8b2a51f"
      },
      "source": [
        "# Create a variable, tables, which reads in all data from the table sqlite_master\n",
        "all_tables = pd.read_sql('SELECT * FROM sqlite_master', con)\n",
        "print(all_tables)"
      ],
      "execution_count": 3,
      "outputs": [
        {
          "output_type": "stream",
          "text": [
            "    type  ...                                                sql\n",
            "0  table  ...  CREATE TABLE \"allstarfull\" (\\n\"index\" INTEGER,...\n",
            "1  index  ...  CREATE INDEX \"ix_allstarfull_index\"ON \"allstar...\n",
            "2  table  ...  CREATE TABLE \"schools\" (\\n\"index\" INTEGER,\\n  ...\n",
            "3  index  ...  CREATE INDEX \"ix_schools_index\"ON \"schools\" (\"...\n",
            "4  table  ...  CREATE TABLE \"batting\" (\\n\"index\" INTEGER,\\n  ...\n",
            "5  index  ...  CREATE INDEX \"ix_batting_index\"ON \"batting\" (\"...\n",
            "\n",
            "[6 rows x 5 columns]\n"
          ],
          "name": "stdout"
        }
      ]
    },
    {
      "cell_type": "code",
      "metadata": {
        "colab": {
          "base_uri": "https://localhost:8080/"
        },
        "id": "2DOnpO2DCYA9",
        "outputId": "9239bd31-19d6-4bbe-cc83-1c308357fe8a"
      },
      "source": [
        "# Pretend that you were interesting in creating a new baseball hall of fame. Join and analyze the tables to evaluate the top 3 all time \n",
        "# best baseball players\n",
        "best_query = \"\"\"\n",
        "SELECT \n",
        "    playerID, \n",
        "    sum(GP) AS num_games_played, \n",
        "    AVG(startingPos) AS avg_starting_position\n",
        "FROM allstarfull\n",
        "GROUP BY playerID\n",
        "ORDER BY num_games_played DESC, avg_starting_position ASC\n",
        "LIMIT 5\n",
        "\"\"\"\n",
        "best = pd.read_sql(best_query, con)\n",
        "print(best.head())"
      ],
      "execution_count": 7,
      "outputs": [
        {
          "output_type": "stream",
          "text": [
            "    playerID  num_games_played  avg_starting_position\n",
            "0  musiast01              24.0               6.357143\n",
            "1   mayswi01              24.0               8.000000\n",
            "2  aaronha01              24.0               8.470588\n",
            "3  robinbr01              18.0               5.000000\n",
            "4  ripkeca01              18.0               5.823529\n"
          ],
          "name": "stdout"
        }
      ]
    },
    {
      "cell_type": "code",
      "metadata": {
        "id": "9y8txAqlCjoV"
      },
      "source": [
        ""
      ],
      "execution_count": null,
      "outputs": []
    }
  ]
}