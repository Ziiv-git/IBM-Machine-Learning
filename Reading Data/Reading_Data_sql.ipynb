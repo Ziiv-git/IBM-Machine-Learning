{
  "nbformat": 4,
  "nbformat_minor": 0,
  "metadata": {
    "kernelspec": {
      "display_name": "Python 3",
      "language": "python",
      "name": "python3"
    },
    "language_info": {
      "codemirror_mode": {
        "name": "ipython",
        "version": 3
      },
      "file_extension": ".py",
      "mimetype": "text/x-python",
      "name": "python",
      "nbconvert_exporter": "python",
      "pygments_lexer": "ipython3",
      "version": "3.7.5"
    },
    "colab": {
      "name": "Reading_Data_sql.ipynb",
      "provenance": [],
      "collapsed_sections": []
    }
  },
  "cells": [
    {
      "cell_type": "markdown",
      "metadata": {
        "id": "9q3GYiag-2Dc"
      },
      "source": [
        "# Machine Learning Foundation\n",
        "\n",
        "## Section 1, Part a: Reading Data "
      ]
    },
    {
      "cell_type": "markdown",
      "metadata": {
        "id": "FbbbBBRs-2Dh"
      },
      "source": [
        "### Learning Objective(s)\n",
        "\n",
        " - Create a SQL database connection to a sample SQL database, and read records from that database\n",
        " - Explore common input parameters\n",
        "\n",
        "### Packages\n",
        "\n",
        " - [Pandas](https://pandas.pydata.org/pandas-docs/stable/)\n",
        " - [Pandas.read_sql](https://pandas.pydata.org/pandas-docs/stable/reference/api/pandas.read_sql.html)\n",
        " - [SQLite3](https://docs.python.org/3.6/library/sqlite3.html)"
      ]
    },
    {
      "cell_type": "markdown",
      "metadata": {
        "id": "srk6JUFr-2Di"
      },
      "source": [
        "## Simple data reads\n",
        "\n",
        "Structured Query Language (SQL) is an [ANSI specification](https://docs.oracle.com/database/121/SQLRF/ap_standard_sql001.htm#SQLRF55514), implemented by various databases. SQL is a powerful format for interacting with large databases efficiently, and SQL allows for a consistent experience across a large market of databases. We'll be using sqlite, a lightweight and somewhat restricted version of sql for this example. sqlite uses a slightly modified version of SQL, which may be different than what you're used to. "
      ]
    },
    {
      "cell_type": "code",
      "metadata": {
        "id": "gZNNONf6-2Di"
      },
      "source": [
        "# Imports\n",
        "import sqlite3 as sq3\n",
        "import pandas.io.sql as pds\n",
        "import pandas as pd"
      ],
      "execution_count": 1,
      "outputs": []
    },
    {
      "cell_type": "markdown",
      "metadata": {
        "id": "65egkYeM-2Dj"
      },
      "source": [
        "### Database connections\n",
        "\n",
        "Our first step will be to create a connection to our SQL database. A few common SQL databases used with Python include:\n",
        "\n",
        " - Microsoft SQL Server\n",
        " - Postgres\n",
        " - MySQL\n",
        " - AWS Redshift\n",
        " - AWS Aurora\n",
        " - Oracle DB\n",
        " - Terradata\n",
        " - Db2 Family\n",
        " - Many, many others\n",
        " \n",
        "Each of these databases will require a slightly different setup, and may require credentials (username & password), tokens, or other access requirements. We'll be using `sqlite3` to connect to our database, but other connection packages include:\n",
        "\n",
        " - [`SQLAlchemy`](https://www.sqlalchemy.org/) (most common)\n",
        " - [`psycopg2`](http://initd.org/psycopg/)\n",
        " - [`MySQLdb`](http://mysql-python.sourceforge.net/MySQLdb.html)"
      ]
    },
    {
      "cell_type": "code",
      "metadata": {
        "id": "6Y6AEiAV-2Dj"
      },
      "source": [
        "# Initialize path to SQLite database\n",
        "path = '/content/sample_data/classic_rock.db'\n",
        "con = sq3.Connection(path)\n",
        "\n",
        "# We now have a live connection to our SQL database"
      ],
      "execution_count": 3,
      "outputs": []
    },
    {
      "cell_type": "markdown",
      "metadata": {
        "id": "FoLi-9uY-2Dj"
      },
      "source": [
        "### Reading data\n",
        "\n",
        "Now that we've got a connection to our database, we can perform queries, and load their results in as Pandas DataFrames"
      ]
    },
    {
      "cell_type": "code",
      "metadata": {
        "colab": {
          "base_uri": "https://localhost:8080/",
          "height": 204
        },
        "id": "lwnx63Ot-2Dj",
        "outputId": "899c346d-09a2-4d63-e4d8-d4ab244acc87"
      },
      "source": [
        "# Write the query\n",
        "query = '''\n",
        "SELECT * \n",
        "FROM rock_songs;\n",
        "'''\n",
        "\n",
        "# Execute the query\n",
        "observations = pds.read_sql(query, con)\n",
        "\n",
        "observations.head()"
      ],
      "execution_count": 4,
      "outputs": [
        {
          "output_type": "execute_result",
          "data": {
            "text/html": [
              "<div>\n",
              "<style scoped>\n",
              "    .dataframe tbody tr th:only-of-type {\n",
              "        vertical-align: middle;\n",
              "    }\n",
              "\n",
              "    .dataframe tbody tr th {\n",
              "        vertical-align: top;\n",
              "    }\n",
              "\n",
              "    .dataframe thead th {\n",
              "        text-align: right;\n",
              "    }\n",
              "</style>\n",
              "<table border=\"1\" class=\"dataframe\">\n",
              "  <thead>\n",
              "    <tr style=\"text-align: right;\">\n",
              "      <th></th>\n",
              "      <th>Song</th>\n",
              "      <th>Artist</th>\n",
              "      <th>Release_Year</th>\n",
              "      <th>PlayCount</th>\n",
              "    </tr>\n",
              "  </thead>\n",
              "  <tbody>\n",
              "    <tr>\n",
              "      <th>0</th>\n",
              "      <td>Caught Up in You</td>\n",
              "      <td>.38 Special</td>\n",
              "      <td>1982</td>\n",
              "      <td>82</td>\n",
              "    </tr>\n",
              "    <tr>\n",
              "      <th>1</th>\n",
              "      <td>Hold On Loosely</td>\n",
              "      <td>.38 Special</td>\n",
              "      <td>1981</td>\n",
              "      <td>85</td>\n",
              "    </tr>\n",
              "    <tr>\n",
              "      <th>2</th>\n",
              "      <td>Rockin' Into the Night</td>\n",
              "      <td>.38 Special</td>\n",
              "      <td>1980</td>\n",
              "      <td>18</td>\n",
              "    </tr>\n",
              "    <tr>\n",
              "      <th>3</th>\n",
              "      <td>Art For Arts Sake</td>\n",
              "      <td>10cc</td>\n",
              "      <td>1975</td>\n",
              "      <td>1</td>\n",
              "    </tr>\n",
              "    <tr>\n",
              "      <th>4</th>\n",
              "      <td>Kryptonite</td>\n",
              "      <td>3 Doors Down</td>\n",
              "      <td>2000</td>\n",
              "      <td>13</td>\n",
              "    </tr>\n",
              "  </tbody>\n",
              "</table>\n",
              "</div>"
            ],
            "text/plain": [
              "                     Song        Artist Release_Year PlayCount\n",
              "0        Caught Up in You   .38 Special         1982        82\n",
              "1         Hold On Loosely   .38 Special         1981        85\n",
              "2  Rockin' Into the Night   .38 Special         1980        18\n",
              "3       Art For Arts Sake          10cc         1975         1\n",
              "4              Kryptonite  3 Doors Down         2000        13"
            ]
          },
          "metadata": {
            "tags": []
          },
          "execution_count": 4
        }
      ]
    },
    {
      "cell_type": "code",
      "metadata": {
        "colab": {
          "base_uri": "https://localhost:8080/",
          "height": 204
        },
        "id": "h0MqNY_d-2Dk",
        "outputId": "03292071-f4ab-4011-9d64-451b6d2523da"
      },
      "source": [
        "# We can also run any supported SQL query\n",
        "# Write the query\n",
        "query = '''\n",
        "SELECT Artist, Release_Year, COUNT(*) AS num_songs, AVG(PlayCount) AS avg_plays  \n",
        "    FROM rock_songs\n",
        "    GROUP BY Artist, Release_Year\n",
        "    ORDER BY num_songs desc;\n",
        "'''\n",
        "\n",
        "# Execute the query\n",
        "observations = pds.read_sql(query, con)\n",
        "\n",
        "observations.head()"
      ],
      "execution_count": 7,
      "outputs": [
        {
          "output_type": "execute_result",
          "data": {
            "text/html": [
              "<div>\n",
              "<style scoped>\n",
              "    .dataframe tbody tr th:only-of-type {\n",
              "        vertical-align: middle;\n",
              "    }\n",
              "\n",
              "    .dataframe tbody tr th {\n",
              "        vertical-align: top;\n",
              "    }\n",
              "\n",
              "    .dataframe thead th {\n",
              "        text-align: right;\n",
              "    }\n",
              "</style>\n",
              "<table border=\"1\" class=\"dataframe\">\n",
              "  <thead>\n",
              "    <tr style=\"text-align: right;\">\n",
              "      <th></th>\n",
              "      <th>Artist</th>\n",
              "      <th>Release_Year</th>\n",
              "      <th>num_songs</th>\n",
              "      <th>avg_plays</th>\n",
              "    </tr>\n",
              "  </thead>\n",
              "  <tbody>\n",
              "    <tr>\n",
              "      <th>0</th>\n",
              "      <td>Good Times Roll</td>\n",
              "      <td>Cars</td>\n",
              "      <td>28</td>\n",
              "      <td>0.000000</td>\n",
              "    </tr>\n",
              "    <tr>\n",
              "      <th>1</th>\n",
              "      <td>The Beatles</td>\n",
              "      <td>1967</td>\n",
              "      <td>23</td>\n",
              "      <td>6.565217</td>\n",
              "    </tr>\n",
              "    <tr>\n",
              "      <th>2</th>\n",
              "      <td>Led Zeppelin</td>\n",
              "      <td>1969</td>\n",
              "      <td>18</td>\n",
              "      <td>21.000000</td>\n",
              "    </tr>\n",
              "    <tr>\n",
              "      <th>3</th>\n",
              "      <td>The Beatles</td>\n",
              "      <td>1965</td>\n",
              "      <td>15</td>\n",
              "      <td>3.800000</td>\n",
              "    </tr>\n",
              "    <tr>\n",
              "      <th>4</th>\n",
              "      <td>The Beatles</td>\n",
              "      <td>1968</td>\n",
              "      <td>13</td>\n",
              "      <td>13.000000</td>\n",
              "    </tr>\n",
              "  </tbody>\n",
              "</table>\n",
              "</div>"
            ],
            "text/plain": [
              "            Artist Release_Year  num_songs  avg_plays\n",
              "0  Good Times Roll         Cars         28   0.000000\n",
              "1      The Beatles         1967         23   6.565217\n",
              "2     Led Zeppelin         1969         18  21.000000\n",
              "3      The Beatles         1965         15   3.800000\n",
              "4      The Beatles         1968         13  13.000000"
            ]
          },
          "metadata": {
            "tags": []
          },
          "execution_count": 7
        }
      ]
    },
    {
      "cell_type": "markdown",
      "metadata": {
        "id": "ZjUNNx8--2Dl"
      },
      "source": [
        "## Common parameters\n",
        "\n",
        "There are a number of common paramters that can be used to read in SQL data with formatting:\n",
        "\n",
        " - coerce_float: Attempt to force numbers into floats\n",
        " - parse_dates: List of columns to parse as dates\n",
        " - chunksize: Number of rows to include in each chunk\n",
        " \n",
        "Let's have a look at using some of these parameters"
      ]
    },
    {
      "cell_type": "code",
      "metadata": {
        "colab": {
          "base_uri": "https://localhost:8080/",
          "height": 1000
        },
        "id": "NWDWS_UL-2Dl",
        "outputId": "31a6003c-cf35-4cd4-9d26-84ac8b40e13b"
      },
      "source": [
        "query='''\n",
        "SELECT Artist, Release_Year, COUNT(*) AS num_songs, AVG(PlayCount) AS avg_plays  \n",
        "    FROM rock_songs\n",
        "    GROUP BY Artist, Release_Year\n",
        "    ORDER BY num_songs desc;\n",
        "'''\n",
        "\n",
        "# Execute the query\n",
        "observations_generator = pds.read_sql(query,\n",
        "                            con,\n",
        "                            coerce_float=True, # Doesn't efefct this dataset, because floats were correctly parsed\n",
        "                            parse_dates=['Release_Year'], # Parse `Release_Year` as a date\n",
        "                            chunksize=5 # Allows for streaming results as a series of shorter tables\n",
        "                           )\n",
        "\n",
        "for index, observations in enumerate(observations_generator):\n",
        "    if index < 5:\n",
        "        print(f'Observations index: {index}'.format(index))\n",
        "        display(observations)"
      ],
      "execution_count": 8,
      "outputs": [
        {
          "output_type": "stream",
          "text": [
            "Observations index: 0\n"
          ],
          "name": "stdout"
        },
        {
          "output_type": "display_data",
          "data": {
            "text/html": [
              "<div>\n",
              "<style scoped>\n",
              "    .dataframe tbody tr th:only-of-type {\n",
              "        vertical-align: middle;\n",
              "    }\n",
              "\n",
              "    .dataframe tbody tr th {\n",
              "        vertical-align: top;\n",
              "    }\n",
              "\n",
              "    .dataframe thead th {\n",
              "        text-align: right;\n",
              "    }\n",
              "</style>\n",
              "<table border=\"1\" class=\"dataframe\">\n",
              "  <thead>\n",
              "    <tr style=\"text-align: right;\">\n",
              "      <th></th>\n",
              "      <th>Artist</th>\n",
              "      <th>Release_Year</th>\n",
              "      <th>num_songs</th>\n",
              "      <th>avg_plays</th>\n",
              "    </tr>\n",
              "  </thead>\n",
              "  <tbody>\n",
              "    <tr>\n",
              "      <th>0</th>\n",
              "      <td>Good Times Roll</td>\n",
              "      <td>NaT</td>\n",
              "      <td>28</td>\n",
              "      <td>0.000000</td>\n",
              "    </tr>\n",
              "    <tr>\n",
              "      <th>1</th>\n",
              "      <td>The Beatles</td>\n",
              "      <td>1970-01-01 00:00:00.000001967</td>\n",
              "      <td>23</td>\n",
              "      <td>6.565217</td>\n",
              "    </tr>\n",
              "    <tr>\n",
              "      <th>2</th>\n",
              "      <td>Led Zeppelin</td>\n",
              "      <td>1970-01-01 00:00:00.000001969</td>\n",
              "      <td>18</td>\n",
              "      <td>21.000000</td>\n",
              "    </tr>\n",
              "    <tr>\n",
              "      <th>3</th>\n",
              "      <td>The Beatles</td>\n",
              "      <td>1970-01-01 00:00:00.000001965</td>\n",
              "      <td>15</td>\n",
              "      <td>3.800000</td>\n",
              "    </tr>\n",
              "    <tr>\n",
              "      <th>4</th>\n",
              "      <td>The Beatles</td>\n",
              "      <td>1970-01-01 00:00:00.000001968</td>\n",
              "      <td>13</td>\n",
              "      <td>13.000000</td>\n",
              "    </tr>\n",
              "  </tbody>\n",
              "</table>\n",
              "</div>"
            ],
            "text/plain": [
              "            Artist                  Release_Year  num_songs  avg_plays\n",
              "0  Good Times Roll                           NaT         28   0.000000\n",
              "1      The Beatles 1970-01-01 00:00:00.000001967         23   6.565217\n",
              "2     Led Zeppelin 1970-01-01 00:00:00.000001969         18  21.000000\n",
              "3      The Beatles 1970-01-01 00:00:00.000001965         15   3.800000\n",
              "4      The Beatles 1970-01-01 00:00:00.000001968         13  13.000000"
            ]
          },
          "metadata": {
            "tags": []
          }
        },
        {
          "output_type": "stream",
          "text": [
            "Observations index: 1\n"
          ],
          "name": "stdout"
        },
        {
          "output_type": "display_data",
          "data": {
            "text/html": [
              "<div>\n",
              "<style scoped>\n",
              "    .dataframe tbody tr th:only-of-type {\n",
              "        vertical-align: middle;\n",
              "    }\n",
              "\n",
              "    .dataframe tbody tr th {\n",
              "        vertical-align: top;\n",
              "    }\n",
              "\n",
              "    .dataframe thead th {\n",
              "        text-align: right;\n",
              "    }\n",
              "</style>\n",
              "<table border=\"1\" class=\"dataframe\">\n",
              "  <thead>\n",
              "    <tr style=\"text-align: right;\">\n",
              "      <th></th>\n",
              "      <th>Artist</th>\n",
              "      <th>Release_Year</th>\n",
              "      <th>num_songs</th>\n",
              "      <th>avg_plays</th>\n",
              "    </tr>\n",
              "  </thead>\n",
              "  <tbody>\n",
              "    <tr>\n",
              "      <th>0</th>\n",
              "      <td>The Beatles</td>\n",
              "      <td>1970-01-01 00:32:49</td>\n",
              "      <td>13</td>\n",
              "      <td>15.000000</td>\n",
              "    </tr>\n",
              "    <tr>\n",
              "      <th>1</th>\n",
              "      <td>Led Zeppelin</td>\n",
              "      <td>1970-01-01 00:32:50</td>\n",
              "      <td>12</td>\n",
              "      <td>13.166667</td>\n",
              "    </tr>\n",
              "    <tr>\n",
              "      <th>2</th>\n",
              "      <td>Led Zeppelin</td>\n",
              "      <td>1970-01-01 00:32:55</td>\n",
              "      <td>12</td>\n",
              "      <td>14.166667</td>\n",
              "    </tr>\n",
              "    <tr>\n",
              "      <th>3</th>\n",
              "      <td>Pink Floyd</td>\n",
              "      <td>1970-01-01 00:32:59</td>\n",
              "      <td>11</td>\n",
              "      <td>41.454545</td>\n",
              "    </tr>\n",
              "    <tr>\n",
              "      <th>4</th>\n",
              "      <td>Pink Floyd</td>\n",
              "      <td>1970-01-01 00:32:53</td>\n",
              "      <td>10</td>\n",
              "      <td>29.100000</td>\n",
              "    </tr>\n",
              "  </tbody>\n",
              "</table>\n",
              "</div>"
            ],
            "text/plain": [
              "         Artist        Release_Year  num_songs  avg_plays\n",
              "0   The Beatles 1970-01-01 00:32:49         13  15.000000\n",
              "1  Led Zeppelin 1970-01-01 00:32:50         12  13.166667\n",
              "2  Led Zeppelin 1970-01-01 00:32:55         12  14.166667\n",
              "3    Pink Floyd 1970-01-01 00:32:59         11  41.454545\n",
              "4    Pink Floyd 1970-01-01 00:32:53         10  29.100000"
            ]
          },
          "metadata": {
            "tags": []
          }
        },
        {
          "output_type": "stream",
          "text": [
            "Observations index: 2\n"
          ],
          "name": "stdout"
        },
        {
          "output_type": "display_data",
          "data": {
            "text/html": [
              "<div>\n",
              "<style scoped>\n",
              "    .dataframe tbody tr th:only-of-type {\n",
              "        vertical-align: middle;\n",
              "    }\n",
              "\n",
              "    .dataframe tbody tr th {\n",
              "        vertical-align: top;\n",
              "    }\n",
              "\n",
              "    .dataframe thead th {\n",
              "        text-align: right;\n",
              "    }\n",
              "</style>\n",
              "<table border=\"1\" class=\"dataframe\">\n",
              "  <thead>\n",
              "    <tr style=\"text-align: right;\">\n",
              "      <th></th>\n",
              "      <th>Artist</th>\n",
              "      <th>Release_Year</th>\n",
              "      <th>num_songs</th>\n",
              "      <th>avg_plays</th>\n",
              "    </tr>\n",
              "  </thead>\n",
              "  <tbody>\n",
              "    <tr>\n",
              "      <th>0</th>\n",
              "      <td>The Doors</td>\n",
              "      <td>1970-01-01 00:32:47</td>\n",
              "      <td>10</td>\n",
              "      <td>28.900000</td>\n",
              "    </tr>\n",
              "    <tr>\n",
              "      <th>1</th>\n",
              "      <td>Fleetwood Mac</td>\n",
              "      <td>1970-01-01 00:32:57</td>\n",
              "      <td>9</td>\n",
              "      <td>35.666667</td>\n",
              "    </tr>\n",
              "    <tr>\n",
              "      <th>2</th>\n",
              "      <td>Jimi Hendrix</td>\n",
              "      <td>1970-01-01 00:32:47</td>\n",
              "      <td>9</td>\n",
              "      <td>24.888889</td>\n",
              "    </tr>\n",
              "    <tr>\n",
              "      <th>3</th>\n",
              "      <td>The Beatles</td>\n",
              "      <td>1970-01-01 00:32:43</td>\n",
              "      <td>9</td>\n",
              "      <td>2.444444</td>\n",
              "    </tr>\n",
              "    <tr>\n",
              "      <th>4</th>\n",
              "      <td>The Beatles</td>\n",
              "      <td>1970-01-01 00:32:44</td>\n",
              "      <td>9</td>\n",
              "      <td>3.111111</td>\n",
              "    </tr>\n",
              "  </tbody>\n",
              "</table>\n",
              "</div>"
            ],
            "text/plain": [
              "          Artist        Release_Year  num_songs  avg_plays\n",
              "0      The Doors 1970-01-01 00:32:47         10  28.900000\n",
              "1  Fleetwood Mac 1970-01-01 00:32:57          9  35.666667\n",
              "2   Jimi Hendrix 1970-01-01 00:32:47          9  24.888889\n",
              "3    The Beatles 1970-01-01 00:32:43          9   2.444444\n",
              "4    The Beatles 1970-01-01 00:32:44          9   3.111111"
            ]
          },
          "metadata": {
            "tags": []
          }
        },
        {
          "output_type": "stream",
          "text": [
            "Observations index: 3\n"
          ],
          "name": "stdout"
        },
        {
          "output_type": "display_data",
          "data": {
            "text/html": [
              "<div>\n",
              "<style scoped>\n",
              "    .dataframe tbody tr th:only-of-type {\n",
              "        vertical-align: middle;\n",
              "    }\n",
              "\n",
              "    .dataframe tbody tr th {\n",
              "        vertical-align: top;\n",
              "    }\n",
              "\n",
              "    .dataframe thead th {\n",
              "        text-align: right;\n",
              "    }\n",
              "</style>\n",
              "<table border=\"1\" class=\"dataframe\">\n",
              "  <thead>\n",
              "    <tr style=\"text-align: right;\">\n",
              "      <th></th>\n",
              "      <th>Artist</th>\n",
              "      <th>Release_Year</th>\n",
              "      <th>num_songs</th>\n",
              "      <th>avg_plays</th>\n",
              "    </tr>\n",
              "  </thead>\n",
              "  <tbody>\n",
              "    <tr>\n",
              "      <th>0</th>\n",
              "      <td>Elton John</td>\n",
              "      <td>1970-01-01 00:32:53</td>\n",
              "      <td>8</td>\n",
              "      <td>18.500000</td>\n",
              "    </tr>\n",
              "    <tr>\n",
              "      <th>1</th>\n",
              "      <td>Led Zeppelin</td>\n",
              "      <td>1970-01-01 00:32:51</td>\n",
              "      <td>8</td>\n",
              "      <td>47.750000</td>\n",
              "    </tr>\n",
              "    <tr>\n",
              "      <th>2</th>\n",
              "      <td>Led Zeppelin</td>\n",
              "      <td>1970-01-01 00:32:53</td>\n",
              "      <td>8</td>\n",
              "      <td>34.125000</td>\n",
              "    </tr>\n",
              "    <tr>\n",
              "      <th>3</th>\n",
              "      <td>Boston</td>\n",
              "      <td>1970-01-01 00:32:56</td>\n",
              "      <td>7</td>\n",
              "      <td>69.285714</td>\n",
              "    </tr>\n",
              "    <tr>\n",
              "      <th>4</th>\n",
              "      <td>Rolling Stones</td>\n",
              "      <td>1970-01-01 00:32:49</td>\n",
              "      <td>7</td>\n",
              "      <td>36.142857</td>\n",
              "    </tr>\n",
              "  </tbody>\n",
              "</table>\n",
              "</div>"
            ],
            "text/plain": [
              "           Artist        Release_Year  num_songs  avg_plays\n",
              "0      Elton John 1970-01-01 00:32:53          8  18.500000\n",
              "1    Led Zeppelin 1970-01-01 00:32:51          8  47.750000\n",
              "2    Led Zeppelin 1970-01-01 00:32:53          8  34.125000\n",
              "3          Boston 1970-01-01 00:32:56          7  69.285714\n",
              "4  Rolling Stones 1970-01-01 00:32:49          7  36.142857"
            ]
          },
          "metadata": {
            "tags": []
          }
        },
        {
          "output_type": "stream",
          "text": [
            "Observations index: 4\n"
          ],
          "name": "stdout"
        },
        {
          "output_type": "display_data",
          "data": {
            "text/html": [
              "<div>\n",
              "<style scoped>\n",
              "    .dataframe tbody tr th:only-of-type {\n",
              "        vertical-align: middle;\n",
              "    }\n",
              "\n",
              "    .dataframe tbody tr th {\n",
              "        vertical-align: top;\n",
              "    }\n",
              "\n",
              "    .dataframe thead th {\n",
              "        text-align: right;\n",
              "    }\n",
              "</style>\n",
              "<table border=\"1\" class=\"dataframe\">\n",
              "  <thead>\n",
              "    <tr style=\"text-align: right;\">\n",
              "      <th></th>\n",
              "      <th>Artist</th>\n",
              "      <th>Release_Year</th>\n",
              "      <th>num_songs</th>\n",
              "      <th>avg_plays</th>\n",
              "    </tr>\n",
              "  </thead>\n",
              "  <tbody>\n",
              "    <tr>\n",
              "      <th>0</th>\n",
              "      <td>Van Halen</td>\n",
              "      <td>1970-01-01 00:32:58</td>\n",
              "      <td>7</td>\n",
              "      <td>51.142857</td>\n",
              "    </tr>\n",
              "    <tr>\n",
              "      <th>1</th>\n",
              "      <td>Def Leppard</td>\n",
              "      <td>1970-01-01 00:33:07</td>\n",
              "      <td>6</td>\n",
              "      <td>32.000000</td>\n",
              "    </tr>\n",
              "    <tr>\n",
              "      <th>2</th>\n",
              "      <td>Nirvana</td>\n",
              "      <td>1970-01-01 00:33:11</td>\n",
              "      <td>6</td>\n",
              "      <td>14.666667</td>\n",
              "    </tr>\n",
              "    <tr>\n",
              "      <th>3</th>\n",
              "      <td>Paul McCartney &amp; Wings</td>\n",
              "      <td>1970-01-01 00:32:53</td>\n",
              "      <td>6</td>\n",
              "      <td>25.500000</td>\n",
              "    </tr>\n",
              "    <tr>\n",
              "      <th>4</th>\n",
              "      <td>The Beatles</td>\n",
              "      <td>1970-01-01 00:32:46</td>\n",
              "      <td>6</td>\n",
              "      <td>6.000000</td>\n",
              "    </tr>\n",
              "  </tbody>\n",
              "</table>\n",
              "</div>"
            ],
            "text/plain": [
              "                   Artist        Release_Year  num_songs  avg_plays\n",
              "0               Van Halen 1970-01-01 00:32:58          7  51.142857\n",
              "1             Def Leppard 1970-01-01 00:33:07          6  32.000000\n",
              "2                 Nirvana 1970-01-01 00:33:11          6  14.666667\n",
              "3  Paul McCartney & Wings 1970-01-01 00:32:53          6  25.500000\n",
              "4             The Beatles 1970-01-01 00:32:46          6   6.000000"
            ]
          },
          "metadata": {
            "tags": []
          }
        }
      ]
    },
    {
      "cell_type": "code",
      "metadata": {
        "id": "UID3njmABVqe"
      },
      "source": [
        ""
      ],
      "execution_count": null,
      "outputs": []
    }
  ]
}